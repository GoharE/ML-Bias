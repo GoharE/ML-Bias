{
 "cells": [
  {
   "cell_type": "code",
   "execution_count": 1,
   "metadata": {
    "colab": {
     "autoexec": {
      "startup": false,
      "wait_interval": 0
     }
    },
    "colab_type": "code",
    "id": "yrcUAQJW7veQ",
    "outputId": "85407e4f-a1bc-47b4-eadb-708270efb88f"
   },
   "outputs": [
    {
     "name": "stdout",
     "output_type": "stream",
     "text": [
      "Populating the interactive namespace from numpy and matplotlib\n"
     ]
    }
   ],
   "source": [
    "import pandas as pd\n",
    "import numpy as np\n",
    "import seaborn as sns\n",
    "%pylab inline\n",
    "\n",
    "from themis_ml import meta_estimators as estimators\n",
    "from themis_ml import metrics as metrics\n",
    "\n",
    "import sklearn as sk\n",
    "import sklearn.tree as tree\n",
    "from IPython.display import Image  \n",
    "#import pydotplus\n",
    "\n",
    "# print all outputs within a cell\n",
    "from IPython.core.interactiveshell import InteractiveShell\n",
    "InteractiveShell.ast_node_interactivity = 'all'"
   ]
  },
  {
   "cell_type": "markdown",
   "metadata": {
    "colab_type": "text",
    "id": "bqouPvtE7vew"
   },
   "source": [
    "## Reading and Merging the files"
   ]
  },
  {
   "cell_type": "code",
   "execution_count": 2,
   "metadata": {
    "colab": {
     "autoexec": {
      "startup": false,
      "wait_interval": 0
     }
    },
    "colab_type": "code",
    "id": "dgHCSLTe7vgw"
   },
   "outputs": [],
   "source": [
    "charge = pd.read_csv(\"df_charge.csv\")"
   ]
  },
  {
   "cell_type": "code",
   "execution_count": 3,
   "metadata": {
    "colab": {
     "autoexec": {
      "startup": false,
      "wait_interval": 0
     }
    },
    "colab_type": "code",
    "id": "f3YXZWFJ7vg4",
    "outputId": "b9231daf-6533-4b76-a9a0-584c42f7eb7f"
   },
   "outputs": [
    {
     "data": {
      "text/plain": [
       "148086"
      ]
     },
     "execution_count": 3,
     "metadata": {},
     "output_type": "execute_result"
    }
   ],
   "source": [
    "len(charge)"
   ]
  },
  {
   "cell_type": "code",
   "execution_count": 4,
   "metadata": {
    "colab": {
     "autoexec": {
      "startup": false,
      "wait_interval": 0
     }
    },
    "colab_type": "code",
    "id": "Oj5Phc8U7vg-",
    "outputId": "973a4c3d-0aa4-419e-fd5b-4205bd05efd1"
   },
   "outputs": [
    {
     "data": {
      "text/html": [
       "<div>\n",
       "<style scoped>\n",
       "    .dataframe tbody tr th:only-of-type {\n",
       "        vertical-align: middle;\n",
       "    }\n",
       "\n",
       "    .dataframe tbody tr th {\n",
       "        vertical-align: top;\n",
       "    }\n",
       "\n",
       "    .dataframe thead th {\n",
       "        text-align: right;\n",
       "    }\n",
       "</style>\n",
       "<table border=\"1\" class=\"dataframe\">\n",
       "  <thead>\n",
       "    <tr style=\"text-align: right;\">\n",
       "      <th></th>\n",
       "      <th>Unnamed: 0</th>\n",
       "      <th>id</th>\n",
       "      <th>case_type</th>\n",
       "      <th>case_number</th>\n",
       "      <th>filing_date</th>\n",
       "      <th>offense_date</th>\n",
       "      <th>charge_number</th>\n",
       "      <th>charge_degree</th>\n",
       "      <th>charge</th>\n",
       "      <th>date_charge_filed</th>\n",
       "      <th>filing_type</th>\n",
       "      <th>filing_agency</th>\n",
       "      <th>name</th>\n",
       "      <th>days_since_compas</th>\n",
       "      <th>statute</th>\n",
       "      <th>person_id</th>\n",
       "    </tr>\n",
       "  </thead>\n",
       "  <tbody>\n",
       "    <tr>\n",
       "      <th>0</th>\n",
       "      <td>1</td>\n",
       "      <td>1</td>\n",
       "      <td>NaN</td>\n",
       "      <td>13005832CF10A</td>\n",
       "      <td>1800-01-01 00:00:00.000000</td>\n",
       "      <td>2013-04-23 00:00:00.000000</td>\n",
       "      <td>1</td>\n",
       "      <td>(F3)</td>\n",
       "      <td>Driving While License Revoked</td>\n",
       "      <td>2013-04-23 00:00:00</td>\n",
       "      <td>No Information/ Transfer to Misdemeanor</td>\n",
       "      <td>Fort Lauderdale PD</td>\n",
       "      <td>aajah herrington</td>\n",
       "      <td>1</td>\n",
       "      <td>322.34(5)</td>\n",
       "      <td>533</td>\n",
       "    </tr>\n",
       "    <tr>\n",
       "      <th>1</th>\n",
       "      <td>2</td>\n",
       "      <td>2</td>\n",
       "      <td>NaN</td>\n",
       "      <td>13005832CF10A</td>\n",
       "      <td>1800-01-01 00:00:00.000000</td>\n",
       "      <td>2013-04-23 00:00:00.000000</td>\n",
       "      <td>2</td>\n",
       "      <td>(M2)</td>\n",
       "      <td>Petit Theft</td>\n",
       "      <td>2013-04-23 00:00:00</td>\n",
       "      <td>Transfer to County Court</td>\n",
       "      <td>Fort Lauderdale PD</td>\n",
       "      <td>aajah herrington</td>\n",
       "      <td>1</td>\n",
       "      <td>812.014(3)(a)</td>\n",
       "      <td>533</td>\n",
       "    </tr>\n",
       "  </tbody>\n",
       "</table>\n",
       "</div>"
      ],
      "text/plain": [
       "   Unnamed: 0  id  case_type    case_number                 filing_date  \\\n",
       "0           1   1        NaN  13005832CF10A  1800-01-01 00:00:00.000000   \n",
       "1           2   2        NaN  13005832CF10A  1800-01-01 00:00:00.000000   \n",
       "\n",
       "                 offense_date  charge_number charge_degree  \\\n",
       "0  2013-04-23 00:00:00.000000              1          (F3)   \n",
       "1  2013-04-23 00:00:00.000000              2          (M2)   \n",
       "\n",
       "                          charge    date_charge_filed  \\\n",
       "0  Driving While License Revoked  2013-04-23 00:00:00   \n",
       "1                    Petit Theft  2013-04-23 00:00:00   \n",
       "\n",
       "                               filing_type       filing_agency  \\\n",
       "0  No Information/ Transfer to Misdemeanor  Fort Lauderdale PD   \n",
       "1                 Transfer to County Court  Fort Lauderdale PD   \n",
       "\n",
       "               name  days_since_compas        statute  person_id  \n",
       "0  aajah herrington                  1      322.34(5)        533  \n",
       "1  aajah herrington                  1  812.014(3)(a)        533  "
      ]
     },
     "execution_count": 4,
     "metadata": {},
     "output_type": "execute_result"
    }
   ],
   "source": [
    "charge.head(2)"
   ]
  },
  {
   "cell_type": "code",
   "execution_count": 5,
   "metadata": {
    "colab": {
     "autoexec": {
      "startup": false,
      "wait_interval": 0
     }
    },
    "colab_type": "code",
    "id": "jKTLzUDp7vhH"
   },
   "outputs": [],
   "source": [
    "compas = pd.read_csv(\"df_compas.csv\")"
   ]
  },
  {
   "cell_type": "code",
   "execution_count": 6,
   "metadata": {
    "colab": {
     "autoexec": {
      "startup": false,
      "wait_interval": 0
     }
    },
    "colab_type": "code",
    "id": "LzFqfp9W7vhN",
    "outputId": "c93dc53f-31e9-43e6-912f-36a21151a82b"
   },
   "outputs": [
    {
     "data": {
      "text/plain": [
       "37578"
      ]
     },
     "execution_count": 6,
     "metadata": {},
     "output_type": "execute_result"
    }
   ],
   "source": [
    "len(compas)"
   ]
  },
  {
   "cell_type": "code",
   "execution_count": 7,
   "metadata": {
    "colab": {
     "autoexec": {
      "startup": false,
      "wait_interval": 0
     }
    },
    "colab_type": "code",
    "id": "tlVK0jmZ7vhT",
    "outputId": "e1e16b83-0173-43b4-a353-1470200ce8fd"
   },
   "outputs": [
    {
     "data": {
      "text/html": [
       "<div>\n",
       "<style scoped>\n",
       "    .dataframe tbody tr th:only-of-type {\n",
       "        vertical-align: middle;\n",
       "    }\n",
       "\n",
       "    .dataframe tbody tr th {\n",
       "        vertical-align: top;\n",
       "    }\n",
       "\n",
       "    .dataframe thead th {\n",
       "        text-align: right;\n",
       "    }\n",
       "</style>\n",
       "<table border=\"1\" class=\"dataframe\">\n",
       "  <thead>\n",
       "    <tr style=\"text-align: right;\">\n",
       "      <th></th>\n",
       "      <th>Unnamed: 0</th>\n",
       "      <th>id</th>\n",
       "      <th>first</th>\n",
       "      <th>last</th>\n",
       "      <th>compas_person_id</th>\n",
       "      <th>compas_case_id</th>\n",
       "      <th>compas_assessment_id</th>\n",
       "      <th>agency_text</th>\n",
       "      <th>scale_set</th>\n",
       "      <th>assessment_reason</th>\n",
       "      <th>...</th>\n",
       "      <th>marital_status</th>\n",
       "      <th>screening_date</th>\n",
       "      <th>rec_supervision_level</th>\n",
       "      <th>rec_supervision_level_text</th>\n",
       "      <th>score_text</th>\n",
       "      <th>scale_id</th>\n",
       "      <th>type_of_assessment</th>\n",
       "      <th>raw_score</th>\n",
       "      <th>decile_score</th>\n",
       "      <th>person_id</th>\n",
       "    </tr>\n",
       "  </thead>\n",
       "  <tbody>\n",
       "    <tr>\n",
       "      <th>0</th>\n",
       "      <td>1</td>\n",
       "      <td>1</td>\n",
       "      <td>miguel</td>\n",
       "      <td>hernandez</td>\n",
       "      <td>56418</td>\n",
       "      <td>58393</td>\n",
       "      <td>64352</td>\n",
       "      <td>PRETRIAL</td>\n",
       "      <td>Risk and Prescreen</td>\n",
       "      <td>Intake</td>\n",
       "      <td>...</td>\n",
       "      <td>Single</td>\n",
       "      <td>2013-08-14 00:00:00.000000</td>\n",
       "      <td>1</td>\n",
       "      <td>Low</td>\n",
       "      <td>Low</td>\n",
       "      <td>7</td>\n",
       "      <td>Risk of Violence</td>\n",
       "      <td>-4.31</td>\n",
       "      <td>1</td>\n",
       "      <td>1</td>\n",
       "    </tr>\n",
       "    <tr>\n",
       "      <th>1</th>\n",
       "      <td>2</td>\n",
       "      <td>2</td>\n",
       "      <td>miguel</td>\n",
       "      <td>hernandez</td>\n",
       "      <td>56418</td>\n",
       "      <td>58393</td>\n",
       "      <td>64352</td>\n",
       "      <td>PRETRIAL</td>\n",
       "      <td>Risk and Prescreen</td>\n",
       "      <td>Intake</td>\n",
       "      <td>...</td>\n",
       "      <td>Single</td>\n",
       "      <td>2013-08-14 00:00:00.000000</td>\n",
       "      <td>1</td>\n",
       "      <td>Low</td>\n",
       "      <td>Low</td>\n",
       "      <td>8</td>\n",
       "      <td>Risk of Recidivism</td>\n",
       "      <td>-2.78</td>\n",
       "      <td>1</td>\n",
       "      <td>1</td>\n",
       "    </tr>\n",
       "  </tbody>\n",
       "</table>\n",
       "<p>2 rows × 22 columns</p>\n",
       "</div>"
      ],
      "text/plain": [
       "   Unnamed: 0  id   first       last  compas_person_id  compas_case_id  \\\n",
       "0           1   1  miguel  hernandez             56418           58393   \n",
       "1           2   2  miguel  hernandez             56418           58393   \n",
       "\n",
       "   compas_assessment_id agency_text           scale_set assessment_reason  \\\n",
       "0                 64352    PRETRIAL  Risk and Prescreen            Intake   \n",
       "1                 64352    PRETRIAL  Risk and Prescreen            Intake   \n",
       "\n",
       "   ... marital_status              screening_date rec_supervision_level  \\\n",
       "0  ...         Single  2013-08-14 00:00:00.000000                     1   \n",
       "1  ...         Single  2013-08-14 00:00:00.000000                     1   \n",
       "\n",
       "  rec_supervision_level_text  score_text scale_id  type_of_assessment  \\\n",
       "0                        Low         Low        7    Risk of Violence   \n",
       "1                        Low         Low        8  Risk of Recidivism   \n",
       "\n",
       "   raw_score decile_score  person_id  \n",
       "0      -4.31            1          1  \n",
       "1      -2.78            1          1  \n",
       "\n",
       "[2 rows x 22 columns]"
      ]
     },
     "execution_count": 7,
     "metadata": {},
     "output_type": "execute_result"
    }
   ],
   "source": [
    "compas.head(2)"
   ]
  },
  {
   "cell_type": "code",
   "execution_count": 8,
   "metadata": {},
   "outputs": [
    {
     "data": {
      "text/plain": [
       "Low       24577\n",
       "Medium     8154\n",
       "High       4826\n",
       "Name: score_text, dtype: int64"
      ]
     },
     "execution_count": 8,
     "metadata": {},
     "output_type": "execute_result"
    }
   ],
   "source": [
    "compas.score_text.value_counts()"
   ]
  },
  {
   "cell_type": "code",
   "execution_count": 9,
   "metadata": {
    "colab": {
     "autoexec": {
      "startup": false,
      "wait_interval": 0
     }
    },
    "colab_type": "code",
    "id": "AYjLjtor7vhc"
   },
   "outputs": [],
   "source": [
    "people = pd.read_csv(\"df_people.csv\")"
   ]
  },
  {
   "cell_type": "code",
   "execution_count": 10,
   "metadata": {
    "colab": {
     "autoexec": {
      "startup": false,
      "wait_interval": 0
     }
    },
    "colab_type": "code",
    "id": "4fWyRTnB7vhh",
    "outputId": "164802fc-b6e4-4eb2-d508-9d636df43f01"
   },
   "outputs": [
    {
     "data": {
      "text/plain": [
       "11757"
      ]
     },
     "execution_count": 10,
     "metadata": {},
     "output_type": "execute_result"
    }
   ],
   "source": [
    "len(people)"
   ]
  },
  {
   "cell_type": "code",
   "execution_count": 11,
   "metadata": {
    "colab": {
     "autoexec": {
      "startup": false,
      "wait_interval": 0
     }
    },
    "colab_type": "code",
    "id": "X6XnFOHN7vho",
    "outputId": "1346ee06-8267-40ba-c021-2e4203263082"
   },
   "outputs": [
    {
     "data": {
      "text/html": [
       "<div>\n",
       "<style scoped>\n",
       "    .dataframe tbody tr th:only-of-type {\n",
       "        vertical-align: middle;\n",
       "    }\n",
       "\n",
       "    .dataframe tbody tr th {\n",
       "        vertical-align: top;\n",
       "    }\n",
       "\n",
       "    .dataframe thead th {\n",
       "        text-align: right;\n",
       "    }\n",
       "</style>\n",
       "<table border=\"1\" class=\"dataframe\">\n",
       "  <thead>\n",
       "    <tr style=\"text-align: right;\">\n",
       "      <th></th>\n",
       "      <th>Unnamed: 0</th>\n",
       "      <th>id</th>\n",
       "      <th>name</th>\n",
       "      <th>first</th>\n",
       "      <th>last</th>\n",
       "      <th>sex</th>\n",
       "      <th>race</th>\n",
       "      <th>dob</th>\n",
       "      <th>age</th>\n",
       "      <th>age_cat</th>\n",
       "      <th>...</th>\n",
       "      <th>r_offense_date</th>\n",
       "      <th>r_charge_desc</th>\n",
       "      <th>r_jail_in</th>\n",
       "      <th>r_jail_out</th>\n",
       "      <th>is_violent_recid</th>\n",
       "      <th>num_vr_cases</th>\n",
       "      <th>vr_case_number</th>\n",
       "      <th>vr_charge_degree</th>\n",
       "      <th>vr_offense_date</th>\n",
       "      <th>vr_charge_desc</th>\n",
       "    </tr>\n",
       "  </thead>\n",
       "  <tbody>\n",
       "    <tr>\n",
       "      <th>0</th>\n",
       "      <td>1</td>\n",
       "      <td>1</td>\n",
       "      <td>miguel hernandez</td>\n",
       "      <td>miguel</td>\n",
       "      <td>hernandez</td>\n",
       "      <td>Male</td>\n",
       "      <td>Other</td>\n",
       "      <td>1947-04-18 00:00:00.000000</td>\n",
       "      <td>69</td>\n",
       "      <td>Greater than 45</td>\n",
       "      <td>...</td>\n",
       "      <td>NaN</td>\n",
       "      <td>NaN</td>\n",
       "      <td>NaN</td>\n",
       "      <td>NaN</td>\n",
       "      <td>0</td>\n",
       "      <td>NaN</td>\n",
       "      <td>NaN</td>\n",
       "      <td>NaN</td>\n",
       "      <td>NaN</td>\n",
       "      <td>NaN</td>\n",
       "    </tr>\n",
       "    <tr>\n",
       "      <th>1</th>\n",
       "      <td>2</td>\n",
       "      <td>2</td>\n",
       "      <td>michael ryan</td>\n",
       "      <td>michael</td>\n",
       "      <td>ryan</td>\n",
       "      <td>Male</td>\n",
       "      <td>Caucasian</td>\n",
       "      <td>1985-02-06 00:00:00.000000</td>\n",
       "      <td>31</td>\n",
       "      <td>25 - 45</td>\n",
       "      <td>...</td>\n",
       "      <td>NaN</td>\n",
       "      <td>NaN</td>\n",
       "      <td>NaN</td>\n",
       "      <td>NaN</td>\n",
       "      <td>0</td>\n",
       "      <td>NaN</td>\n",
       "      <td>NaN</td>\n",
       "      <td>NaN</td>\n",
       "      <td>NaN</td>\n",
       "      <td>NaN</td>\n",
       "    </tr>\n",
       "  </tbody>\n",
       "</table>\n",
       "<p>2 rows × 42 columns</p>\n",
       "</div>"
      ],
      "text/plain": [
       "   Unnamed: 0  id              name    first       last   sex       race  \\\n",
       "0           1   1  miguel hernandez   miguel  hernandez  Male      Other   \n",
       "1           2   2      michael ryan  michael       ryan  Male  Caucasian   \n",
       "\n",
       "                          dob  age          age_cat  ...  r_offense_date  \\\n",
       "0  1947-04-18 00:00:00.000000   69  Greater than 45  ...             NaN   \n",
       "1  1985-02-06 00:00:00.000000   31          25 - 45  ...             NaN   \n",
       "\n",
       "   r_charge_desc  r_jail_in r_jail_out  is_violent_recid  num_vr_cases  \\\n",
       "0            NaN        NaN        NaN                 0           NaN   \n",
       "1            NaN        NaN        NaN                 0           NaN   \n",
       "\n",
       "   vr_case_number  vr_charge_degree  vr_offense_date vr_charge_desc  \n",
       "0             NaN               NaN              NaN            NaN  \n",
       "1             NaN               NaN              NaN            NaN  \n",
       "\n",
       "[2 rows x 42 columns]"
      ]
     },
     "execution_count": 11,
     "metadata": {},
     "output_type": "execute_result"
    }
   ],
   "source": [
    "people.head(2)"
   ]
  },
  {
   "cell_type": "code",
   "execution_count": 12,
   "metadata": {
    "colab": {
     "autoexec": {
      "startup": false,
      "wait_interval": 0
     }
    },
    "colab_type": "code",
    "id": "_VzfQXPo7viH"
   },
   "outputs": [],
   "source": [
    "compas['name'] = \"\""
   ]
  },
  {
   "cell_type": "code",
   "execution_count": 13,
   "metadata": {
    "colab": {
     "autoexec": {
      "startup": false,
      "wait_interval": 0
     }
    },
    "colab_type": "code",
    "id": "QZFCilEh7viL"
   },
   "outputs": [],
   "source": [
    "compas['name'] = compas['first'].astype(str) + \" \" + compas['last'].astype(str)"
   ]
  },
  {
   "cell_type": "code",
   "execution_count": 14,
   "metadata": {
    "colab": {
     "autoexec": {
      "startup": false,
      "wait_interval": 0
     }
    },
    "colab_type": "code",
    "id": "vFXGStR97viP",
    "outputId": "98736916-c943-4e25-a602-cc07d3c475e8"
   },
   "outputs": [
    {
     "data": {
      "text/html": [
       "<div>\n",
       "<style scoped>\n",
       "    .dataframe tbody tr th:only-of-type {\n",
       "        vertical-align: middle;\n",
       "    }\n",
       "\n",
       "    .dataframe tbody tr th {\n",
       "        vertical-align: top;\n",
       "    }\n",
       "\n",
       "    .dataframe thead th {\n",
       "        text-align: right;\n",
       "    }\n",
       "</style>\n",
       "<table border=\"1\" class=\"dataframe\">\n",
       "  <thead>\n",
       "    <tr style=\"text-align: right;\">\n",
       "      <th></th>\n",
       "      <th>Unnamed: 0</th>\n",
       "      <th>id</th>\n",
       "      <th>first</th>\n",
       "      <th>last</th>\n",
       "      <th>compas_person_id</th>\n",
       "      <th>compas_case_id</th>\n",
       "      <th>compas_assessment_id</th>\n",
       "      <th>agency_text</th>\n",
       "      <th>scale_set</th>\n",
       "      <th>assessment_reason</th>\n",
       "      <th>...</th>\n",
       "      <th>screening_date</th>\n",
       "      <th>rec_supervision_level</th>\n",
       "      <th>rec_supervision_level_text</th>\n",
       "      <th>score_text</th>\n",
       "      <th>scale_id</th>\n",
       "      <th>type_of_assessment</th>\n",
       "      <th>raw_score</th>\n",
       "      <th>decile_score</th>\n",
       "      <th>person_id</th>\n",
       "      <th>name</th>\n",
       "    </tr>\n",
       "  </thead>\n",
       "  <tbody>\n",
       "    <tr>\n",
       "      <th>0</th>\n",
       "      <td>1</td>\n",
       "      <td>1</td>\n",
       "      <td>miguel</td>\n",
       "      <td>hernandez</td>\n",
       "      <td>56418</td>\n",
       "      <td>58393</td>\n",
       "      <td>64352</td>\n",
       "      <td>PRETRIAL</td>\n",
       "      <td>Risk and Prescreen</td>\n",
       "      <td>Intake</td>\n",
       "      <td>...</td>\n",
       "      <td>2013-08-14 00:00:00.000000</td>\n",
       "      <td>1</td>\n",
       "      <td>Low</td>\n",
       "      <td>Low</td>\n",
       "      <td>7</td>\n",
       "      <td>Risk of Violence</td>\n",
       "      <td>-4.31</td>\n",
       "      <td>1</td>\n",
       "      <td>1</td>\n",
       "      <td>miguel hernandez</td>\n",
       "    </tr>\n",
       "    <tr>\n",
       "      <th>1</th>\n",
       "      <td>2</td>\n",
       "      <td>2</td>\n",
       "      <td>miguel</td>\n",
       "      <td>hernandez</td>\n",
       "      <td>56418</td>\n",
       "      <td>58393</td>\n",
       "      <td>64352</td>\n",
       "      <td>PRETRIAL</td>\n",
       "      <td>Risk and Prescreen</td>\n",
       "      <td>Intake</td>\n",
       "      <td>...</td>\n",
       "      <td>2013-08-14 00:00:00.000000</td>\n",
       "      <td>1</td>\n",
       "      <td>Low</td>\n",
       "      <td>Low</td>\n",
       "      <td>8</td>\n",
       "      <td>Risk of Recidivism</td>\n",
       "      <td>-2.78</td>\n",
       "      <td>1</td>\n",
       "      <td>1</td>\n",
       "      <td>miguel hernandez</td>\n",
       "    </tr>\n",
       "    <tr>\n",
       "      <th>2</th>\n",
       "      <td>3</td>\n",
       "      <td>3</td>\n",
       "      <td>miguel</td>\n",
       "      <td>hernandez</td>\n",
       "      <td>56418</td>\n",
       "      <td>58393</td>\n",
       "      <td>64352</td>\n",
       "      <td>PRETRIAL</td>\n",
       "      <td>Risk and Prescreen</td>\n",
       "      <td>Intake</td>\n",
       "      <td>...</td>\n",
       "      <td>2013-08-14 00:00:00.000000</td>\n",
       "      <td>1</td>\n",
       "      <td>Low</td>\n",
       "      <td>Low</td>\n",
       "      <td>18</td>\n",
       "      <td>Risk of Failure to Appear</td>\n",
       "      <td>13.00</td>\n",
       "      <td>1</td>\n",
       "      <td>1</td>\n",
       "      <td>miguel hernandez</td>\n",
       "    </tr>\n",
       "  </tbody>\n",
       "</table>\n",
       "<p>3 rows × 23 columns</p>\n",
       "</div>"
      ],
      "text/plain": [
       "   Unnamed: 0  id   first       last  compas_person_id  compas_case_id  \\\n",
       "0           1   1  miguel  hernandez             56418           58393   \n",
       "1           2   2  miguel  hernandez             56418           58393   \n",
       "2           3   3  miguel  hernandez             56418           58393   \n",
       "\n",
       "   compas_assessment_id agency_text           scale_set assessment_reason  \\\n",
       "0                 64352    PRETRIAL  Risk and Prescreen            Intake   \n",
       "1                 64352    PRETRIAL  Risk and Prescreen            Intake   \n",
       "2                 64352    PRETRIAL  Risk and Prescreen            Intake   \n",
       "\n",
       "   ...              screening_date rec_supervision_level  \\\n",
       "0  ...  2013-08-14 00:00:00.000000                     1   \n",
       "1  ...  2013-08-14 00:00:00.000000                     1   \n",
       "2  ...  2013-08-14 00:00:00.000000                     1   \n",
       "\n",
       "  rec_supervision_level_text score_text  scale_id         type_of_assessment  \\\n",
       "0                        Low        Low         7           Risk of Violence   \n",
       "1                        Low        Low         8         Risk of Recidivism   \n",
       "2                        Low        Low        18  Risk of Failure to Appear   \n",
       "\n",
       "  raw_score  decile_score person_id              name  \n",
       "0     -4.31             1         1  miguel hernandez  \n",
       "1     -2.78             1         1  miguel hernandez  \n",
       "2     13.00             1         1  miguel hernandez  \n",
       "\n",
       "[3 rows x 23 columns]"
      ]
     },
     "execution_count": 14,
     "metadata": {},
     "output_type": "execute_result"
    }
   ],
   "source": [
    "compas.head(3)"
   ]
  },
  {
   "cell_type": "code",
   "execution_count": 15,
   "metadata": {
    "colab": {
     "autoexec": {
      "startup": false,
      "wait_interval": 0
     }
    },
    "colab_type": "code",
    "id": "i_eaH8vj7viX"
   },
   "outputs": [],
   "source": [
    "merged_people_compas = people.merge(compas, on='name', how='left')"
   ]
  },
  {
   "cell_type": "code",
   "execution_count": 16,
   "metadata": {
    "colab": {
     "autoexec": {
      "startup": false,
      "wait_interval": 0
     }
    },
    "colab_type": "code",
    "id": "NV8NnW2I7vib",
    "outputId": "21375027-66ee-46a2-872d-a16a93510152"
   },
   "outputs": [
    {
     "data": {
      "text/plain": [
       "38841"
      ]
     },
     "execution_count": 16,
     "metadata": {},
     "output_type": "execute_result"
    }
   ],
   "source": [
    "len(merged_people_compas)"
   ]
  },
  {
   "cell_type": "code",
   "execution_count": 17,
   "metadata": {
    "colab": {
     "autoexec": {
      "startup": false,
      "wait_interval": 0
     }
    },
    "colab_type": "code",
    "id": "ZPYX2L4B7vij",
    "outputId": "c0d9dde9-37ca-47d6-90d1-9e601ede984b"
   },
   "outputs": [
    {
     "data": {
      "text/html": [
       "<div>\n",
       "<style scoped>\n",
       "    .dataframe tbody tr th:only-of-type {\n",
       "        vertical-align: middle;\n",
       "    }\n",
       "\n",
       "    .dataframe tbody tr th {\n",
       "        vertical-align: top;\n",
       "    }\n",
       "\n",
       "    .dataframe thead th {\n",
       "        text-align: right;\n",
       "    }\n",
       "</style>\n",
       "<table border=\"1\" class=\"dataframe\">\n",
       "  <thead>\n",
       "    <tr style=\"text-align: right;\">\n",
       "      <th></th>\n",
       "      <th>Unnamed: 0_x</th>\n",
       "      <th>id_x</th>\n",
       "      <th>name</th>\n",
       "      <th>first_x</th>\n",
       "      <th>last_x</th>\n",
       "      <th>sex</th>\n",
       "      <th>race</th>\n",
       "      <th>dob</th>\n",
       "      <th>age</th>\n",
       "      <th>age_cat</th>\n",
       "      <th>...</th>\n",
       "      <th>marital_status</th>\n",
       "      <th>screening_date</th>\n",
       "      <th>rec_supervision_level</th>\n",
       "      <th>rec_supervision_level_text</th>\n",
       "      <th>score_text_y</th>\n",
       "      <th>scale_id</th>\n",
       "      <th>type_of_assessment</th>\n",
       "      <th>raw_score</th>\n",
       "      <th>decile_score_y</th>\n",
       "      <th>person_id</th>\n",
       "    </tr>\n",
       "  </thead>\n",
       "  <tbody>\n",
       "    <tr>\n",
       "      <th>0</th>\n",
       "      <td>1</td>\n",
       "      <td>1</td>\n",
       "      <td>miguel hernandez</td>\n",
       "      <td>miguel</td>\n",
       "      <td>hernandez</td>\n",
       "      <td>Male</td>\n",
       "      <td>Other</td>\n",
       "      <td>1947-04-18 00:00:00.000000</td>\n",
       "      <td>69</td>\n",
       "      <td>Greater than 45</td>\n",
       "      <td>...</td>\n",
       "      <td>Single</td>\n",
       "      <td>2013-08-14 00:00:00.000000</td>\n",
       "      <td>1</td>\n",
       "      <td>Low</td>\n",
       "      <td>Low</td>\n",
       "      <td>7</td>\n",
       "      <td>Risk of Violence</td>\n",
       "      <td>-4.31</td>\n",
       "      <td>1</td>\n",
       "      <td>1</td>\n",
       "    </tr>\n",
       "    <tr>\n",
       "      <th>1</th>\n",
       "      <td>1</td>\n",
       "      <td>1</td>\n",
       "      <td>miguel hernandez</td>\n",
       "      <td>miguel</td>\n",
       "      <td>hernandez</td>\n",
       "      <td>Male</td>\n",
       "      <td>Other</td>\n",
       "      <td>1947-04-18 00:00:00.000000</td>\n",
       "      <td>69</td>\n",
       "      <td>Greater than 45</td>\n",
       "      <td>...</td>\n",
       "      <td>Single</td>\n",
       "      <td>2013-08-14 00:00:00.000000</td>\n",
       "      <td>1</td>\n",
       "      <td>Low</td>\n",
       "      <td>Low</td>\n",
       "      <td>8</td>\n",
       "      <td>Risk of Recidivism</td>\n",
       "      <td>-2.78</td>\n",
       "      <td>1</td>\n",
       "      <td>1</td>\n",
       "    </tr>\n",
       "  </tbody>\n",
       "</table>\n",
       "<p>2 rows × 64 columns</p>\n",
       "</div>"
      ],
      "text/plain": [
       "   Unnamed: 0_x  id_x              name first_x     last_x   sex   race  \\\n",
       "0             1     1  miguel hernandez  miguel  hernandez  Male  Other   \n",
       "1             1     1  miguel hernandez  miguel  hernandez  Male  Other   \n",
       "\n",
       "                          dob  age          age_cat  ...  marital_status  \\\n",
       "0  1947-04-18 00:00:00.000000   69  Greater than 45  ...          Single   \n",
       "1  1947-04-18 00:00:00.000000   69  Greater than 45  ...          Single   \n",
       "\n",
       "               screening_date  rec_supervision_level  \\\n",
       "0  2013-08-14 00:00:00.000000                      1   \n",
       "1  2013-08-14 00:00:00.000000                      1   \n",
       "\n",
       "  rec_supervision_level_text  score_text_y  scale_id  type_of_assessment  \\\n",
       "0                        Low           Low         7    Risk of Violence   \n",
       "1                        Low           Low         8  Risk of Recidivism   \n",
       "\n",
       "   raw_score  decile_score_y person_id  \n",
       "0      -4.31               1         1  \n",
       "1      -2.78               1         1  \n",
       "\n",
       "[2 rows x 64 columns]"
      ]
     },
     "execution_count": 17,
     "metadata": {},
     "output_type": "execute_result"
    }
   ],
   "source": [
    "merged_people_compas.head(2)"
   ]
  },
  {
   "cell_type": "code",
   "execution_count": 18,
   "metadata": {
    "colab": {
     "autoexec": {
      "startup": false,
      "wait_interval": 0
     }
    },
    "colab_type": "code",
    "id": "U5zqvGn07viz",
    "outputId": "5d4d0125-7e63-4acf-aafe-18936265fd94"
   },
   "outputs": [
    {
     "name": "stdout",
     "output_type": "stream",
     "text": [
      "yes\n"
     ]
    }
   ],
   "source": [
    "if np.any(merged_people_compas[\"name\"] == 'aaron aprile'):\n",
    "...     print(\"yes\")"
   ]
  },
  {
   "cell_type": "code",
   "execution_count": 19,
   "metadata": {
    "colab": {
     "autoexec": {
      "startup": false,
      "wait_interval": 0
     }
    },
    "colab_type": "code",
    "id": "jLvykc3m7vi6",
    "outputId": "2712474e-99da-4311-eb53-6fa680baa8ca"
   },
   "outputs": [
    {
     "data": {
      "text/plain": [
       "14799    Grand Theft in the 3rd Degree\n",
       "14800    Grand Theft in the 3rd Degree\n",
       "14801    Grand Theft in the 3rd Degree\n",
       "14802    Grand Theft in the 3rd Degree\n",
       "14803    Grand Theft in the 3rd Degree\n",
       "14804    Grand Theft in the 3rd Degree\n",
       "Name: c_charge_desc, dtype: object"
      ]
     },
     "execution_count": 19,
     "metadata": {},
     "output_type": "execute_result"
    }
   ],
   "source": [
    "merged_people_compas[merged_people_compas['name'] == 'aaron aprile']['c_charge_desc']"
   ]
  },
  {
   "cell_type": "markdown",
   "metadata": {
    "colab_type": "text",
    "id": "E30STJOR7vi_"
   },
   "source": [
    "## Final merged file"
   ]
  },
  {
   "cell_type": "code",
   "execution_count": 20,
   "metadata": {
    "colab": {
     "autoexec": {
      "startup": false,
      "wait_interval": 0
     }
    },
    "colab_type": "code",
    "id": "c-Id9o_U7vjB"
   },
   "outputs": [],
   "source": [
    "ultimate_merged  = charge.merge(merged_people_compas, on='name', how='right')"
   ]
  },
  {
   "cell_type": "code",
   "execution_count": 21,
   "metadata": {},
   "outputs": [
    {
     "data": {
      "text/plain": [
       "array(['Medium', 'Low', 'High', nan], dtype=object)"
      ]
     },
     "execution_count": 21,
     "metadata": {},
     "output_type": "execute_result"
    }
   ],
   "source": [
    "ultimate_merged.score_text_y.unique()"
   ]
  },
  {
   "cell_type": "code",
   "execution_count": 22,
   "metadata": {},
   "outputs": [],
   "source": [
    "nan0=ultimate_merged.score_text_y.isna().astype(int) "
   ]
  },
  {
   "cell_type": "code",
   "execution_count": 23,
   "metadata": {},
   "outputs": [
    {
     "data": {
      "text/plain": [
       "0    548434\n",
       "1       158\n",
       "Name: score_text_y, dtype: int64"
      ]
     },
     "execution_count": 23,
     "metadata": {},
     "output_type": "execute_result"
    }
   ],
   "source": [
    "nan0.value_counts()"
   ]
  },
  {
   "cell_type": "code",
   "execution_count": 24,
   "metadata": {
    "colab": {
     "autoexec": {
      "startup": false,
      "wait_interval": 0
     }
    },
    "colab_type": "code",
    "id": "dyuL2iBY7vjE",
    "outputId": "857d6463-e5e9-40b9-eecb-2ae6c324e00d"
   },
   "outputs": [
    {
     "data": {
      "text/plain": [
       "548592"
      ]
     },
     "execution_count": 24,
     "metadata": {},
     "output_type": "execute_result"
    }
   ],
   "source": [
    "len(ultimate_merged)"
   ]
  },
  {
   "cell_type": "code",
   "execution_count": 25,
   "metadata": {
    "colab": {
     "autoexec": {
      "startup": false,
      "wait_interval": 0
     }
    },
    "colab_type": "code",
    "id": "HazwHVYD7vjI",
    "outputId": "beec7a71-84d2-4f7a-a8fa-4049da5fb6cb"
   },
   "outputs": [
    {
     "data": {
      "text/html": [
       "<div>\n",
       "<style scoped>\n",
       "    .dataframe tbody tr th:only-of-type {\n",
       "        vertical-align: middle;\n",
       "    }\n",
       "\n",
       "    .dataframe tbody tr th {\n",
       "        vertical-align: top;\n",
       "    }\n",
       "\n",
       "    .dataframe thead th {\n",
       "        text-align: right;\n",
       "    }\n",
       "</style>\n",
       "<table border=\"1\" class=\"dataframe\">\n",
       "  <thead>\n",
       "    <tr style=\"text-align: right;\">\n",
       "      <th></th>\n",
       "      <th>Unnamed: 0</th>\n",
       "      <th>id</th>\n",
       "      <th>case_type</th>\n",
       "      <th>case_number</th>\n",
       "      <th>filing_date</th>\n",
       "      <th>offense_date</th>\n",
       "      <th>charge_number</th>\n",
       "      <th>charge_degree</th>\n",
       "      <th>charge</th>\n",
       "      <th>date_charge_filed</th>\n",
       "      <th>...</th>\n",
       "      <th>marital_status</th>\n",
       "      <th>screening_date</th>\n",
       "      <th>rec_supervision_level</th>\n",
       "      <th>rec_supervision_level_text</th>\n",
       "      <th>score_text_y</th>\n",
       "      <th>scale_id</th>\n",
       "      <th>type_of_assessment</th>\n",
       "      <th>raw_score</th>\n",
       "      <th>decile_score_y</th>\n",
       "      <th>person_id_y</th>\n",
       "    </tr>\n",
       "  </thead>\n",
       "  <tbody>\n",
       "    <tr>\n",
       "      <th>0</th>\n",
       "      <td>1.0</td>\n",
       "      <td>1.0</td>\n",
       "      <td>NaN</td>\n",
       "      <td>13005832CF10A</td>\n",
       "      <td>1800-01-01 00:00:00.000000</td>\n",
       "      <td>2013-04-23 00:00:00.000000</td>\n",
       "      <td>1.0</td>\n",
       "      <td>(F3)</td>\n",
       "      <td>Driving While License Revoked</td>\n",
       "      <td>2013-04-23 00:00:00</td>\n",
       "      <td>...</td>\n",
       "      <td>Single</td>\n",
       "      <td>2013-04-24 00:00:00.000000</td>\n",
       "      <td>1</td>\n",
       "      <td>Low</td>\n",
       "      <td>Medium</td>\n",
       "      <td>7</td>\n",
       "      <td>Risk of Violence</td>\n",
       "      <td>-1.96</td>\n",
       "      <td>5</td>\n",
       "      <td>533</td>\n",
       "    </tr>\n",
       "    <tr>\n",
       "      <th>1</th>\n",
       "      <td>2.0</td>\n",
       "      <td>2.0</td>\n",
       "      <td>NaN</td>\n",
       "      <td>13005832CF10A</td>\n",
       "      <td>1800-01-01 00:00:00.000000</td>\n",
       "      <td>2013-04-23 00:00:00.000000</td>\n",
       "      <td>2.0</td>\n",
       "      <td>(M2)</td>\n",
       "      <td>Petit Theft</td>\n",
       "      <td>2013-04-23 00:00:00</td>\n",
       "      <td>...</td>\n",
       "      <td>Single</td>\n",
       "      <td>2013-04-24 00:00:00.000000</td>\n",
       "      <td>1</td>\n",
       "      <td>Low</td>\n",
       "      <td>Medium</td>\n",
       "      <td>7</td>\n",
       "      <td>Risk of Violence</td>\n",
       "      <td>-1.96</td>\n",
       "      <td>5</td>\n",
       "      <td>533</td>\n",
       "    </tr>\n",
       "  </tbody>\n",
       "</table>\n",
       "<p>2 rows × 79 columns</p>\n",
       "</div>"
      ],
      "text/plain": [
       "   Unnamed: 0   id  case_type    case_number                 filing_date  \\\n",
       "0         1.0  1.0        NaN  13005832CF10A  1800-01-01 00:00:00.000000   \n",
       "1         2.0  2.0        NaN  13005832CF10A  1800-01-01 00:00:00.000000   \n",
       "\n",
       "                 offense_date  charge_number charge_degree  \\\n",
       "0  2013-04-23 00:00:00.000000            1.0          (F3)   \n",
       "1  2013-04-23 00:00:00.000000            2.0          (M2)   \n",
       "\n",
       "                          charge    date_charge_filed  ... marital_status  \\\n",
       "0  Driving While License Revoked  2013-04-23 00:00:00  ...         Single   \n",
       "1                    Petit Theft  2013-04-23 00:00:00  ...         Single   \n",
       "\n",
       "               screening_date rec_supervision_level  \\\n",
       "0  2013-04-24 00:00:00.000000                     1   \n",
       "1  2013-04-24 00:00:00.000000                     1   \n",
       "\n",
       "   rec_supervision_level_text score_text_y  scale_id  type_of_assessment  \\\n",
       "0                         Low       Medium         7    Risk of Violence   \n",
       "1                         Low       Medium         7    Risk of Violence   \n",
       "\n",
       "   raw_score decile_score_y person_id_y  \n",
       "0      -1.96              5         533  \n",
       "1      -1.96              5         533  \n",
       "\n",
       "[2 rows x 79 columns]"
      ]
     },
     "execution_count": 25,
     "metadata": {},
     "output_type": "execute_result"
    }
   ],
   "source": [
    "ultimate_merged.head(2)"
   ]
  },
  {
   "cell_type": "markdown",
   "metadata": {
    "colab_type": "text",
    "id": "ANpNDpz97vjM"
   },
   "source": [
    "## Cleaning "
   ]
  },
  {
   "cell_type": "code",
   "execution_count": 26,
   "metadata": {
    "colab": {
     "autoexec": {
      "startup": false,
      "wait_interval": 0
     }
    },
    "colab_type": "code",
    "id": "trLtVpl47vjd"
   },
   "outputs": [
    {
     "data": {
      "text/plain": [
       "['Unnamed: 0',\n",
       " 'id',\n",
       " 'case_type',\n",
       " 'case_number',\n",
       " 'filing_date',\n",
       " 'offense_date',\n",
       " 'charge_number',\n",
       " 'charge_degree',\n",
       " 'charge',\n",
       " 'date_charge_filed',\n",
       " 'filing_type',\n",
       " 'filing_agency',\n",
       " 'name',\n",
       " 'days_since_compas',\n",
       " 'statute',\n",
       " 'person_id_x',\n",
       " 'Unnamed: 0_x',\n",
       " 'id_x',\n",
       " 'first_x',\n",
       " 'last_x',\n",
       " 'sex',\n",
       " 'race',\n",
       " 'dob',\n",
       " 'age',\n",
       " 'age_cat',\n",
       " 'juv_fel_count',\n",
       " 'juv_misd_count',\n",
       " 'juv_other_count',\n",
       " 'compas_screening_date',\n",
       " 'decile_score_x',\n",
       " 'score_text_x',\n",
       " 'violent_recid',\n",
       " 'priors_count',\n",
       " 'days_b_screening_arrest',\n",
       " 'c_jail_in',\n",
       " 'c_jail_out',\n",
       " 'c_case_number',\n",
       " 'c_days_from_compas',\n",
       " 'c_arrest_date',\n",
       " 'c_offense_date',\n",
       " 'c_charge_degree',\n",
       " 'c_charge_desc',\n",
       " 'is_recid',\n",
       " 'num_r_cases',\n",
       " 'r_case_number',\n",
       " 'r_charge_degree',\n",
       " 'r_days_from_arrest',\n",
       " 'r_offense_date',\n",
       " 'r_charge_desc',\n",
       " 'r_jail_in',\n",
       " 'r_jail_out',\n",
       " 'is_violent_recid',\n",
       " 'num_vr_cases',\n",
       " 'vr_case_number',\n",
       " 'vr_charge_degree',\n",
       " 'vr_offense_date',\n",
       " 'vr_charge_desc',\n",
       " 'Unnamed: 0_y',\n",
       " 'id_y',\n",
       " 'first_y',\n",
       " 'last_y',\n",
       " 'compas_person_id',\n",
       " 'compas_case_id',\n",
       " 'compas_assessment_id',\n",
       " 'agency_text',\n",
       " 'scale_set',\n",
       " 'assessment_reason',\n",
       " 'legal_status',\n",
       " 'custody_status',\n",
       " 'marital_status',\n",
       " 'screening_date',\n",
       " 'rec_supervision_level',\n",
       " 'rec_supervision_level_text',\n",
       " 'score_text_y',\n",
       " 'scale_id',\n",
       " 'type_of_assessment',\n",
       " 'raw_score',\n",
       " 'decile_score_y',\n",
       " 'person_id_y']"
      ]
     },
     "execution_count": 26,
     "metadata": {},
     "output_type": "execute_result"
    }
   ],
   "source": [
    "ultimate_merged.columns.tolist()"
   ]
  },
  {
   "cell_type": "code",
   "execution_count": 27,
   "metadata": {
    "colab": {
     "autoexec": {
      "startup": false,
      "wait_interval": 0
     }
    },
    "colab_type": "code",
    "id": "b4r4aK_47vjg"
   },
   "outputs": [
    {
     "ename": "AttributeError",
     "evalue": "'Index' object has no attribute 'get_values'",
     "output_type": "error",
     "traceback": [
      "\u001b[0;31m---------------------------------------------------------------------------\u001b[0m",
      "\u001b[0;31mAttributeError\u001b[0m                            Traceback (most recent call last)",
      "\u001b[0;32m<ipython-input-27-d04f5351e5d4>\u001b[0m in \u001b[0;36m<module>\u001b[0;34m\u001b[0m\n\u001b[0;32m----> 1\u001b[0;31m \u001b[0multimate_merged\u001b[0m\u001b[0;34m.\u001b[0m\u001b[0mcolumns\u001b[0m\u001b[0;34m.\u001b[0m\u001b[0mget_values\u001b[0m\u001b[0;34m(\u001b[0m\u001b[0;34m)\u001b[0m\u001b[0;34m\u001b[0m\u001b[0;34m\u001b[0m\u001b[0m\n\u001b[0m",
      "\u001b[0;31mAttributeError\u001b[0m: 'Index' object has no attribute 'get_values'"
     ]
    }
   ],
   "source": [
    "ultimate_merged.columns.get_values()"
   ]
  },
  {
   "cell_type": "code",
   "execution_count": null,
   "metadata": {},
   "outputs": [],
   "source": [
    "# Removing the rows for which score_text_y = Medium\n",
    "#ultimate_merged=ultimate_merged[ultimate_merged.score_text_y.str.contains(\"Medium\") == False]"
   ]
  },
  {
   "cell_type": "code",
   "execution_count": 28,
   "metadata": {},
   "outputs": [
    {
     "data": {
      "text/plain": [
       "548592"
      ]
     },
     "execution_count": 28,
     "metadata": {},
     "output_type": "execute_result"
    }
   ],
   "source": [
    "len(ultimate_merged)"
   ]
  },
  {
   "cell_type": "code",
   "execution_count": 29,
   "metadata": {
    "colab": {
     "autoexec": {
      "startup": false,
      "wait_interval": 0
     }
    },
    "colab_type": "code",
    "id": "XaEQHXXf7vjk",
    "outputId": "f540fd0a-22ad-4ae0-e17a-4e4a9be2e5d1"
   },
   "outputs": [
    {
     "data": {
      "text/plain": [
       "True"
      ]
     },
     "execution_count": 29,
     "metadata": {},
     "output_type": "execute_result"
    }
   ],
   "source": [
    "ultimate_merged['num_r_cases'].isna().any()"
   ]
  },
  {
   "cell_type": "code",
   "execution_count": 30,
   "metadata": {},
   "outputs": [
    {
     "data": {
      "text/plain": [
       "Low       160123\n",
       "Medium     60891\n",
       "High       39864\n",
       "Name: score_text_y, dtype: int64"
      ]
     },
     "execution_count": 30,
     "metadata": {},
     "output_type": "execute_result"
    }
   ],
   "source": [
    "ultimate_merged[ultimate_merged.num_r_cases.isna()].score_text_y.value_counts()"
   ]
  },
  {
   "cell_type": "code",
   "execution_count": 31,
   "metadata": {
    "scrolled": true
   },
   "outputs": [
    {
     "data": {
      "text/plain": [
       "num_r_cases\n",
       "1.0     157122\n",
       "2.0      72084\n",
       "3.0      28452\n",
       "4.0      15789\n",
       "5.0       5613\n",
       "6.0       4026\n",
       "7.0        957\n",
       "8.0        906\n",
       "9.0       1020\n",
       "10.0       174\n",
       "12.0       807\n",
       "15.0       216\n",
       "18.0        99\n",
       "29.0       102\n",
       "55.0       231\n",
       "dtype: int64"
      ]
     },
     "execution_count": 31,
     "metadata": {},
     "output_type": "execute_result"
    }
   ],
   "source": [
    "ultimate_merged.groupby('num_r_cases')[['decile_score_y', 'score_text_y']].size()"
   ]
  },
  {
   "cell_type": "code",
   "execution_count": 32,
   "metadata": {
    "colab": {
     "autoexec": {
      "startup": false,
      "wait_interval": 0
     }
    },
    "colab_type": "code",
    "id": "XQit4dBL7vj3",
    "outputId": "74f04c30-25d1-41e7-c7ae-3d45e3801876"
   },
   "outputs": [
    {
     "data": {
      "text/plain": [
       "1.9376316942398766"
      ]
     },
     "execution_count": 32,
     "metadata": {},
     "output_type": "execute_result"
    }
   ],
   "source": [
    "ultimate_merged[\"num_r_cases\"].mean()"
   ]
  },
  {
   "cell_type": "code",
   "execution_count": 33,
   "metadata": {
    "colab": {
     "autoexec": {
      "startup": false,
      "wait_interval": 0
     }
    },
    "colab_type": "code",
    "id": "HGkG9HgC7vj7"
   },
   "outputs": [],
   "source": [
    "# Reason for padding with 2 (mean) is: since we don't have data from other counties or states, we can pad our data\n",
    "# with the mean of our population to keep those rows w/o influencing the # of recidivism cases\n",
    "\n",
    "ultimate_merged['num_r_cases'] = ultimate_merged['num_r_cases'].fillna(2)"
   ]
  },
  {
   "cell_type": "code",
   "execution_count": 34,
   "metadata": {
    "colab": {
     "autoexec": {
      "startup": false,
      "wait_interval": 0
     }
    },
    "colab_type": "code",
    "id": "EkMiVSfp7vj9"
   },
   "outputs": [],
   "source": [
    "ultimate_merged['num_r_cases']=ultimate_merged['num_r_cases'].astype(int)"
   ]
  },
  {
   "cell_type": "code",
   "execution_count": 35,
   "metadata": {
    "colab": {
     "autoexec": {
      "startup": false,
      "wait_interval": 0
     }
    },
    "colab_type": "code",
    "id": "PtM-hwfc7vkA",
    "outputId": "2cfbd7d3-500e-4dce-c7e7-8b73046e5659"
   },
   "outputs": [
    {
     "data": {
      "text/plain": [
       "array([ 1,  2,  4,  3,  6,  7,  5,  8, 12,  9, 10, 15, 18, 55, 29])"
      ]
     },
     "execution_count": 35,
     "metadata": {},
     "output_type": "execute_result"
    }
   ],
   "source": [
    "ultimate_merged['num_r_cases'].unique()"
   ]
  },
  {
   "cell_type": "code",
   "execution_count": 36,
   "metadata": {
    "colab": {
     "autoexec": {
      "startup": false,
      "wait_interval": 0
     }
    },
    "colab_type": "code",
    "id": "XXnx2AT67vkQ"
   },
   "outputs": [],
   "source": [
    "nan2=ultimate_merged.r_days_from_arrest.isna().astype(int) "
   ]
  },
  {
   "cell_type": "code",
   "execution_count": 37,
   "metadata": {
    "colab": {
     "autoexec": {
      "startup": false,
      "wait_interval": 0
     }
    },
    "colab_type": "code",
    "id": "cACkHSSk7vkT"
   },
   "outputs": [
    {
     "data": {
      "text/plain": [
       "1    353226\n",
       "0    195366\n",
       "Name: r_days_from_arrest, dtype: int64"
      ]
     },
     "execution_count": 37,
     "metadata": {},
     "output_type": "execute_result"
    }
   ],
   "source": [
    "nan2.value_counts()"
   ]
  },
  {
   "cell_type": "code",
   "execution_count": 38,
   "metadata": {
    "colab": {
     "autoexec": {
      "startup": false,
      "wait_interval": 0
     }
    },
    "colab_type": "code",
    "id": "IsN30vbi7vkU"
   },
   "outputs": [],
   "source": [
    "ultimate_merged['r_days_from_arrest'] = ultimate_merged['r_days_from_arrest'].fillna(0)"
   ]
  },
  {
   "cell_type": "code",
   "execution_count": 39,
   "metadata": {
    "colab": {
     "autoexec": {
      "startup": false,
      "wait_interval": 0
     }
    },
    "colab_type": "code",
    "id": "cxt0e4RU7vkW"
   },
   "outputs": [],
   "source": [
    "ultimate_merged['r_days_from_arrest']=ultimate_merged['r_days_from_arrest'].astype(int)"
   ]
  },
  {
   "cell_type": "code",
   "execution_count": 40,
   "metadata": {
    "colab": {
     "autoexec": {
      "startup": false,
      "wait_interval": 0
     }
    },
    "colab_type": "code",
    "id": "HCE1ziem7vkY"
   },
   "outputs": [
    {
     "data": {
      "text/plain": [
       "array([  0,  78,   1, 281, 277,  51, 175, 253, 614,  83, 136,  89, 101,\n",
       "        77,   6, 203, 273,  68,  98, 160, 305,  59,  76, 396, 131, 143,\n",
       "        19, 162,  42, 113,  94, 194, 140, 862, 119, 135,   4,  -1,  85,\n",
       "        73, 233, 407,  15,  32, 116,  47, 124, 168, 123,  27,   8, 457,\n",
       "       191,  18, 271,  57, 440,   9,  50,  36, 721,  66,  52,  39, 272,\n",
       "        97, 159, 825, 134,  43,  41,  56, 354,  14, 351,  13, 265,  34,\n",
       "       132, 151, 395,  24,  12,  21,  86, 139, 216,  99, 509, 100,   3,\n",
       "        74, 294,  44,  62,   7, 178, 106,  37, 161, 137,   5, 149,  87,\n",
       "       173, 130,  54, 144, 264,  90, 445,  35,  81, 394, 280,  38, 157,\n",
       "        67, 185,  91,  84,  22,  31, 105, 165,  71,  61, 245,  75, 404,\n",
       "       166, 758,  49, 176, 155, 349,  26, 179, 163, 152, 153, 146, 118,\n",
       "        53,  28, 347,  25, 417, 227, 222, 269, 438, 249, 111, 112, 200,\n",
       "        55, 243,  23,  30,  48, 128, 523, 122,  11, 241,  92,  96, 308,\n",
       "       115, 104, 228, 596,  40, 156, 102, 196, 183, 415,  63, 258, 314,\n",
       "       554, 141, 189, 406,  72, 117,  70, 786, 202,   2, 367, 220, 170,\n",
       "       362,  29,  64, 120, 275, 403, 223,  79, 455, 993, 114, 357, 169,\n",
       "       374, 208, 342, 210,  20, 282])"
      ]
     },
     "execution_count": 40,
     "metadata": {},
     "output_type": "execute_result"
    }
   ],
   "source": [
    "ultimate_merged['r_days_from_arrest'].unique()"
   ]
  },
  {
   "cell_type": "code",
   "execution_count": 41,
   "metadata": {
    "colab": {
     "autoexec": {
      "startup": false,
      "wait_interval": 0
     }
    },
    "colab_type": "code",
    "id": "Dxmovbjy7vkb"
   },
   "outputs": [],
   "source": [
    "nan3=ultimate_merged.score_text_y.isna().astype(int)"
   ]
  },
  {
   "cell_type": "code",
   "execution_count": 42,
   "metadata": {
    "colab": {
     "autoexec": {
      "startup": false,
      "wait_interval": 0
     }
    },
    "colab_type": "code",
    "id": "A_Mkurqq7vkd"
   },
   "outputs": [
    {
     "data": {
      "text/plain": [
       "0    548434\n",
       "1       158\n",
       "Name: score_text_y, dtype: int64"
      ]
     },
     "execution_count": 42,
     "metadata": {},
     "output_type": "execute_result"
    }
   ],
   "source": [
    "nan3.value_counts()"
   ]
  },
  {
   "cell_type": "code",
   "execution_count": 43,
   "metadata": {},
   "outputs": [],
   "source": [
    "ultimate_merged.score_text_y = ultimate_merged.decile_score_y.apply(lambda r: 'Low' if r < 6 else 'High')"
   ]
  },
  {
   "cell_type": "code",
   "execution_count": 44,
   "metadata": {
    "colab": {
     "autoexec": {
      "startup": false,
      "wait_interval": 0
     }
    },
    "colab_type": "code",
    "id": "--sWa6wY7vkf"
   },
   "outputs": [
    {
     "data": {
      "text/plain": [
       "score_text_y\n",
       "High    206965\n",
       "Low     341627\n",
       "Name: score_text_y, dtype: int64"
      ]
     },
     "execution_count": 44,
     "metadata": {},
     "output_type": "execute_result"
    }
   ],
   "source": [
    "ultimate_merged.groupby('score_text_y')['score_text_y'].count()"
   ]
  },
  {
   "cell_type": "code",
   "execution_count": 45,
   "metadata": {
    "colab": {
     "autoexec": {
      "startup": false,
      "wait_interval": 0
     }
    },
    "colab_type": "code",
    "id": "TQVrYWj57vkn"
   },
   "outputs": [],
   "source": [
    "# score_text changing to 0 and 1 depending on the decile score\n",
    "ultimate_merged['score_text_y']=ultimate_merged['score_text_y'].map(lambda x: 0 if x == 'High' else 1 )"
   ]
  },
  {
   "cell_type": "code",
   "execution_count": 46,
   "metadata": {},
   "outputs": [
    {
     "data": {
      "text/plain": [
       "array([1, 0])"
      ]
     },
     "execution_count": 46,
     "metadata": {},
     "output_type": "execute_result"
    }
   ],
   "source": [
    "ultimate_merged['score_text_y'].unique()"
   ]
  },
  {
   "cell_type": "code",
   "execution_count": 47,
   "metadata": {
    "colab": {
     "autoexec": {
      "startup": false,
      "wait_interval": 0
     }
    },
    "colab_type": "code",
    "id": "3ejIuPzU7vko"
   },
   "outputs": [],
   "source": [
    "ultimate_merged=ultimate_merged.rename(columns = {'score_text_y':'reoffending_risk'})"
   ]
  },
  {
   "cell_type": "code",
   "execution_count": 48,
   "metadata": {
    "colab": {
     "autoexec": {
      "startup": false,
      "wait_interval": 0
     }
    },
    "colab_type": "code",
    "id": "czet_Grs7vkq"
   },
   "outputs": [],
   "source": [
    "ultimate_merged['sex'] = ultimate_merged[\"sex\"].map(\n",
    "    lambda x: {\"Male\": 1, \"Female\": 0}[x])"
   ]
  },
  {
   "cell_type": "code",
   "execution_count": 49,
   "metadata": {
    "colab": {
     "autoexec": {
      "startup": false,
      "wait_interval": 0
     }
    },
    "colab_type": "code",
    "id": "xnsuQGgn7vkr"
   },
   "outputs": [],
   "source": [
    "ultimate_merged['race']=ultimate_merged['race'].map(lambda x: 1 if x == 'African-American' else 0)"
   ]
  },
  {
   "cell_type": "code",
   "execution_count": 50,
   "metadata": {
    "colab": {
     "autoexec": {
      "startup": false,
      "wait_interval": 0
     }
    },
    "colab_type": "code",
    "id": "W9Cb4cXP7vkt"
   },
   "outputs": [],
   "source": [
    "#Creating age_binary variable (<25=1, >=25=0)\n",
    "ultimate_merged['age_binary']=ultimate_merged['age'].map(lambda x: 1 if x >= 25 else 0 )"
   ]
  },
  {
   "cell_type": "code",
   "execution_count": 51,
   "metadata": {
    "colab": {
     "autoexec": {
      "startup": false,
      "wait_interval": 0
     }
    },
    "colab_type": "code",
    "id": "tLfrt9tH7vkv",
    "outputId": "8af0cbc0-ff5d-43b3-e837-67c530160cbb"
   },
   "outputs": [
    {
     "data": {
      "text/plain": [
       "array([0, 1])"
      ]
     },
     "execution_count": 51,
     "metadata": {},
     "output_type": "execute_result"
    }
   ],
   "source": [
    "ultimate_merged['age_binary'].unique()"
   ]
  },
  {
   "cell_type": "markdown",
   "metadata": {},
   "source": [
    "## Creating the data, only with the columns we need"
   ]
  },
  {
   "cell_type": "code",
   "execution_count": 52,
   "metadata": {
    "colab": {
     "autoexec": {
      "startup": false,
      "wait_interval": 0
     }
    },
    "colab_type": "code",
    "id": "Tyd1Lkbq7vk0"
   },
   "outputs": [],
   "source": [
    "mydata = ultimate_merged[['sex', 'race', 'age','juv_misd_count', 'juv_other_count','juv_fel_count', \n",
    "       'priors_count','is_recid','num_r_cases','age_binary',\n",
    "       'r_days_from_arrest','is_violent_recid',  \n",
    "       'type_of_assessment', 'rec_supervision_level_text', 'marital_status','reoffending_risk']]"
   ]
  },
  {
   "cell_type": "code",
   "execution_count": 53,
   "metadata": {
    "colab": {
     "autoexec": {
      "startup": false,
      "wait_interval": 0
     }
    },
    "colab_type": "code",
    "id": "0b22CKyl7vk2"
   },
   "outputs": [
    {
     "data": {
      "text/html": [
       "<div>\n",
       "<style scoped>\n",
       "    .dataframe tbody tr th:only-of-type {\n",
       "        vertical-align: middle;\n",
       "    }\n",
       "\n",
       "    .dataframe tbody tr th {\n",
       "        vertical-align: top;\n",
       "    }\n",
       "\n",
       "    .dataframe thead th {\n",
       "        text-align: right;\n",
       "    }\n",
       "</style>\n",
       "<table border=\"1\" class=\"dataframe\">\n",
       "  <thead>\n",
       "    <tr style=\"text-align: right;\">\n",
       "      <th></th>\n",
       "      <th>sex</th>\n",
       "      <th>race</th>\n",
       "      <th>age</th>\n",
       "      <th>juv_misd_count</th>\n",
       "      <th>juv_other_count</th>\n",
       "      <th>juv_fel_count</th>\n",
       "      <th>priors_count</th>\n",
       "      <th>is_recid</th>\n",
       "      <th>num_r_cases</th>\n",
       "      <th>age_binary</th>\n",
       "      <th>r_days_from_arrest</th>\n",
       "      <th>is_violent_recid</th>\n",
       "      <th>type_of_assessment</th>\n",
       "      <th>rec_supervision_level_text</th>\n",
       "      <th>marital_status</th>\n",
       "      <th>reoffending_risk</th>\n",
       "    </tr>\n",
       "  </thead>\n",
       "  <tbody>\n",
       "    <tr>\n",
       "      <th>0</th>\n",
       "      <td>0</td>\n",
       "      <td>1</td>\n",
       "      <td>23</td>\n",
       "      <td>0</td>\n",
       "      <td>0</td>\n",
       "      <td>0</td>\n",
       "      <td>0</td>\n",
       "      <td>1</td>\n",
       "      <td>1</td>\n",
       "      <td>0</td>\n",
       "      <td>0</td>\n",
       "      <td>0</td>\n",
       "      <td>Risk of Violence</td>\n",
       "      <td>Low</td>\n",
       "      <td>Single</td>\n",
       "      <td>1</td>\n",
       "    </tr>\n",
       "    <tr>\n",
       "      <th>1</th>\n",
       "      <td>0</td>\n",
       "      <td>1</td>\n",
       "      <td>23</td>\n",
       "      <td>0</td>\n",
       "      <td>0</td>\n",
       "      <td>0</td>\n",
       "      <td>0</td>\n",
       "      <td>1</td>\n",
       "      <td>1</td>\n",
       "      <td>0</td>\n",
       "      <td>0</td>\n",
       "      <td>0</td>\n",
       "      <td>Risk of Violence</td>\n",
       "      <td>Low</td>\n",
       "      <td>Single</td>\n",
       "      <td>1</td>\n",
       "    </tr>\n",
       "  </tbody>\n",
       "</table>\n",
       "</div>"
      ],
      "text/plain": [
       "   sex  race  age  juv_misd_count  juv_other_count  juv_fel_count  \\\n",
       "0    0     1   23               0                0              0   \n",
       "1    0     1   23               0                0              0   \n",
       "\n",
       "   priors_count  is_recid  num_r_cases  age_binary  r_days_from_arrest  \\\n",
       "0             0         1            1           0                   0   \n",
       "1             0         1            1           0                   0   \n",
       "\n",
       "   is_violent_recid type_of_assessment rec_supervision_level_text  \\\n",
       "0                 0   Risk of Violence                        Low   \n",
       "1                 0   Risk of Violence                        Low   \n",
       "\n",
       "  marital_status  reoffending_risk  \n",
       "0         Single                 1  \n",
       "1         Single                 1  "
      ]
     },
     "execution_count": 53,
     "metadata": {},
     "output_type": "execute_result"
    }
   ],
   "source": [
    "mydata.head(2)"
   ]
  },
  {
   "cell_type": "code",
   "execution_count": 54,
   "metadata": {
    "colab": {
     "autoexec": {
      "startup": false,
      "wait_interval": 0
     }
    },
    "colab_type": "code",
    "id": "xkkogYMO7vk4"
   },
   "outputs": [
    {
     "data": {
      "text/plain": [
       "1    341627\n",
       "0    206965\n",
       "Name: reoffending_risk, dtype: int64"
      ]
     },
     "execution_count": 54,
     "metadata": {},
     "output_type": "execute_result"
    }
   ],
   "source": [
    "mydata['reoffending_risk'].value_counts()"
   ]
  },
  {
   "cell_type": "code",
   "execution_count": 55,
   "metadata": {
    "colab": {
     "autoexec": {
      "startup": false,
      "wait_interval": 0
     }
    },
    "colab_type": "code",
    "id": "0ghe0b1c7vk6"
   },
   "outputs": [
    {
     "data": {
      "text/plain": [
       "1    479202\n",
       "0     69390\n",
       "Name: sex, dtype: int64"
      ]
     },
     "execution_count": 55,
     "metadata": {},
     "output_type": "execute_result"
    }
   ],
   "source": [
    "mydata.sex.value_counts()"
   ]
  },
  {
   "cell_type": "code",
   "execution_count": 56,
   "metadata": {
    "colab": {
     "autoexec": {
      "startup": false,
      "wait_interval": 0
     }
    },
    "colab_type": "code",
    "id": "eBKB-ol17vk8"
   },
   "outputs": [
    {
     "data": {
      "text/plain": [
       "1    327084\n",
       "0    221508\n",
       "Name: race, dtype: int64"
      ]
     },
     "execution_count": 56,
     "metadata": {},
     "output_type": "execute_result"
    }
   ],
   "source": [
    "mydata.race.value_counts()"
   ]
  },
  {
   "cell_type": "code",
   "execution_count": 57,
   "metadata": {
    "colab": {
     "autoexec": {
      "startup": false,
      "wait_interval": 0
     }
    },
    "colab_type": "code",
    "id": "oxIaSn2b7vk9"
   },
   "outputs": [
    {
     "data": {
      "text/plain": [
       "1    470304\n",
       "0     78288\n",
       "Name: age_binary, dtype: int64"
      ]
     },
     "execution_count": 57,
     "metadata": {},
     "output_type": "execute_result"
    }
   ],
   "source": [
    "mydata.age_binary.value_counts()"
   ]
  },
  {
   "cell_type": "code",
   "execution_count": 58,
   "metadata": {
    "colab": {
     "autoexec": {
      "startup": false,
      "wait_interval": 0
     }
    },
    "colab_type": "code",
    "id": "ACGuo2T_7vlA",
    "outputId": "2e400701-444e-4dfa-8d7a-cef104b07d37"
   },
   "outputs": [
    {
     "name": "stderr",
     "output_type": "stream",
     "text": [
      "/Applications/anaconda3/lib/python3.6/site-packages/pandas/core/generic.py:5303: SettingWithCopyWarning: \n",
      "A value is trying to be set on a copy of a slice from a DataFrame.\n",
      "Try using .loc[row_indexer,col_indexer] = value instead\n",
      "\n",
      "See the caveats in the documentation: https://pandas.pydata.org/pandas-docs/stable/user_guide/indexing.html#returning-a-view-versus-a-copy\n",
      "  self[name] = value\n"
     ]
    }
   ],
   "source": [
    "mydata.type_of_assessment =  mydata[\"type_of_assessment\"].str.replace(' ', '_')"
   ]
  },
  {
   "cell_type": "code",
   "execution_count": 59,
   "metadata": {
    "colab": {
     "autoexec": {
      "startup": false,
      "wait_interval": 0
     }
    },
    "colab_type": "code",
    "id": "bpnn98gN7vlC",
    "outputId": "e81895c3-e886-4838-c3aa-34326a66a8ee"
   },
   "outputs": [],
   "source": [
    "mydata.marital_status =  mydata[\"marital_status\"].str.replace(' ', '_')"
   ]
  },
  {
   "cell_type": "code",
   "execution_count": 60,
   "metadata": {
    "colab": {
     "autoexec": {
      "startup": false,
      "wait_interval": 0
     }
    },
    "colab_type": "code",
    "id": "xA8ylZ1T7vlE",
    "outputId": "a0b27edd-3de5-41f1-f10e-31caf6a7de85",
    "scrolled": true
   },
   "outputs": [],
   "source": [
    "mydata.rec_supervision_level_text =  mydata[\"rec_supervision_level_text\"].str.replace(' ', '_')"
   ]
  },
  {
   "cell_type": "markdown",
   "metadata": {},
   "source": [
    "### Copy of the final data"
   ]
  },
  {
   "cell_type": "code",
   "execution_count": 61,
   "metadata": {
    "colab": {
     "autoexec": {
      "startup": false,
      "wait_interval": 0
     }
    },
    "colab_type": "code",
    "id": "-4fBiwuf7vlL"
   },
   "outputs": [],
   "source": [
    "mydata2 = mydata.copy()"
   ]
  },
  {
   "cell_type": "code",
   "execution_count": 62,
   "metadata": {
    "colab": {
     "autoexec": {
      "startup": false,
      "wait_interval": 0
     }
    },
    "colab_type": "code",
    "id": "ZeIifwFY7vlM"
   },
   "outputs": [],
   "source": [
    "# Creating dummy columns\n",
    "mydata2 = pd.get_dummies(mydata2, columns=['rec_supervision_level_text','marital_status',\n",
    "                        'type_of_assessment'],\n",
    "               dummy_na=True)"
   ]
  },
  {
   "cell_type": "code",
   "execution_count": 63,
   "metadata": {
    "colab": {
     "autoexec": {
      "startup": false,
      "wait_interval": 0
     }
    },
    "colab_type": "code",
    "id": "8JYYFGKv7vlQ"
   },
   "outputs": [
    {
     "data": {
      "text/plain": [
       "sex                                                              int64\n",
       "race                                                             int64\n",
       "age                                                              int64\n",
       "juv_misd_count                                                   int64\n",
       "juv_other_count                                                  int64\n",
       "juv_fel_count                                                    int64\n",
       "priors_count                                                     int64\n",
       "is_recid                                                         int64\n",
       "num_r_cases                                                      int64\n",
       "age_binary                                                       int64\n",
       "r_days_from_arrest                                               int64\n",
       "is_violent_recid                                                 int64\n",
       "reoffending_risk                                                 int64\n",
       "rec_supervision_level_text_High                                  uint8\n",
       "rec_supervision_level_text_Low                                   uint8\n",
       "rec_supervision_level_text_Medium                                uint8\n",
       "rec_supervision_level_text_Medium_with_Override_Consideration    uint8\n",
       "rec_supervision_level_text_nan                                   uint8\n",
       "marital_status_Divorced                                          uint8\n",
       "marital_status_Married                                           uint8\n",
       "marital_status_Separated                                         uint8\n",
       "marital_status_Significant_Other                                 uint8\n",
       "marital_status_Single                                            uint8\n",
       "marital_status_Unknown                                           uint8\n",
       "marital_status_Widowed                                           uint8\n",
       "marital_status_nan                                               uint8\n",
       "type_of_assessment_Risk_of_Failure_to_Appear                     uint8\n",
       "type_of_assessment_Risk_of_Recidivism                            uint8\n",
       "type_of_assessment_Risk_of_Violence                              uint8\n",
       "type_of_assessment_nan                                           uint8\n",
       "dtype: object"
      ]
     },
     "execution_count": 63,
     "metadata": {},
     "output_type": "execute_result"
    }
   ],
   "source": [
    "mydata2.dtypes"
   ]
  },
  {
   "cell_type": "code",
   "execution_count": 64,
   "metadata": {},
   "outputs": [],
   "source": [
    "#### Dropping some the nan' and 'age' columns ####\n",
    "\n",
    "mydata2.drop(labels=['age','type_of_assessment_nan', 'marital_status_nan','rec_supervision_level_text_nan'], axis=1, inplace=True)"
   ]
  },
  {
   "cell_type": "code",
   "execution_count": 65,
   "metadata": {
    "colab": {
     "autoexec": {
      "startup": false,
      "wait_interval": 0
     }
    },
    "colab_type": "code",
    "id": "uP0--_3p7vlW",
    "outputId": "f8518293-c955-42dc-b537-8921864a3455"
   },
   "outputs": [
    {
     "data": {
      "text/html": [
       "<div>\n",
       "<style scoped>\n",
       "    .dataframe tbody tr th:only-of-type {\n",
       "        vertical-align: middle;\n",
       "    }\n",
       "\n",
       "    .dataframe tbody tr th {\n",
       "        vertical-align: top;\n",
       "    }\n",
       "\n",
       "    .dataframe thead th {\n",
       "        text-align: right;\n",
       "    }\n",
       "</style>\n",
       "<table border=\"1\" class=\"dataframe\">\n",
       "  <thead>\n",
       "    <tr style=\"text-align: right;\">\n",
       "      <th></th>\n",
       "      <th>sex</th>\n",
       "      <th>race</th>\n",
       "      <th>juv_misd_count</th>\n",
       "      <th>juv_other_count</th>\n",
       "      <th>juv_fel_count</th>\n",
       "      <th>priors_count</th>\n",
       "      <th>is_recid</th>\n",
       "      <th>num_r_cases</th>\n",
       "      <th>age_binary</th>\n",
       "      <th>r_days_from_arrest</th>\n",
       "      <th>...</th>\n",
       "      <th>marital_status_Divorced</th>\n",
       "      <th>marital_status_Married</th>\n",
       "      <th>marital_status_Separated</th>\n",
       "      <th>marital_status_Significant_Other</th>\n",
       "      <th>marital_status_Single</th>\n",
       "      <th>marital_status_Unknown</th>\n",
       "      <th>marital_status_Widowed</th>\n",
       "      <th>type_of_assessment_Risk_of_Failure_to_Appear</th>\n",
       "      <th>type_of_assessment_Risk_of_Recidivism</th>\n",
       "      <th>type_of_assessment_Risk_of_Violence</th>\n",
       "    </tr>\n",
       "  </thead>\n",
       "  <tbody>\n",
       "    <tr>\n",
       "      <th>0</th>\n",
       "      <td>0</td>\n",
       "      <td>1</td>\n",
       "      <td>0</td>\n",
       "      <td>0</td>\n",
       "      <td>0</td>\n",
       "      <td>0</td>\n",
       "      <td>1</td>\n",
       "      <td>1</td>\n",
       "      <td>0</td>\n",
       "      <td>0</td>\n",
       "      <td>...</td>\n",
       "      <td>0</td>\n",
       "      <td>0</td>\n",
       "      <td>0</td>\n",
       "      <td>0</td>\n",
       "      <td>1</td>\n",
       "      <td>0</td>\n",
       "      <td>0</td>\n",
       "      <td>0</td>\n",
       "      <td>0</td>\n",
       "      <td>1</td>\n",
       "    </tr>\n",
       "    <tr>\n",
       "      <th>1</th>\n",
       "      <td>0</td>\n",
       "      <td>1</td>\n",
       "      <td>0</td>\n",
       "      <td>0</td>\n",
       "      <td>0</td>\n",
       "      <td>0</td>\n",
       "      <td>1</td>\n",
       "      <td>1</td>\n",
       "      <td>0</td>\n",
       "      <td>0</td>\n",
       "      <td>...</td>\n",
       "      <td>0</td>\n",
       "      <td>0</td>\n",
       "      <td>0</td>\n",
       "      <td>0</td>\n",
       "      <td>1</td>\n",
       "      <td>0</td>\n",
       "      <td>0</td>\n",
       "      <td>0</td>\n",
       "      <td>0</td>\n",
       "      <td>1</td>\n",
       "    </tr>\n",
       "  </tbody>\n",
       "</table>\n",
       "<p>2 rows × 26 columns</p>\n",
       "</div>"
      ],
      "text/plain": [
       "   sex  race  juv_misd_count  juv_other_count  juv_fel_count  priors_count  \\\n",
       "0    0     1               0                0              0             0   \n",
       "1    0     1               0                0              0             0   \n",
       "\n",
       "   is_recid  num_r_cases  age_binary  r_days_from_arrest  ...  \\\n",
       "0         1            1           0                   0  ...   \n",
       "1         1            1           0                   0  ...   \n",
       "\n",
       "   marital_status_Divorced  marital_status_Married  marital_status_Separated  \\\n",
       "0                        0                       0                         0   \n",
       "1                        0                       0                         0   \n",
       "\n",
       "   marital_status_Significant_Other  marital_status_Single  \\\n",
       "0                                 0                      1   \n",
       "1                                 0                      1   \n",
       "\n",
       "   marital_status_Unknown  marital_status_Widowed  \\\n",
       "0                       0                       0   \n",
       "1                       0                       0   \n",
       "\n",
       "   type_of_assessment_Risk_of_Failure_to_Appear  \\\n",
       "0                                             0   \n",
       "1                                             0   \n",
       "\n",
       "   type_of_assessment_Risk_of_Recidivism  type_of_assessment_Risk_of_Violence  \n",
       "0                                      0                                    1  \n",
       "1                                      0                                    1  \n",
       "\n",
       "[2 rows x 26 columns]"
      ]
     },
     "execution_count": 65,
     "metadata": {},
     "output_type": "execute_result"
    }
   ],
   "source": [
    "mydata2.head(2)"
   ]
  },
  {
   "cell_type": "code",
   "execution_count": 66,
   "metadata": {
    "scrolled": true
   },
   "outputs": [
    {
     "data": {
      "text/plain": [
       "<matplotlib.axes._subplots.AxesSubplot at 0x1a2958a9b0>"
      ]
     },
     "execution_count": 66,
     "metadata": {},
     "output_type": "execute_result"
    },
    {
     "data": {
      "image/png": "[encoded data removed]",
      "text/plain": [
       "<Figure size 432x288 with 1 Axes>"
      ]
     },
     "metadata": {
      "needs_background": "light"
     },
     "output_type": "display_data"
    }
   ],
   "source": [
    "sns.barplot(x=\"race\", y=\"reoffending_risk\", hue=\"sex\", data=mydata2)"
   ]
  },
  {
   "cell_type": "code",
   "execution_count": 67,
   "metadata": {},
   "outputs": [
    {
     "data": {
      "text/plain": [
       "<matplotlib.axes._subplots.AxesSubplot at 0x1a2a732e80>"
      ]
     },
     "execution_count": 67,
     "metadata": {},
     "output_type": "execute_result"
    },
    {
     "data": {
      "image/png": "[encoded data removed]",
      "text/plain": [
       "<Figure size 432x288 with 1 Axes>"
      ]
     },
     "metadata": {
      "needs_background": "light"
     },
     "output_type": "display_data"
    }
   ],
   "source": [
    "sns.barplot(x='race', y='priors_count', hue='sex', data=mydata2)"
   ]
  },
  {
   "cell_type": "code",
   "execution_count": 68,
   "metadata": {},
   "outputs": [
    {
     "data": {
      "text/plain": [
       "<matplotlib.axes._subplots.AxesSubplot at 0x1a2ad9ba90>"
      ]
     },
     "execution_count": 68,
     "metadata": {},
     "output_type": "execute_result"
    },
    {
     "data": {
      "image/png": "[encoded data removed]",
      "text/plain": [
       "<Figure size 432x288 with 1 Axes>"
      ]
     },
     "metadata": {
      "needs_background": "light"
     },
     "output_type": "display_data"
    }
   ],
   "source": [
    "sns.barplot(x='race', y = 'age', hue='sex', data=mydata)"
   ]
  },
  {
   "cell_type": "code",
   "execution_count": 69,
   "metadata": {},
   "outputs": [
    {
     "name": "stderr",
     "output_type": "stream",
     "text": [
      "/Applications/anaconda3/lib/python3.6/site-packages/seaborn/categorical.py:3669: UserWarning: The `factorplot` function has been renamed to `catplot`. The original name will be removed in a future release. Please update your code. Note that the default `kind` in `factorplot` (`'point'`) has changed `'strip'` in `catplot`.\n",
      "  warnings.warn(msg)\n",
      "/Applications/anaconda3/lib/python3.6/site-packages/seaborn/categorical.py:3675: UserWarning: The `size` parameter has been renamed to `height`; please update your code.\n",
      "  warnings.warn(msg, UserWarning)\n"
     ]
    },
    {
     "data": {
      "text/plain": [
       "<seaborn.axisgrid.FacetGrid at 0x1a23e82780>"
      ]
     },
     "execution_count": 69,
     "metadata": {},
     "output_type": "execute_result"
    },
    {
     "data": {
      "image/png": "[encoded data removed]",
      "text/plain": [
       "<Figure size 906.375x288 with 1 Axes>"
      ]
     },
     "metadata": {
      "needs_background": "light"
     },
     "output_type": "display_data"
    }
   ],
   "source": [
    "sns.factorplot(x='marital_status', y='reoffending_risk', hue='race', data= mydata, size=4, aspect=3)"
   ]
  },
  {
   "cell_type": "markdown",
   "metadata": {
    "colab_type": "text",
    "id": "FYGE2urw7vlc"
   },
   "source": [
    "## Themis-ml"
   ]
  },
  {
   "cell_type": "code",
   "execution_count": 70,
   "metadata": {
    "colab": {
     "autoexec": {
      "startup": false,
      "wait_interval": 0
     }
    },
    "colab_type": "code",
    "id": "t6cy0ho37vld"
   },
   "outputs": [],
   "source": [
    "from themis_ml.metrics import mean_difference"
   ]
  },
  {
   "cell_type": "code",
   "execution_count": 71,
   "metadata": {
    "colab": {
     "autoexec": {
      "startup": false,
      "wait_interval": 0
     }
    },
    "colab_type": "code",
    "id": "37qAo8Ps7vlh"
   },
   "outputs": [
    {
     "data": {
      "text/plain": [
       "(0.0827457953574724, 0.07889331180813813, 0.08659827890680666)"
      ]
     },
     "execution_count": 71,
     "metadata": {},
     "output_type": "execute_result"
    }
   ],
   "source": [
    "mean_difference(mydata2.reoffending_risk,mydata2.sex)"
   ]
  },
  {
   "cell_type": "code",
   "execution_count": 72,
   "metadata": {
    "colab": {
     "autoexec": {
      "startup": false,
      "wait_interval": 0
     }
    },
    "colab_type": "code",
    "id": "kQncwYnk7vlj"
   },
   "outputs": [
    {
     "data": {
      "text/plain": [
       "(0.17690359841441416, 0.17433174076927235, 0.17947545605955598)"
      ]
     },
     "execution_count": 72,
     "metadata": {},
     "output_type": "execute_result"
    }
   ],
   "source": [
    "mean_difference(mydata2.reoffending_risk,mydata2.race)"
   ]
  },
  {
   "cell_type": "code",
   "execution_count": 73,
   "metadata": {
    "colab": {
     "autoexec": {
      "startup": false,
      "wait_interval": 0
     }
    },
    "colab_type": "code",
    "id": "K5sO7J7m7vlm",
    "outputId": "493653a6-53ca-46cc-9eb1-7dc05cded122"
   },
   "outputs": [
    {
     "data": {
      "text/plain": [
       "(-0.0676833009314205, -0.07134593285565995, -0.06402066900718105)"
      ]
     },
     "execution_count": 73,
     "metadata": {},
     "output_type": "execute_result"
    }
   ],
   "source": [
    "mean_difference(mydata2.reoffending_risk, mydata2.age_binary)"
   ]
  },
  {
   "cell_type": "code",
   "execution_count": 74,
   "metadata": {
    "colab": {
     "autoexec": {
      "startup": false,
      "wait_interval": 0
     }
    },
    "colab_type": "code",
    "id": "3Vba_kbL7vlp"
   },
   "outputs": [
    {
     "name": "stdout",
     "output_type": "stream",
     "text": [
      "Mean difference scores:\n",
      "protected class = sex: 0.083, 95% CI [0.079 - 0.087]\n",
      "protected class = race: 0.177, 95% CI [0.174 - 0.179]\n",
      "protected class = age: -0.068, 95% CI [-0.071 - -0.064]\n"
     ]
    }
   ],
   "source": [
    "print(\"Mean difference scores:\")\n",
    "print(\"protected class = sex: %0.03f, 95%% CI [%0.03f - %0.03f]\" %\n",
    "      mean_difference(mydata2.reoffending_risk, mydata2.sex))\n",
    "\n",
    "print(\"protected class = race: %0.03f, 95%% CI [%0.03f - %0.03f]\" %\n",
    "      mean_difference(mydata2.reoffending_risk, mydata2.race))\n",
    "\n",
    "print(\"protected class = age: %0.03f, 95%% CI [%0.03f - %0.03f]\" %\n",
    "      mean_difference(mydata2.reoffending_risk, mydata2.age_binary))"
   ]
  },
  {
   "cell_type": "code",
   "execution_count": 75,
   "metadata": {
    "colab": {
     "autoexec": {
      "startup": false,
      "wait_interval": 0
     }
    },
    "colab_type": "code",
    "id": "_U2rVyWa7vlr"
   },
   "outputs": [],
   "source": [
    "# Taking a random 50,000 sample from the data\n",
    "mydata_small2=mydata2.sample(50000)"
   ]
  },
  {
   "cell_type": "code",
   "execution_count": 76,
   "metadata": {
    "colab": {
     "autoexec": {
      "startup": false,
      "wait_interval": 0
     }
    },
    "colab_type": "code",
    "id": "4twtbavU7vlt",
    "outputId": "aed9d81d-8918-4040-b135-db45cd0f1de9"
   },
   "outputs": [
    {
     "data": {
      "text/plain": [
       "50000"
      ]
     },
     "execution_count": 76,
     "metadata": {},
     "output_type": "execute_result"
    }
   ],
   "source": [
    "len(mydata_small2)"
   ]
  },
  {
   "cell_type": "code",
   "execution_count": 77,
   "metadata": {
    "colab": {
     "autoexec": {
      "startup": false,
      "wait_interval": 0
     }
    },
    "colab_type": "code",
    "id": "dB75NFG-7vlw",
    "outputId": "8465d230-a725-4d55-8a9e-085f61d1beb5"
   },
   "outputs": [
    {
     "data": {
      "text/html": [
       "<div>\n",
       "<style scoped>\n",
       "    .dataframe tbody tr th:only-of-type {\n",
       "        vertical-align: middle;\n",
       "    }\n",
       "\n",
       "    .dataframe tbody tr th {\n",
       "        vertical-align: top;\n",
       "    }\n",
       "\n",
       "    .dataframe thead th {\n",
       "        text-align: right;\n",
       "    }\n",
       "</style>\n",
       "<table border=\"1\" class=\"dataframe\">\n",
       "  <thead>\n",
       "    <tr style=\"text-align: right;\">\n",
       "      <th></th>\n",
       "      <th>sex</th>\n",
       "      <th>race</th>\n",
       "      <th>juv_misd_count</th>\n",
       "      <th>juv_other_count</th>\n",
       "      <th>juv_fel_count</th>\n",
       "      <th>priors_count</th>\n",
       "      <th>is_recid</th>\n",
       "      <th>num_r_cases</th>\n",
       "      <th>age_binary</th>\n",
       "      <th>r_days_from_arrest</th>\n",
       "      <th>...</th>\n",
       "      <th>marital_status_Divorced</th>\n",
       "      <th>marital_status_Married</th>\n",
       "      <th>marital_status_Separated</th>\n",
       "      <th>marital_status_Significant_Other</th>\n",
       "      <th>marital_status_Single</th>\n",
       "      <th>marital_status_Unknown</th>\n",
       "      <th>marital_status_Widowed</th>\n",
       "      <th>type_of_assessment_Risk_of_Failure_to_Appear</th>\n",
       "      <th>type_of_assessment_Risk_of_Recidivism</th>\n",
       "      <th>type_of_assessment_Risk_of_Violence</th>\n",
       "    </tr>\n",
       "  </thead>\n",
       "  <tbody>\n",
       "    <tr>\n",
       "      <th>430407</th>\n",
       "      <td>1</td>\n",
       "      <td>0</td>\n",
       "      <td>0</td>\n",
       "      <td>0</td>\n",
       "      <td>0</td>\n",
       "      <td>4</td>\n",
       "      <td>1</td>\n",
       "      <td>1</td>\n",
       "      <td>1</td>\n",
       "      <td>0</td>\n",
       "      <td>...</td>\n",
       "      <td>0</td>\n",
       "      <td>1</td>\n",
       "      <td>0</td>\n",
       "      <td>0</td>\n",
       "      <td>0</td>\n",
       "      <td>0</td>\n",
       "      <td>0</td>\n",
       "      <td>0</td>\n",
       "      <td>1</td>\n",
       "      <td>0</td>\n",
       "    </tr>\n",
       "    <tr>\n",
       "      <th>324882</th>\n",
       "      <td>1</td>\n",
       "      <td>1</td>\n",
       "      <td>0</td>\n",
       "      <td>0</td>\n",
       "      <td>0</td>\n",
       "      <td>15</td>\n",
       "      <td>0</td>\n",
       "      <td>2</td>\n",
       "      <td>1</td>\n",
       "      <td>0</td>\n",
       "      <td>...</td>\n",
       "      <td>0</td>\n",
       "      <td>0</td>\n",
       "      <td>0</td>\n",
       "      <td>1</td>\n",
       "      <td>0</td>\n",
       "      <td>0</td>\n",
       "      <td>0</td>\n",
       "      <td>0</td>\n",
       "      <td>1</td>\n",
       "      <td>0</td>\n",
       "    </tr>\n",
       "  </tbody>\n",
       "</table>\n",
       "<p>2 rows × 26 columns</p>\n",
       "</div>"
      ],
      "text/plain": [
       "        sex  race  juv_misd_count  juv_other_count  juv_fel_count  \\\n",
       "430407    1     0               0                0              0   \n",
       "324882    1     1               0                0              0   \n",
       "\n",
       "        priors_count  is_recid  num_r_cases  age_binary  r_days_from_arrest  \\\n",
       "430407             4         1            1           1                   0   \n",
       "324882            15         0            2           1                   0   \n",
       "\n",
       "        ...  marital_status_Divorced  marital_status_Married  \\\n",
       "430407  ...                        0                       1   \n",
       "324882  ...                        0                       0   \n",
       "\n",
       "        marital_status_Separated  marital_status_Significant_Other  \\\n",
       "430407                         0                                 0   \n",
       "324882                         0                                 1   \n",
       "\n",
       "        marital_status_Single  marital_status_Unknown  marital_status_Widowed  \\\n",
       "430407                      0                       0                       0   \n",
       "324882                      0                       0                       0   \n",
       "\n",
       "        type_of_assessment_Risk_of_Failure_to_Appear  \\\n",
       "430407                                             0   \n",
       "324882                                             0   \n",
       "\n",
       "        type_of_assessment_Risk_of_Recidivism  \\\n",
       "430407                                      1   \n",
       "324882                                      1   \n",
       "\n",
       "        type_of_assessment_Risk_of_Violence  \n",
       "430407                                    0  \n",
       "324882                                    0  \n",
       "\n",
       "[2 rows x 26 columns]"
      ]
     },
     "execution_count": 77,
     "metadata": {},
     "output_type": "execute_result"
    }
   ],
   "source": [
    "mydata_small2.head(2)"
   ]
  },
  {
   "cell_type": "code",
   "execution_count": 78,
   "metadata": {
    "colab": {
     "autoexec": {
      "startup": false,
      "wait_interval": 0
     }
    },
    "colab_type": "code",
    "id": "YWI6TRVP7vl3"
   },
   "outputs": [],
   "source": [
    "sex=mydata_small2['sex']\n",
    "race=mydata_small2['race']"
   ]
  },
  {
   "cell_type": "code",
   "execution_count": 79,
   "metadata": {
    "colab": {
     "autoexec": {
      "startup": false,
      "wait_interval": 0
     }
    },
    "colab_type": "code",
    "id": "67UGKQy57vl5"
   },
   "outputs": [
    {
     "data": {
      "text/html": [
       "<div>\n",
       "<style scoped>\n",
       "    .dataframe tbody tr th:only-of-type {\n",
       "        vertical-align: middle;\n",
       "    }\n",
       "\n",
       "    .dataframe tbody tr th {\n",
       "        vertical-align: top;\n",
       "    }\n",
       "\n",
       "    .dataframe thead th {\n",
       "        text-align: right;\n",
       "    }\n",
       "</style>\n",
       "<table border=\"1\" class=\"dataframe\">\n",
       "  <thead>\n",
       "    <tr style=\"text-align: right;\">\n",
       "      <th></th>\n",
       "      <th>sex</th>\n",
       "      <th>race</th>\n",
       "      <th>juv_misd_count</th>\n",
       "      <th>juv_other_count</th>\n",
       "      <th>juv_fel_count</th>\n",
       "      <th>priors_count</th>\n",
       "      <th>is_recid</th>\n",
       "      <th>num_r_cases</th>\n",
       "      <th>age_binary</th>\n",
       "      <th>r_days_from_arrest</th>\n",
       "      <th>...</th>\n",
       "      <th>marital_status_Divorced</th>\n",
       "      <th>marital_status_Married</th>\n",
       "      <th>marital_status_Separated</th>\n",
       "      <th>marital_status_Significant_Other</th>\n",
       "      <th>marital_status_Single</th>\n",
       "      <th>marital_status_Unknown</th>\n",
       "      <th>marital_status_Widowed</th>\n",
       "      <th>type_of_assessment_Risk_of_Failure_to_Appear</th>\n",
       "      <th>type_of_assessment_Risk_of_Recidivism</th>\n",
       "      <th>type_of_assessment_Risk_of_Violence</th>\n",
       "    </tr>\n",
       "  </thead>\n",
       "  <tbody>\n",
       "    <tr>\n",
       "      <th>430407</th>\n",
       "      <td>1</td>\n",
       "      <td>0</td>\n",
       "      <td>0</td>\n",
       "      <td>0</td>\n",
       "      <td>0</td>\n",
       "      <td>4</td>\n",
       "      <td>1</td>\n",
       "      <td>1</td>\n",
       "      <td>1</td>\n",
       "      <td>0</td>\n",
       "      <td>...</td>\n",
       "      <td>0</td>\n",
       "      <td>1</td>\n",
       "      <td>0</td>\n",
       "      <td>0</td>\n",
       "      <td>0</td>\n",
       "      <td>0</td>\n",
       "      <td>0</td>\n",
       "      <td>0</td>\n",
       "      <td>1</td>\n",
       "      <td>0</td>\n",
       "    </tr>\n",
       "    <tr>\n",
       "      <th>324882</th>\n",
       "      <td>1</td>\n",
       "      <td>1</td>\n",
       "      <td>0</td>\n",
       "      <td>0</td>\n",
       "      <td>0</td>\n",
       "      <td>15</td>\n",
       "      <td>0</td>\n",
       "      <td>2</td>\n",
       "      <td>1</td>\n",
       "      <td>0</td>\n",
       "      <td>...</td>\n",
       "      <td>0</td>\n",
       "      <td>0</td>\n",
       "      <td>0</td>\n",
       "      <td>1</td>\n",
       "      <td>0</td>\n",
       "      <td>0</td>\n",
       "      <td>0</td>\n",
       "      <td>0</td>\n",
       "      <td>1</td>\n",
       "      <td>0</td>\n",
       "    </tr>\n",
       "    <tr>\n",
       "      <th>451975</th>\n",
       "      <td>1</td>\n",
       "      <td>1</td>\n",
       "      <td>0</td>\n",
       "      <td>0</td>\n",
       "      <td>0</td>\n",
       "      <td>13</td>\n",
       "      <td>0</td>\n",
       "      <td>2</td>\n",
       "      <td>1</td>\n",
       "      <td>0</td>\n",
       "      <td>...</td>\n",
       "      <td>0</td>\n",
       "      <td>0</td>\n",
       "      <td>1</td>\n",
       "      <td>0</td>\n",
       "      <td>0</td>\n",
       "      <td>0</td>\n",
       "      <td>0</td>\n",
       "      <td>1</td>\n",
       "      <td>0</td>\n",
       "      <td>0</td>\n",
       "    </tr>\n",
       "    <tr>\n",
       "      <th>93260</th>\n",
       "      <td>1</td>\n",
       "      <td>1</td>\n",
       "      <td>0</td>\n",
       "      <td>0</td>\n",
       "      <td>0</td>\n",
       "      <td>9</td>\n",
       "      <td>0</td>\n",
       "      <td>2</td>\n",
       "      <td>1</td>\n",
       "      <td>0</td>\n",
       "      <td>...</td>\n",
       "      <td>0</td>\n",
       "      <td>0</td>\n",
       "      <td>0</td>\n",
       "      <td>1</td>\n",
       "      <td>0</td>\n",
       "      <td>0</td>\n",
       "      <td>0</td>\n",
       "      <td>0</td>\n",
       "      <td>0</td>\n",
       "      <td>1</td>\n",
       "    </tr>\n",
       "    <tr>\n",
       "      <th>120410</th>\n",
       "      <td>1</td>\n",
       "      <td>1</td>\n",
       "      <td>0</td>\n",
       "      <td>0</td>\n",
       "      <td>0</td>\n",
       "      <td>6</td>\n",
       "      <td>1</td>\n",
       "      <td>2</td>\n",
       "      <td>1</td>\n",
       "      <td>0</td>\n",
       "      <td>...</td>\n",
       "      <td>0</td>\n",
       "      <td>0</td>\n",
       "      <td>0</td>\n",
       "      <td>0</td>\n",
       "      <td>1</td>\n",
       "      <td>0</td>\n",
       "      <td>0</td>\n",
       "      <td>0</td>\n",
       "      <td>1</td>\n",
       "      <td>0</td>\n",
       "    </tr>\n",
       "  </tbody>\n",
       "</table>\n",
       "<p>5 rows × 26 columns</p>\n",
       "</div>"
      ],
      "text/plain": [
       "        sex  race  juv_misd_count  juv_other_count  juv_fel_count  \\\n",
       "430407    1     0               0                0              0   \n",
       "324882    1     1               0                0              0   \n",
       "451975    1     1               0                0              0   \n",
       "93260     1     1               0                0              0   \n",
       "120410    1     1               0                0              0   \n",
       "\n",
       "        priors_count  is_recid  num_r_cases  age_binary  r_days_from_arrest  \\\n",
       "430407             4         1            1           1                   0   \n",
       "324882            15         0            2           1                   0   \n",
       "451975            13         0            2           1                   0   \n",
       "93260              9         0            2           1                   0   \n",
       "120410             6         1            2           1                   0   \n",
       "\n",
       "        ...  marital_status_Divorced  marital_status_Married  \\\n",
       "430407  ...                        0                       1   \n",
       "324882  ...                        0                       0   \n",
       "451975  ...                        0                       0   \n",
       "93260   ...                        0                       0   \n",
       "120410  ...                        0                       0   \n",
       "\n",
       "        marital_status_Separated  marital_status_Significant_Other  \\\n",
       "430407                         0                                 0   \n",
       "324882                         0                                 1   \n",
       "451975                         1                                 0   \n",
       "93260                          0                                 1   \n",
       "120410                         0                                 0   \n",
       "\n",
       "        marital_status_Single  marital_status_Unknown  marital_status_Widowed  \\\n",
       "430407                      0                       0                       0   \n",
       "324882                      0                       0                       0   \n",
       "451975                      0                       0                       0   \n",
       "93260                       0                       0                       0   \n",
       "120410                      1                       0                       0   \n",
       "\n",
       "        type_of_assessment_Risk_of_Failure_to_Appear  \\\n",
       "430407                                             0   \n",
       "324882                                             0   \n",
       "451975                                             1   \n",
       "93260                                              0   \n",
       "120410                                             0   \n",
       "\n",
       "        type_of_assessment_Risk_of_Recidivism  \\\n",
       "430407                                      1   \n",
       "324882                                      1   \n",
       "451975                                      0   \n",
       "93260                                       0   \n",
       "120410                                      1   \n",
       "\n",
       "        type_of_assessment_Risk_of_Violence  \n",
       "430407                                    0  \n",
       "324882                                    0  \n",
       "451975                                    0  \n",
       "93260                                     1  \n",
       "120410                                    0  \n",
       "\n",
       "[5 rows x 26 columns]"
      ]
     },
     "execution_count": 79,
     "metadata": {},
     "output_type": "execute_result"
    }
   ],
   "source": [
    "from sklearn.model_selection import train_test_split\n",
    "\n",
    "# load model-ready data\n",
    "training_data = mydata_small2\n",
    "training_data.head()\n",
    "\n",
    "# define feature sets:\n",
    "# 1. including protected attributes\n",
    "   \n",
    "features = ['sex', 'race', 'age_binary','juv_fel_count',\n",
    "       'juv_misd_count', 'juv_other_count', \n",
    "       'priors_count','is_recid',\n",
    "       'num_r_cases','r_days_from_arrest','is_violent_recid',\n",
    "       'marital_status_Single', 'marital_status_Widowed', 'marital_status_Married',  'marital_status_Divorced','marital_status_Separated',\n",
    "       'marital_status_Significant_Other', 'marital_status_Unknown','rec_supervision_level_text_Low','rec_supervision_level_text_Medium',\n",
    "       'rec_supervision_level_text_High', 'rec_supervision_level_text_Medium_with_Override_Consideration','type_of_assessment_Risk_of_Violence',\n",
    "       'type_of_assessment_Risk_of_Recidivism','type_of_assessment_Risk_of_Failure_to_Appear', 'reoffending_risk'\n",
    "]\n",
    "    \n",
    "    \n",
    "# 3. removing variables related to sex and race\n",
    "features_no_race = [f for f in features if f != \"race\"]\n",
    "features_no_sex = [f for f in features if f != \"sex\"]\n",
    "\n",
    "X = training_data[features].values\n",
    "X_no_sex = training_data[features_no_sex].values\n",
    "X_no_race = training_data[features_no_race].values\n",
    "y = training_data[\"reoffending_risk\"].values\n",
    "s_sex = sex.values\n",
    "s_race = race.values\n"
   ]
  },
  {
   "cell_type": "code",
   "execution_count": 80,
   "metadata": {
    "colab": {
     "autoexec": {
      "startup": false,
      "wait_interval": 0
     }
    },
    "colab_type": "code",
    "id": "gQ6np-6z7vl7"
   },
   "outputs": [],
   "source": [
    "import pandas as pd\n",
    "\n",
    "from sklearn.linear_model import LogisticRegression\n",
    "from sklearn.ensemble import RandomForestClassifier\n",
    "from sklearn.metrics import roc_auc_score\n",
    "from sklearn.model_selection import RepeatedStratifiedKFold\n",
    "from sklearn.base import clone\n",
    "\n",
    "from themis_ml.postprocessing.reject_option_classification import \\\n",
    "    SingleROClassifier\n",
    "from themis_ml.linear_model import LinearACFClassifier"
   ]
  },
  {
   "cell_type": "code",
   "execution_count": 81,
   "metadata": {
    "colab": {
     "autoexec": {
      "startup": false,
      "wait_interval": 0
     }
    },
    "colab_type": "code",
    "id": "KC1fGIrv7vl8"
   },
   "outputs": [],
   "source": [
    "METRICS_COLUMNS = [\n",
    "    \"mean_diff_sex\", \"mean_diff_race\", \"auc_sex\", \"auc_race\"]\n",
    "\n",
    "\n",
    "def run_experiment_iteration(\n",
    "        X, X_no_sex, X_no_race, y, s_sex, s_race, train, test):\n",
    "    \"\"\"Run the experiment on a particular set of train and test indices.\"\"\"\n",
    "    \n",
    "    # store our metrics here. This will be a list of lists, where the inner\n",
    "    # list is contains the following metadata:\n",
    "    # - \"name\"\n",
    "    # - fairness metric with respect to sex\n",
    "    # - fairness metric with respect to foreign status\n",
    "    # - utility metric with respect to sex\n",
    "    # - utility metric with respect to foreign status\n",
    "    metrics = []\n",
    "\n",
    "    # define our model.\n",
    "    logistic_clf = LogisticRegression(penalty=\"l2\", C=0.001, class_weight=\"balanced\")\n",
    "    rf_clf = RandomForestClassifier(max_depth=4, random_state=10)\n",
    "    baseline_clf = logistic_clf\n",
    "    baseline_rf_clf = rf_clf\n",
    "    rpa_clf = logistic_clf\n",
    "    rpa_rf_clf = rf_clf\n",
    "    roc_clf = SingleROClassifier(estimator=logistic_clf)\n",
    "    roc_rf_clf = SingleROClassifier(estimator = baseline_rf_clf)\n",
    "    acf_clf = LinearACFClassifier(\n",
    "        target_estimator=logistic_clf,\n",
    "        binary_residual_type=\"absolute\")\n",
    "    acf_rf_clf = LinearACFClassifier(\n",
    "        target_estimator=rf_clf,\n",
    "        binary_residual_type=\"absolute\")\n",
    "    \n",
    "    # train baseline model\n",
    "    baseline_clf.fit(X[train], y[train])\n",
    "    baseline_preds = baseline_clf.predict(X[test])\n",
    "    baseline_auc = roc_auc_score(y[test], baseline_preds)\n",
    "    metrics.append([\n",
    "        \"B\",\n",
    "        mean_difference(baseline_preds, s_sex[test])[0],\n",
    "        mean_difference(baseline_preds, s_race[test])[0],\n",
    "        baseline_auc, baseline_auc  # repeated because the two AUC values are the\n",
    "                                    # same in the baseline case\n",
    "    ])\n",
    "    baseline_rf_clf.fit(X[train], y[train])\n",
    "    baseline_rf_preds = baseline_rf_clf.predict(X[test])\n",
    "    baseline_rf_auc = roc_auc_score(y[test], baseline_rf_preds)\n",
    "    metrics.append([\n",
    "        \"B_RF\",\n",
    "        mean_difference(baseline_rf_preds, s_sex[test])[0],\n",
    "        mean_difference(baseline_rf_preds, s_race[test])[0],\n",
    "        baseline_rf_auc, baseline_rf_auc  # repeated because the two AUC values are the\n",
    "                                    # same in the baseline case\n",
    "    ])\n",
    "    # train \"remove protected attributes\" model. Here we have to train two\n",
    "    # seperate ones for sex and foreign status.\n",
    "\n",
    "    # model trained with no explicitly sex-related variables\n",
    "    rpa_preds_no_sex = rpa_clf.fit(\n",
    "        X_no_sex[train], y[train]).predict(X_no_sex[test])\n",
    "    # model trained with no explicitly foreign-related variables\n",
    "    rpa_preds_no_race = rpa_clf.fit(\n",
    "        X_no_race[train], y[train]).predict(X_no_race[test])\n",
    "    metrics.append([\n",
    "        \"RPA\",\n",
    "        mean_difference(rpa_preds_no_sex, s_sex[test])[0],\n",
    "        mean_difference(rpa_preds_no_race, s_race[test])[0],\n",
    "        roc_auc_score(y[test], rpa_preds_no_sex),\n",
    "        roc_auc_score(y[test], rpa_preds_no_race),\n",
    "    ])\n",
    "    \n",
    "    rpa_rf_preds_no_sex = rpa_rf_clf.fit(\n",
    "        X_no_sex[train], y[train]).predict(X_no_sex[test])\n",
    "    # model trained with no explicitly foreign-related variables\n",
    "    rpa_rf_preds_no_race = rpa_rf_clf.fit(\n",
    "        X_no_race[train], y[train]).predict(X_no_race[test])\n",
    "    metrics.append([\n",
    "        \"RPA_RF\",\n",
    "        mean_difference(rpa_rf_preds_no_sex, s_sex[test])[0],\n",
    "        mean_difference(rpa_rf_preds_no_race, s_race[test])[0],\n",
    "        roc_auc_score(y[test], rpa_rf_preds_no_sex),\n",
    "        roc_auc_score(y[test], rpa_rf_preds_no_race),\n",
    "    ])\n",
    "    \n",
    "    # train reject-option classification model.\n",
    "    roc_clf.fit(X[train], y[train])\n",
    "    roc_preds_sex = roc_clf.predict(X[test], s_sex[test])\n",
    "    roc_preds_race = roc_clf.predict(X[test], s_race[test])\n",
    "    metrics.append([\n",
    "        \"ROC\",\n",
    "        mean_difference(roc_preds_sex, s_sex[test])[0],\n",
    "        mean_difference(roc_preds_race, s_race[test])[0],\n",
    "        roc_auc_score(y[test], roc_preds_sex),\n",
    "        roc_auc_score(y[test], roc_preds_race),\n",
    "    ])\n",
    "\n",
    "    roc_rf_clf.fit(X[train], y[train])\n",
    "    roc_rf_preds_sex = roc_rf_clf.predict(X[test], s_sex[test])\n",
    "    roc_rf_preds_race = roc_rf_clf.predict(X[test], s_race[test])\n",
    "    metrics.append([\n",
    "        \"ROC_RF\",\n",
    "        mean_difference(roc_rf_preds_sex, s_sex[test])[0],\n",
    "        mean_difference(roc_rf_preds_race, s_race[test])[0],\n",
    "        roc_auc_score(y[test], roc_rf_preds_sex),\n",
    "        roc_auc_score(y[test], roc_rf_preds_race),\n",
    "    ])\n",
    "\n",
    "    # train additive counterfactually fair model.\n",
    "    acf_preds_sex = acf_clf.fit(\n",
    "        X[train], y[train], s_sex[train]).predict(X[test], s_sex[test])\n",
    "    acf_preds_race = acf_clf.fit(\n",
    "        X[train], y[train], s_race[train]).predict(X[test], s_race[test])\n",
    "    metrics.append([\n",
    "        \"ACF\",\n",
    "        mean_difference(acf_preds_sex, s_sex[test])[0],\n",
    "        mean_difference(acf_preds_race, s_race[test])[0],\n",
    "        roc_auc_score(y[test], acf_preds_sex),\n",
    "        roc_auc_score(y[test], acf_preds_race),\n",
    "    ])\n",
    "\n",
    "    acf_rf_preds_sex = acf_rf_clf.fit(\n",
    "        X[train], y[train], s_sex[train]).predict(X[test], s_sex[test])\n",
    "    acf_rf_preds_race = acf_rf_clf.fit(\n",
    "        X[train], y[train], s_race[train]).predict(X[test], s_race[test])\n",
    "    metrics.append([\n",
    "        \"ACF_RF\",\n",
    "        mean_difference(acf_rf_preds_sex, s_sex[test])[0],\n",
    "        mean_difference(acf_rf_preds_race, s_race[test])[0],\n",
    "        roc_auc_score(y[test], acf_rf_preds_sex),\n",
    "        roc_auc_score(y[test], acf_rf_preds_race),\n",
    "    ])\n",
    "    \n",
    "    # convert metrics list of lists into dataframe\n",
    "    return pd.DataFrame(\n",
    "        metrics, columns=[\"condition\"] + METRICS_COLUMNS)"
   ]
  },
  {
   "cell_type": "code",
   "execution_count": 82,
   "metadata": {
    "colab": {
     "autoexec": {
      "startup": false,
      "wait_interval": 0
     }
    },
    "colab_type": "code",
    "id": "ltgfvX087vl9",
    "outputId": "4ec31812-13e3-402c-e50c-2c7f1399131a"
   },
   "outputs": [
    {
     "name": "stdout",
     "output_type": "stream",
     "text": [
      "Running cross-validation experiment...\n"
     ]
    },
    {
     "name": "stderr",
     "output_type": "stream",
     "text": [
      "/Applications/anaconda3/lib/python3.6/site-packages/sklearn/linear_model/_logistic.py:940: ConvergenceWarning: lbfgs failed to converge (status=1):\n",
      "STOP: TOTAL NO. of ITERATIONS REACHED LIMIT.\n",
      "\n",
      "Increase the number of iterations (max_iter) or scale the data as shown in:\n",
      "    https://scikit-learn.org/stable/modules/preprocessing.html\n",
      "Please also refer to the documentation for alternative solver options:\n",
      "    https://scikit-learn.org/stable/modules/linear_model.html#logistic-regression\n",
      "  extra_warning_msg=_LOGISTIC_SOLVER_CONVERGENCE_MSG)\n",
      "/Applications/anaconda3/lib/python3.6/site-packages/sklearn/linear_model/_logistic.py:940: ConvergenceWarning: lbfgs failed to converge (status=1):\n",
      "STOP: TOTAL NO. of ITERATIONS REACHED LIMIT.\n",
      "\n",
      "Increase the number of iterations (max_iter) or scale the data as shown in:\n",
      "    https://scikit-learn.org/stable/modules/preprocessing.html\n",
      "Please also refer to the documentation for alternative solver options:\n",
      "    https://scikit-learn.org/stable/modules/linear_model.html#logistic-regression\n",
      "  extra_warning_msg=_LOGISTIC_SOLVER_CONVERGENCE_MSG)\n",
      "/Applications/anaconda3/lib/python3.6/site-packages/sklearn/linear_model/_logistic.py:940: ConvergenceWarning: lbfgs failed to converge (status=1):\n",
      "STOP: TOTAL NO. of ITERATIONS REACHED LIMIT.\n",
      "\n",
      "Increase the number of iterations (max_iter) or scale the data as shown in:\n",
      "    https://scikit-learn.org/stable/modules/preprocessing.html\n",
      "Please also refer to the documentation for alternative solver options:\n",
      "    https://scikit-learn.org/stable/modules/linear_model.html#logistic-regression\n",
      "  extra_warning_msg=_LOGISTIC_SOLVER_CONVERGENCE_MSG)\n",
      "/Applications/anaconda3/lib/python3.6/site-packages/sklearn/linear_model/_logistic.py:940: ConvergenceWarning: lbfgs failed to converge (status=1):\n",
      "STOP: TOTAL NO. of ITERATIONS REACHED LIMIT.\n",
      "\n",
      "Increase the number of iterations (max_iter) or scale the data as shown in:\n",
      "    https://scikit-learn.org/stable/modules/preprocessing.html\n",
      "Please also refer to the documentation for alternative solver options:\n",
      "    https://scikit-learn.org/stable/modules/linear_model.html#logistic-regression\n",
      "  extra_warning_msg=_LOGISTIC_SOLVER_CONVERGENCE_MSG)\n",
      "/Applications/anaconda3/lib/python3.6/site-packages/sklearn/linear_model/_logistic.py:940: ConvergenceWarning: lbfgs failed to converge (status=1):\n",
      "STOP: TOTAL NO. of ITERATIONS REACHED LIMIT.\n",
      "\n",
      "Increase the number of iterations (max_iter) or scale the data as shown in:\n",
      "    https://scikit-learn.org/stable/modules/preprocessing.html\n",
      "Please also refer to the documentation for alternative solver options:\n",
      "    https://scikit-learn.org/stable/modules/linear_model.html#logistic-regression\n",
      "  extra_warning_msg=_LOGISTIC_SOLVER_CONVERGENCE_MSG)\n",
      "/Applications/anaconda3/lib/python3.6/site-packages/sklearn/linear_model/_logistic.py:940: ConvergenceWarning: lbfgs failed to converge (status=1):\n",
      "STOP: TOTAL NO. of ITERATIONS REACHED LIMIT.\n",
      "\n",
      "Increase the number of iterations (max_iter) or scale the data as shown in:\n",
      "    https://scikit-learn.org/stable/modules/preprocessing.html\n",
      "Please also refer to the documentation for alternative solver options:\n",
      "    https://scikit-learn.org/stable/modules/linear_model.html#logistic-regression\n",
      "  extra_warning_msg=_LOGISTIC_SOLVER_CONVERGENCE_MSG)\n",
      "/Applications/anaconda3/lib/python3.6/site-packages/sklearn/linear_model/_logistic.py:940: ConvergenceWarning: lbfgs failed to converge (status=1):\n",
      "STOP: TOTAL NO. of ITERATIONS REACHED LIMIT.\n",
      "\n",
      "Increase the number of iterations (max_iter) or scale the data as shown in:\n",
      "    https://scikit-learn.org/stable/modules/preprocessing.html\n",
      "Please also refer to the documentation for alternative solver options:\n",
      "    https://scikit-learn.org/stable/modules/linear_model.html#logistic-regression\n",
      "  extra_warning_msg=_LOGISTIC_SOLVER_CONVERGENCE_MSG)\n",
      "/Applications/anaconda3/lib/python3.6/site-packages/sklearn/linear_model/_logistic.py:940: ConvergenceWarning: lbfgs failed to converge (status=1):\n",
      "STOP: TOTAL NO. of ITERATIONS REACHED LIMIT.\n",
      "\n",
      "Increase the number of iterations (max_iter) or scale the data as shown in:\n",
      "    https://scikit-learn.org/stable/modules/preprocessing.html\n",
      "Please also refer to the documentation for alternative solver options:\n",
      "    https://scikit-learn.org/stable/modules/linear_model.html#logistic-regression\n",
      "  extra_warning_msg=_LOGISTIC_SOLVER_CONVERGENCE_MSG)\n",
      "/Applications/anaconda3/lib/python3.6/site-packages/sklearn/linear_model/_logistic.py:940: ConvergenceWarning: lbfgs failed to converge (status=1):\n",
      "STOP: TOTAL NO. of ITERATIONS REACHED LIMIT.\n",
      "\n",
      "Increase the number of iterations (max_iter) or scale the data as shown in:\n",
      "    https://scikit-learn.org/stable/modules/preprocessing.html\n",
      "Please also refer to the documentation for alternative solver options:\n",
      "    https://scikit-learn.org/stable/modules/linear_model.html#logistic-regression\n",
      "  extra_warning_msg=_LOGISTIC_SOLVER_CONVERGENCE_MSG)\n",
      "/Applications/anaconda3/lib/python3.6/site-packages/sklearn/linear_model/_logistic.py:940: ConvergenceWarning: lbfgs failed to converge (status=1):\n",
      "STOP: TOTAL NO. of ITERATIONS REACHED LIMIT.\n",
      "\n",
      "Increase the number of iterations (max_iter) or scale the data as shown in:\n",
      "    https://scikit-learn.org/stable/modules/preprocessing.html\n",
      "Please also refer to the documentation for alternative solver options:\n",
      "    https://scikit-learn.org/stable/modules/linear_model.html#logistic-regression\n",
      "  extra_warning_msg=_LOGISTIC_SOLVER_CONVERGENCE_MSG)\n",
      "/Applications/anaconda3/lib/python3.6/site-packages/sklearn/linear_model/_logistic.py:940: ConvergenceWarning: lbfgs failed to converge (status=1):\n",
      "STOP: TOTAL NO. of ITERATIONS REACHED LIMIT.\n",
      "\n",
      "Increase the number of iterations (max_iter) or scale the data as shown in:\n",
      "    https://scikit-learn.org/stable/modules/preprocessing.html\n",
      "Please also refer to the documentation for alternative solver options:\n",
      "    https://scikit-learn.org/stable/modules/linear_model.html#logistic-regression\n",
      "  extra_warning_msg=_LOGISTIC_SOLVER_CONVERGENCE_MSG)\n",
      "/Applications/anaconda3/lib/python3.6/site-packages/sklearn/linear_model/_logistic.py:940: ConvergenceWarning: lbfgs failed to converge (status=1):\n",
      "STOP: TOTAL NO. of ITERATIONS REACHED LIMIT.\n",
      "\n",
      "Increase the number of iterations (max_iter) or scale the data as shown in:\n",
      "    https://scikit-learn.org/stable/modules/preprocessing.html\n",
      "Please also refer to the documentation for alternative solver options:\n",
      "    https://scikit-learn.org/stable/modules/linear_model.html#logistic-regression\n",
      "  extra_warning_msg=_LOGISTIC_SOLVER_CONVERGENCE_MSG)\n",
      "/Applications/anaconda3/lib/python3.6/site-packages/sklearn/linear_model/_logistic.py:940: ConvergenceWarning: lbfgs failed to converge (status=1):\n",
      "STOP: TOTAL NO. of ITERATIONS REACHED LIMIT.\n",
      "\n",
      "Increase the number of iterations (max_iter) or scale the data as shown in:\n",
      "    https://scikit-learn.org/stable/modules/preprocessing.html\n",
      "Please also refer to the documentation for alternative solver options:\n",
      "    https://scikit-learn.org/stable/modules/linear_model.html#logistic-regression\n",
      "  extra_warning_msg=_LOGISTIC_SOLVER_CONVERGENCE_MSG)\n",
      "/Applications/anaconda3/lib/python3.6/site-packages/sklearn/linear_model/_logistic.py:940: ConvergenceWarning: lbfgs failed to converge (status=1):\n",
      "STOP: TOTAL NO. of ITERATIONS REACHED LIMIT.\n",
      "\n",
      "Increase the number of iterations (max_iter) or scale the data as shown in:\n",
      "    https://scikit-learn.org/stable/modules/preprocessing.html\n",
      "Please also refer to the documentation for alternative solver options:\n",
      "    https://scikit-learn.org/stable/modules/linear_model.html#logistic-regression\n",
      "  extra_warning_msg=_LOGISTIC_SOLVER_CONVERGENCE_MSG)\n",
      "/Applications/anaconda3/lib/python3.6/site-packages/sklearn/linear_model/_logistic.py:940: ConvergenceWarning: lbfgs failed to converge (status=1):\n",
      "STOP: TOTAL NO. of ITERATIONS REACHED LIMIT.\n",
      "\n",
      "Increase the number of iterations (max_iter) or scale the data as shown in:\n",
      "    https://scikit-learn.org/stable/modules/preprocessing.html\n",
      "Please also refer to the documentation for alternative solver options:\n",
      "    https://scikit-learn.org/stable/modules/linear_model.html#logistic-regression\n",
      "  extra_warning_msg=_LOGISTIC_SOLVER_CONVERGENCE_MSG)\n",
      "/Applications/anaconda3/lib/python3.6/site-packages/sklearn/linear_model/_logistic.py:940: ConvergenceWarning: lbfgs failed to converge (status=1):\n",
      "STOP: TOTAL NO. of ITERATIONS REACHED LIMIT.\n",
      "\n",
      "Increase the number of iterations (max_iter) or scale the data as shown in:\n",
      "    https://scikit-learn.org/stable/modules/preprocessing.html\n",
      "Please also refer to the documentation for alternative solver options:\n",
      "    https://scikit-learn.org/stable/modules/linear_model.html#logistic-regression\n",
      "  extra_warning_msg=_LOGISTIC_SOLVER_CONVERGENCE_MSG)\n"
     ]
    },
    {
     "name": "stderr",
     "output_type": "stream",
     "text": [
      "/Applications/anaconda3/lib/python3.6/site-packages/sklearn/linear_model/_logistic.py:940: ConvergenceWarning: lbfgs failed to converge (status=1):\n",
      "STOP: TOTAL NO. of ITERATIONS REACHED LIMIT.\n",
      "\n",
      "Increase the number of iterations (max_iter) or scale the data as shown in:\n",
      "    https://scikit-learn.org/stable/modules/preprocessing.html\n",
      "Please also refer to the documentation for alternative solver options:\n",
      "    https://scikit-learn.org/stable/modules/linear_model.html#logistic-regression\n",
      "  extra_warning_msg=_LOGISTIC_SOLVER_CONVERGENCE_MSG)\n",
      "/Applications/anaconda3/lib/python3.6/site-packages/sklearn/linear_model/_logistic.py:940: ConvergenceWarning: lbfgs failed to converge (status=1):\n",
      "STOP: TOTAL NO. of ITERATIONS REACHED LIMIT.\n",
      "\n",
      "Increase the number of iterations (max_iter) or scale the data as shown in:\n",
      "    https://scikit-learn.org/stable/modules/preprocessing.html\n",
      "Please also refer to the documentation for alternative solver options:\n",
      "    https://scikit-learn.org/stable/modules/linear_model.html#logistic-regression\n",
      "  extra_warning_msg=_LOGISTIC_SOLVER_CONVERGENCE_MSG)\n",
      "/Applications/anaconda3/lib/python3.6/site-packages/sklearn/linear_model/_logistic.py:940: ConvergenceWarning: lbfgs failed to converge (status=1):\n",
      "STOP: TOTAL NO. of ITERATIONS REACHED LIMIT.\n",
      "\n",
      "Increase the number of iterations (max_iter) or scale the data as shown in:\n",
      "    https://scikit-learn.org/stable/modules/preprocessing.html\n",
      "Please also refer to the documentation for alternative solver options:\n",
      "    https://scikit-learn.org/stable/modules/linear_model.html#logistic-regression\n",
      "  extra_warning_msg=_LOGISTIC_SOLVER_CONVERGENCE_MSG)\n",
      "/Applications/anaconda3/lib/python3.6/site-packages/sklearn/linear_model/_logistic.py:940: ConvergenceWarning: lbfgs failed to converge (status=1):\n",
      "STOP: TOTAL NO. of ITERATIONS REACHED LIMIT.\n",
      "\n",
      "Increase the number of iterations (max_iter) or scale the data as shown in:\n",
      "    https://scikit-learn.org/stable/modules/preprocessing.html\n",
      "Please also refer to the documentation for alternative solver options:\n",
      "    https://scikit-learn.org/stable/modules/linear_model.html#logistic-regression\n",
      "  extra_warning_msg=_LOGISTIC_SOLVER_CONVERGENCE_MSG)\n",
      "/Applications/anaconda3/lib/python3.6/site-packages/sklearn/linear_model/_logistic.py:940: ConvergenceWarning: lbfgs failed to converge (status=1):\n",
      "STOP: TOTAL NO. of ITERATIONS REACHED LIMIT.\n",
      "\n",
      "Increase the number of iterations (max_iter) or scale the data as shown in:\n",
      "    https://scikit-learn.org/stable/modules/preprocessing.html\n",
      "Please also refer to the documentation for alternative solver options:\n",
      "    https://scikit-learn.org/stable/modules/linear_model.html#logistic-regression\n",
      "  extra_warning_msg=_LOGISTIC_SOLVER_CONVERGENCE_MSG)\n",
      "/Applications/anaconda3/lib/python3.6/site-packages/sklearn/linear_model/_logistic.py:940: ConvergenceWarning: lbfgs failed to converge (status=1):\n",
      "STOP: TOTAL NO. of ITERATIONS REACHED LIMIT.\n",
      "\n",
      "Increase the number of iterations (max_iter) or scale the data as shown in:\n",
      "    https://scikit-learn.org/stable/modules/preprocessing.html\n",
      "Please also refer to the documentation for alternative solver options:\n",
      "    https://scikit-learn.org/stable/modules/linear_model.html#logistic-regression\n",
      "  extra_warning_msg=_LOGISTIC_SOLVER_CONVERGENCE_MSG)\n",
      "/Applications/anaconda3/lib/python3.6/site-packages/sklearn/linear_model/_logistic.py:940: ConvergenceWarning: lbfgs failed to converge (status=1):\n",
      "STOP: TOTAL NO. of ITERATIONS REACHED LIMIT.\n",
      "\n",
      "Increase the number of iterations (max_iter) or scale the data as shown in:\n",
      "    https://scikit-learn.org/stable/modules/preprocessing.html\n",
      "Please also refer to the documentation for alternative solver options:\n",
      "    https://scikit-learn.org/stable/modules/linear_model.html#logistic-regression\n",
      "  extra_warning_msg=_LOGISTIC_SOLVER_CONVERGENCE_MSG)\n",
      "/Applications/anaconda3/lib/python3.6/site-packages/sklearn/linear_model/_logistic.py:940: ConvergenceWarning: lbfgs failed to converge (status=1):\n",
      "STOP: TOTAL NO. of ITERATIONS REACHED LIMIT.\n",
      "\n",
      "Increase the number of iterations (max_iter) or scale the data as shown in:\n",
      "    https://scikit-learn.org/stable/modules/preprocessing.html\n",
      "Please also refer to the documentation for alternative solver options:\n",
      "    https://scikit-learn.org/stable/modules/linear_model.html#logistic-regression\n",
      "  extra_warning_msg=_LOGISTIC_SOLVER_CONVERGENCE_MSG)\n",
      "/Applications/anaconda3/lib/python3.6/site-packages/sklearn/linear_model/_logistic.py:940: ConvergenceWarning: lbfgs failed to converge (status=1):\n",
      "STOP: TOTAL NO. of ITERATIONS REACHED LIMIT.\n",
      "\n",
      "Increase the number of iterations (max_iter) or scale the data as shown in:\n",
      "    https://scikit-learn.org/stable/modules/preprocessing.html\n",
      "Please also refer to the documentation for alternative solver options:\n",
      "    https://scikit-learn.org/stable/modules/linear_model.html#logistic-regression\n",
      "  extra_warning_msg=_LOGISTIC_SOLVER_CONVERGENCE_MSG)\n",
      "/Applications/anaconda3/lib/python3.6/site-packages/sklearn/linear_model/_logistic.py:940: ConvergenceWarning: lbfgs failed to converge (status=1):\n",
      "STOP: TOTAL NO. of ITERATIONS REACHED LIMIT.\n",
      "\n",
      "Increase the number of iterations (max_iter) or scale the data as shown in:\n",
      "    https://scikit-learn.org/stable/modules/preprocessing.html\n",
      "Please also refer to the documentation for alternative solver options:\n",
      "    https://scikit-learn.org/stable/modules/linear_model.html#logistic-regression\n",
      "  extra_warning_msg=_LOGISTIC_SOLVER_CONVERGENCE_MSG)\n",
      "/Applications/anaconda3/lib/python3.6/site-packages/sklearn/linear_model/_logistic.py:940: ConvergenceWarning: lbfgs failed to converge (status=1):\n",
      "STOP: TOTAL NO. of ITERATIONS REACHED LIMIT.\n",
      "\n",
      "Increase the number of iterations (max_iter) or scale the data as shown in:\n",
      "    https://scikit-learn.org/stable/modules/preprocessing.html\n",
      "Please also refer to the documentation for alternative solver options:\n",
      "    https://scikit-learn.org/stable/modules/linear_model.html#logistic-regression\n",
      "  extra_warning_msg=_LOGISTIC_SOLVER_CONVERGENCE_MSG)\n",
      "/Applications/anaconda3/lib/python3.6/site-packages/sklearn/linear_model/_logistic.py:940: ConvergenceWarning: lbfgs failed to converge (status=1):\n",
      "STOP: TOTAL NO. of ITERATIONS REACHED LIMIT.\n",
      "\n",
      "Increase the number of iterations (max_iter) or scale the data as shown in:\n",
      "    https://scikit-learn.org/stable/modules/preprocessing.html\n",
      "Please also refer to the documentation for alternative solver options:\n",
      "    https://scikit-learn.org/stable/modules/linear_model.html#logistic-regression\n",
      "  extra_warning_msg=_LOGISTIC_SOLVER_CONVERGENCE_MSG)\n",
      "/Applications/anaconda3/lib/python3.6/site-packages/sklearn/linear_model/_logistic.py:940: ConvergenceWarning: lbfgs failed to converge (status=1):\n",
      "STOP: TOTAL NO. of ITERATIONS REACHED LIMIT.\n",
      "\n",
      "Increase the number of iterations (max_iter) or scale the data as shown in:\n",
      "    https://scikit-learn.org/stable/modules/preprocessing.html\n",
      "Please also refer to the documentation for alternative solver options:\n",
      "    https://scikit-learn.org/stable/modules/linear_model.html#logistic-regression\n",
      "  extra_warning_msg=_LOGISTIC_SOLVER_CONVERGENCE_MSG)\n",
      "/Applications/anaconda3/lib/python3.6/site-packages/sklearn/linear_model/_logistic.py:940: ConvergenceWarning: lbfgs failed to converge (status=1):\n",
      "STOP: TOTAL NO. of ITERATIONS REACHED LIMIT.\n",
      "\n",
      "Increase the number of iterations (max_iter) or scale the data as shown in:\n",
      "    https://scikit-learn.org/stable/modules/preprocessing.html\n",
      "Please also refer to the documentation for alternative solver options:\n",
      "    https://scikit-learn.org/stable/modules/linear_model.html#logistic-regression\n",
      "  extra_warning_msg=_LOGISTIC_SOLVER_CONVERGENCE_MSG)\n",
      "/Applications/anaconda3/lib/python3.6/site-packages/sklearn/linear_model/_logistic.py:940: ConvergenceWarning: lbfgs failed to converge (status=1):\n",
      "STOP: TOTAL NO. of ITERATIONS REACHED LIMIT.\n",
      "\n",
      "Increase the number of iterations (max_iter) or scale the data as shown in:\n",
      "    https://scikit-learn.org/stable/modules/preprocessing.html\n",
      "Please also refer to the documentation for alternative solver options:\n",
      "    https://scikit-learn.org/stable/modules/linear_model.html#logistic-regression\n",
      "  extra_warning_msg=_LOGISTIC_SOLVER_CONVERGENCE_MSG)\n",
      "/Applications/anaconda3/lib/python3.6/site-packages/sklearn/linear_model/_logistic.py:940: ConvergenceWarning: lbfgs failed to converge (status=1):\n",
      "STOP: TOTAL NO. of ITERATIONS REACHED LIMIT.\n",
      "\n",
      "Increase the number of iterations (max_iter) or scale the data as shown in:\n",
      "    https://scikit-learn.org/stable/modules/preprocessing.html\n",
      "Please also refer to the documentation for alternative solver options:\n",
      "    https://scikit-learn.org/stable/modules/linear_model.html#logistic-regression\n",
      "  extra_warning_msg=_LOGISTIC_SOLVER_CONVERGENCE_MSG)\n"
     ]
    },
    {
     "name": "stderr",
     "output_type": "stream",
     "text": [
      "/Applications/anaconda3/lib/python3.6/site-packages/sklearn/linear_model/_logistic.py:940: ConvergenceWarning: lbfgs failed to converge (status=1):\n",
      "STOP: TOTAL NO. of ITERATIONS REACHED LIMIT.\n",
      "\n",
      "Increase the number of iterations (max_iter) or scale the data as shown in:\n",
      "    https://scikit-learn.org/stable/modules/preprocessing.html\n",
      "Please also refer to the documentation for alternative solver options:\n",
      "    https://scikit-learn.org/stable/modules/linear_model.html#logistic-regression\n",
      "  extra_warning_msg=_LOGISTIC_SOLVER_CONVERGENCE_MSG)\n",
      "/Applications/anaconda3/lib/python3.6/site-packages/sklearn/linear_model/_logistic.py:940: ConvergenceWarning: lbfgs failed to converge (status=1):\n",
      "STOP: TOTAL NO. of ITERATIONS REACHED LIMIT.\n",
      "\n",
      "Increase the number of iterations (max_iter) or scale the data as shown in:\n",
      "    https://scikit-learn.org/stable/modules/preprocessing.html\n",
      "Please also refer to the documentation for alternative solver options:\n",
      "    https://scikit-learn.org/stable/modules/linear_model.html#logistic-regression\n",
      "  extra_warning_msg=_LOGISTIC_SOLVER_CONVERGENCE_MSG)\n",
      "/Applications/anaconda3/lib/python3.6/site-packages/sklearn/linear_model/_logistic.py:940: ConvergenceWarning: lbfgs failed to converge (status=1):\n",
      "STOP: TOTAL NO. of ITERATIONS REACHED LIMIT.\n",
      "\n",
      "Increase the number of iterations (max_iter) or scale the data as shown in:\n",
      "    https://scikit-learn.org/stable/modules/preprocessing.html\n",
      "Please also refer to the documentation for alternative solver options:\n",
      "    https://scikit-learn.org/stable/modules/linear_model.html#logistic-regression\n",
      "  extra_warning_msg=_LOGISTIC_SOLVER_CONVERGENCE_MSG)\n",
      "/Applications/anaconda3/lib/python3.6/site-packages/sklearn/linear_model/_logistic.py:940: ConvergenceWarning: lbfgs failed to converge (status=1):\n",
      "STOP: TOTAL NO. of ITERATIONS REACHED LIMIT.\n",
      "\n",
      "Increase the number of iterations (max_iter) or scale the data as shown in:\n",
      "    https://scikit-learn.org/stable/modules/preprocessing.html\n",
      "Please also refer to the documentation for alternative solver options:\n",
      "    https://scikit-learn.org/stable/modules/linear_model.html#logistic-regression\n",
      "  extra_warning_msg=_LOGISTIC_SOLVER_CONVERGENCE_MSG)\n",
      "/Applications/anaconda3/lib/python3.6/site-packages/sklearn/linear_model/_logistic.py:940: ConvergenceWarning: lbfgs failed to converge (status=1):\n",
      "STOP: TOTAL NO. of ITERATIONS REACHED LIMIT.\n",
      "\n",
      "Increase the number of iterations (max_iter) or scale the data as shown in:\n",
      "    https://scikit-learn.org/stable/modules/preprocessing.html\n",
      "Please also refer to the documentation for alternative solver options:\n",
      "    https://scikit-learn.org/stable/modules/linear_model.html#logistic-regression\n",
      "  extra_warning_msg=_LOGISTIC_SOLVER_CONVERGENCE_MSG)\n",
      "/Applications/anaconda3/lib/python3.6/site-packages/sklearn/linear_model/_logistic.py:940: ConvergenceWarning: lbfgs failed to converge (status=1):\n",
      "STOP: TOTAL NO. of ITERATIONS REACHED LIMIT.\n",
      "\n",
      "Increase the number of iterations (max_iter) or scale the data as shown in:\n",
      "    https://scikit-learn.org/stable/modules/preprocessing.html\n",
      "Please also refer to the documentation for alternative solver options:\n",
      "    https://scikit-learn.org/stable/modules/linear_model.html#logistic-regression\n",
      "  extra_warning_msg=_LOGISTIC_SOLVER_CONVERGENCE_MSG)\n",
      "/Applications/anaconda3/lib/python3.6/site-packages/sklearn/linear_model/_logistic.py:940: ConvergenceWarning: lbfgs failed to converge (status=1):\n",
      "STOP: TOTAL NO. of ITERATIONS REACHED LIMIT.\n",
      "\n",
      "Increase the number of iterations (max_iter) or scale the data as shown in:\n",
      "    https://scikit-learn.org/stable/modules/preprocessing.html\n",
      "Please also refer to the documentation for alternative solver options:\n",
      "    https://scikit-learn.org/stable/modules/linear_model.html#logistic-regression\n",
      "  extra_warning_msg=_LOGISTIC_SOLVER_CONVERGENCE_MSG)\n",
      "/Applications/anaconda3/lib/python3.6/site-packages/sklearn/linear_model/_logistic.py:940: ConvergenceWarning: lbfgs failed to converge (status=1):\n",
      "STOP: TOTAL NO. of ITERATIONS REACHED LIMIT.\n",
      "\n",
      "Increase the number of iterations (max_iter) or scale the data as shown in:\n",
      "    https://scikit-learn.org/stable/modules/preprocessing.html\n",
      "Please also refer to the documentation for alternative solver options:\n",
      "    https://scikit-learn.org/stable/modules/linear_model.html#logistic-regression\n",
      "  extra_warning_msg=_LOGISTIC_SOLVER_CONVERGENCE_MSG)\n",
      "/Applications/anaconda3/lib/python3.6/site-packages/sklearn/linear_model/_logistic.py:940: ConvergenceWarning: lbfgs failed to converge (status=1):\n",
      "STOP: TOTAL NO. of ITERATIONS REACHED LIMIT.\n",
      "\n",
      "Increase the number of iterations (max_iter) or scale the data as shown in:\n",
      "    https://scikit-learn.org/stable/modules/preprocessing.html\n",
      "Please also refer to the documentation for alternative solver options:\n",
      "    https://scikit-learn.org/stable/modules/linear_model.html#logistic-regression\n",
      "  extra_warning_msg=_LOGISTIC_SOLVER_CONVERGENCE_MSG)\n",
      "/Applications/anaconda3/lib/python3.6/site-packages/sklearn/linear_model/_logistic.py:940: ConvergenceWarning: lbfgs failed to converge (status=1):\n",
      "STOP: TOTAL NO. of ITERATIONS REACHED LIMIT.\n",
      "\n",
      "Increase the number of iterations (max_iter) or scale the data as shown in:\n",
      "    https://scikit-learn.org/stable/modules/preprocessing.html\n",
      "Please also refer to the documentation for alternative solver options:\n",
      "    https://scikit-learn.org/stable/modules/linear_model.html#logistic-regression\n",
      "  extra_warning_msg=_LOGISTIC_SOLVER_CONVERGENCE_MSG)\n",
      "/Applications/anaconda3/lib/python3.6/site-packages/sklearn/linear_model/_logistic.py:940: ConvergenceWarning: lbfgs failed to converge (status=1):\n",
      "STOP: TOTAL NO. of ITERATIONS REACHED LIMIT.\n",
      "\n",
      "Increase the number of iterations (max_iter) or scale the data as shown in:\n",
      "    https://scikit-learn.org/stable/modules/preprocessing.html\n",
      "Please also refer to the documentation for alternative solver options:\n",
      "    https://scikit-learn.org/stable/modules/linear_model.html#logistic-regression\n",
      "  extra_warning_msg=_LOGISTIC_SOLVER_CONVERGENCE_MSG)\n",
      "/Applications/anaconda3/lib/python3.6/site-packages/sklearn/linear_model/_logistic.py:940: ConvergenceWarning: lbfgs failed to converge (status=1):\n",
      "STOP: TOTAL NO. of ITERATIONS REACHED LIMIT.\n",
      "\n",
      "Increase the number of iterations (max_iter) or scale the data as shown in:\n",
      "    https://scikit-learn.org/stable/modules/preprocessing.html\n",
      "Please also refer to the documentation for alternative solver options:\n",
      "    https://scikit-learn.org/stable/modules/linear_model.html#logistic-regression\n",
      "  extra_warning_msg=_LOGISTIC_SOLVER_CONVERGENCE_MSG)\n",
      "/Applications/anaconda3/lib/python3.6/site-packages/sklearn/linear_model/_logistic.py:940: ConvergenceWarning: lbfgs failed to converge (status=1):\n",
      "STOP: TOTAL NO. of ITERATIONS REACHED LIMIT.\n",
      "\n",
      "Increase the number of iterations (max_iter) or scale the data as shown in:\n",
      "    https://scikit-learn.org/stable/modules/preprocessing.html\n",
      "Please also refer to the documentation for alternative solver options:\n",
      "    https://scikit-learn.org/stable/modules/linear_model.html#logistic-regression\n",
      "  extra_warning_msg=_LOGISTIC_SOLVER_CONVERGENCE_MSG)\n",
      "/Applications/anaconda3/lib/python3.6/site-packages/sklearn/linear_model/_logistic.py:940: ConvergenceWarning: lbfgs failed to converge (status=1):\n",
      "STOP: TOTAL NO. of ITERATIONS REACHED LIMIT.\n",
      "\n",
      "Increase the number of iterations (max_iter) or scale the data as shown in:\n",
      "    https://scikit-learn.org/stable/modules/preprocessing.html\n",
      "Please also refer to the documentation for alternative solver options:\n",
      "    https://scikit-learn.org/stable/modules/linear_model.html#logistic-regression\n",
      "  extra_warning_msg=_LOGISTIC_SOLVER_CONVERGENCE_MSG)\n",
      "/Applications/anaconda3/lib/python3.6/site-packages/sklearn/linear_model/_logistic.py:940: ConvergenceWarning: lbfgs failed to converge (status=1):\n",
      "STOP: TOTAL NO. of ITERATIONS REACHED LIMIT.\n",
      "\n",
      "Increase the number of iterations (max_iter) or scale the data as shown in:\n",
      "    https://scikit-learn.org/stable/modules/preprocessing.html\n",
      "Please also refer to the documentation for alternative solver options:\n",
      "    https://scikit-learn.org/stable/modules/linear_model.html#logistic-regression\n",
      "  extra_warning_msg=_LOGISTIC_SOLVER_CONVERGENCE_MSG)\n",
      "/Applications/anaconda3/lib/python3.6/site-packages/sklearn/linear_model/_logistic.py:940: ConvergenceWarning: lbfgs failed to converge (status=1):\n",
      "STOP: TOTAL NO. of ITERATIONS REACHED LIMIT.\n",
      "\n",
      "Increase the number of iterations (max_iter) or scale the data as shown in:\n",
      "    https://scikit-learn.org/stable/modules/preprocessing.html\n",
      "Please also refer to the documentation for alternative solver options:\n",
      "    https://scikit-learn.org/stable/modules/linear_model.html#logistic-regression\n",
      "  extra_warning_msg=_LOGISTIC_SOLVER_CONVERGENCE_MSG)\n"
     ]
    },
    {
     "name": "stderr",
     "output_type": "stream",
     "text": [
      "/Applications/anaconda3/lib/python3.6/site-packages/sklearn/linear_model/_logistic.py:940: ConvergenceWarning: lbfgs failed to converge (status=1):\n",
      "STOP: TOTAL NO. of ITERATIONS REACHED LIMIT.\n",
      "\n",
      "Increase the number of iterations (max_iter) or scale the data as shown in:\n",
      "    https://scikit-learn.org/stable/modules/preprocessing.html\n",
      "Please also refer to the documentation for alternative solver options:\n",
      "    https://scikit-learn.org/stable/modules/linear_model.html#logistic-regression\n",
      "  extra_warning_msg=_LOGISTIC_SOLVER_CONVERGENCE_MSG)\n",
      "/Applications/anaconda3/lib/python3.6/site-packages/sklearn/linear_model/_logistic.py:940: ConvergenceWarning: lbfgs failed to converge (status=1):\n",
      "STOP: TOTAL NO. of ITERATIONS REACHED LIMIT.\n",
      "\n",
      "Increase the number of iterations (max_iter) or scale the data as shown in:\n",
      "    https://scikit-learn.org/stable/modules/preprocessing.html\n",
      "Please also refer to the documentation for alternative solver options:\n",
      "    https://scikit-learn.org/stable/modules/linear_model.html#logistic-regression\n",
      "  extra_warning_msg=_LOGISTIC_SOLVER_CONVERGENCE_MSG)\n",
      "/Applications/anaconda3/lib/python3.6/site-packages/sklearn/linear_model/_logistic.py:940: ConvergenceWarning: lbfgs failed to converge (status=1):\n",
      "STOP: TOTAL NO. of ITERATIONS REACHED LIMIT.\n",
      "\n",
      "Increase the number of iterations (max_iter) or scale the data as shown in:\n",
      "    https://scikit-learn.org/stable/modules/preprocessing.html\n",
      "Please also refer to the documentation for alternative solver options:\n",
      "    https://scikit-learn.org/stable/modules/linear_model.html#logistic-regression\n",
      "  extra_warning_msg=_LOGISTIC_SOLVER_CONVERGENCE_MSG)\n",
      "/Applications/anaconda3/lib/python3.6/site-packages/sklearn/linear_model/_logistic.py:940: ConvergenceWarning: lbfgs failed to converge (status=1):\n",
      "STOP: TOTAL NO. of ITERATIONS REACHED LIMIT.\n",
      "\n",
      "Increase the number of iterations (max_iter) or scale the data as shown in:\n",
      "    https://scikit-learn.org/stable/modules/preprocessing.html\n",
      "Please also refer to the documentation for alternative solver options:\n",
      "    https://scikit-learn.org/stable/modules/linear_model.html#logistic-regression\n",
      "  extra_warning_msg=_LOGISTIC_SOLVER_CONVERGENCE_MSG)\n",
      "/Applications/anaconda3/lib/python3.6/site-packages/sklearn/linear_model/_logistic.py:940: ConvergenceWarning: lbfgs failed to converge (status=1):\n",
      "STOP: TOTAL NO. of ITERATIONS REACHED LIMIT.\n",
      "\n",
      "Increase the number of iterations (max_iter) or scale the data as shown in:\n",
      "    https://scikit-learn.org/stable/modules/preprocessing.html\n",
      "Please also refer to the documentation for alternative solver options:\n",
      "    https://scikit-learn.org/stable/modules/linear_model.html#logistic-regression\n",
      "  extra_warning_msg=_LOGISTIC_SOLVER_CONVERGENCE_MSG)\n",
      "/Applications/anaconda3/lib/python3.6/site-packages/sklearn/linear_model/_logistic.py:940: ConvergenceWarning: lbfgs failed to converge (status=1):\n",
      "STOP: TOTAL NO. of ITERATIONS REACHED LIMIT.\n",
      "\n",
      "Increase the number of iterations (max_iter) or scale the data as shown in:\n",
      "    https://scikit-learn.org/stable/modules/preprocessing.html\n",
      "Please also refer to the documentation for alternative solver options:\n",
      "    https://scikit-learn.org/stable/modules/linear_model.html#logistic-regression\n",
      "  extra_warning_msg=_LOGISTIC_SOLVER_CONVERGENCE_MSG)\n",
      "/Applications/anaconda3/lib/python3.6/site-packages/sklearn/linear_model/_logistic.py:940: ConvergenceWarning: lbfgs failed to converge (status=1):\n",
      "STOP: TOTAL NO. of ITERATIONS REACHED LIMIT.\n",
      "\n",
      "Increase the number of iterations (max_iter) or scale the data as shown in:\n",
      "    https://scikit-learn.org/stable/modules/preprocessing.html\n",
      "Please also refer to the documentation for alternative solver options:\n",
      "    https://scikit-learn.org/stable/modules/linear_model.html#logistic-regression\n",
      "  extra_warning_msg=_LOGISTIC_SOLVER_CONVERGENCE_MSG)\n",
      "/Applications/anaconda3/lib/python3.6/site-packages/sklearn/linear_model/_logistic.py:940: ConvergenceWarning: lbfgs failed to converge (status=1):\n",
      "STOP: TOTAL NO. of ITERATIONS REACHED LIMIT.\n",
      "\n",
      "Increase the number of iterations (max_iter) or scale the data as shown in:\n",
      "    https://scikit-learn.org/stable/modules/preprocessing.html\n",
      "Please also refer to the documentation for alternative solver options:\n",
      "    https://scikit-learn.org/stable/modules/linear_model.html#logistic-regression\n",
      "  extra_warning_msg=_LOGISTIC_SOLVER_CONVERGENCE_MSG)\n",
      "/Applications/anaconda3/lib/python3.6/site-packages/sklearn/linear_model/_logistic.py:940: ConvergenceWarning: lbfgs failed to converge (status=1):\n",
      "STOP: TOTAL NO. of ITERATIONS REACHED LIMIT.\n",
      "\n",
      "Increase the number of iterations (max_iter) or scale the data as shown in:\n",
      "    https://scikit-learn.org/stable/modules/preprocessing.html\n",
      "Please also refer to the documentation for alternative solver options:\n",
      "    https://scikit-learn.org/stable/modules/linear_model.html#logistic-regression\n",
      "  extra_warning_msg=_LOGISTIC_SOLVER_CONVERGENCE_MSG)\n",
      "/Applications/anaconda3/lib/python3.6/site-packages/sklearn/linear_model/_logistic.py:940: ConvergenceWarning: lbfgs failed to converge (status=1):\n",
      "STOP: TOTAL NO. of ITERATIONS REACHED LIMIT.\n",
      "\n",
      "Increase the number of iterations (max_iter) or scale the data as shown in:\n",
      "    https://scikit-learn.org/stable/modules/preprocessing.html\n",
      "Please also refer to the documentation for alternative solver options:\n",
      "    https://scikit-learn.org/stable/modules/linear_model.html#logistic-regression\n",
      "  extra_warning_msg=_LOGISTIC_SOLVER_CONVERGENCE_MSG)\n",
      "/Applications/anaconda3/lib/python3.6/site-packages/sklearn/linear_model/_logistic.py:940: ConvergenceWarning: lbfgs failed to converge (status=1):\n",
      "STOP: TOTAL NO. of ITERATIONS REACHED LIMIT.\n",
      "\n",
      "Increase the number of iterations (max_iter) or scale the data as shown in:\n",
      "    https://scikit-learn.org/stable/modules/preprocessing.html\n",
      "Please also refer to the documentation for alternative solver options:\n",
      "    https://scikit-learn.org/stable/modules/linear_model.html#logistic-regression\n",
      "  extra_warning_msg=_LOGISTIC_SOLVER_CONVERGENCE_MSG)\n",
      "/Applications/anaconda3/lib/python3.6/site-packages/sklearn/linear_model/_logistic.py:940: ConvergenceWarning: lbfgs failed to converge (status=1):\n",
      "STOP: TOTAL NO. of ITERATIONS REACHED LIMIT.\n",
      "\n",
      "Increase the number of iterations (max_iter) or scale the data as shown in:\n",
      "    https://scikit-learn.org/stable/modules/preprocessing.html\n",
      "Please also refer to the documentation for alternative solver options:\n",
      "    https://scikit-learn.org/stable/modules/linear_model.html#logistic-regression\n",
      "  extra_warning_msg=_LOGISTIC_SOLVER_CONVERGENCE_MSG)\n",
      "/Applications/anaconda3/lib/python3.6/site-packages/sklearn/linear_model/_logistic.py:940: ConvergenceWarning: lbfgs failed to converge (status=1):\n",
      "STOP: TOTAL NO. of ITERATIONS REACHED LIMIT.\n",
      "\n",
      "Increase the number of iterations (max_iter) or scale the data as shown in:\n",
      "    https://scikit-learn.org/stable/modules/preprocessing.html\n",
      "Please also refer to the documentation for alternative solver options:\n",
      "    https://scikit-learn.org/stable/modules/linear_model.html#logistic-regression\n",
      "  extra_warning_msg=_LOGISTIC_SOLVER_CONVERGENCE_MSG)\n",
      "/Applications/anaconda3/lib/python3.6/site-packages/sklearn/linear_model/_logistic.py:940: ConvergenceWarning: lbfgs failed to converge (status=1):\n",
      "STOP: TOTAL NO. of ITERATIONS REACHED LIMIT.\n",
      "\n",
      "Increase the number of iterations (max_iter) or scale the data as shown in:\n",
      "    https://scikit-learn.org/stable/modules/preprocessing.html\n",
      "Please also refer to the documentation for alternative solver options:\n",
      "    https://scikit-learn.org/stable/modules/linear_model.html#logistic-regression\n",
      "  extra_warning_msg=_LOGISTIC_SOLVER_CONVERGENCE_MSG)\n",
      "/Applications/anaconda3/lib/python3.6/site-packages/sklearn/linear_model/_logistic.py:940: ConvergenceWarning: lbfgs failed to converge (status=1):\n",
      "STOP: TOTAL NO. of ITERATIONS REACHED LIMIT.\n",
      "\n",
      "Increase the number of iterations (max_iter) or scale the data as shown in:\n",
      "    https://scikit-learn.org/stable/modules/preprocessing.html\n",
      "Please also refer to the documentation for alternative solver options:\n",
      "    https://scikit-learn.org/stable/modules/linear_model.html#logistic-regression\n",
      "  extra_warning_msg=_LOGISTIC_SOLVER_CONVERGENCE_MSG)\n",
      "/Applications/anaconda3/lib/python3.6/site-packages/sklearn/linear_model/_logistic.py:940: ConvergenceWarning: lbfgs failed to converge (status=1):\n",
      "STOP: TOTAL NO. of ITERATIONS REACHED LIMIT.\n",
      "\n",
      "Increase the number of iterations (max_iter) or scale the data as shown in:\n",
      "    https://scikit-learn.org/stable/modules/preprocessing.html\n",
      "Please also refer to the documentation for alternative solver options:\n",
      "    https://scikit-learn.org/stable/modules/linear_model.html#logistic-regression\n",
      "  extra_warning_msg=_LOGISTIC_SOLVER_CONVERGENCE_MSG)\n"
     ]
    },
    {
     "name": "stderr",
     "output_type": "stream",
     "text": [
      "/Applications/anaconda3/lib/python3.6/site-packages/sklearn/linear_model/_logistic.py:940: ConvergenceWarning: lbfgs failed to converge (status=1):\n",
      "STOP: TOTAL NO. of ITERATIONS REACHED LIMIT.\n",
      "\n",
      "Increase the number of iterations (max_iter) or scale the data as shown in:\n",
      "    https://scikit-learn.org/stable/modules/preprocessing.html\n",
      "Please also refer to the documentation for alternative solver options:\n",
      "    https://scikit-learn.org/stable/modules/linear_model.html#logistic-regression\n",
      "  extra_warning_msg=_LOGISTIC_SOLVER_CONVERGENCE_MSG)\n",
      "/Applications/anaconda3/lib/python3.6/site-packages/sklearn/linear_model/_logistic.py:940: ConvergenceWarning: lbfgs failed to converge (status=1):\n",
      "STOP: TOTAL NO. of ITERATIONS REACHED LIMIT.\n",
      "\n",
      "Increase the number of iterations (max_iter) or scale the data as shown in:\n",
      "    https://scikit-learn.org/stable/modules/preprocessing.html\n",
      "Please also refer to the documentation for alternative solver options:\n",
      "    https://scikit-learn.org/stable/modules/linear_model.html#logistic-regression\n",
      "  extra_warning_msg=_LOGISTIC_SOLVER_CONVERGENCE_MSG)\n",
      "/Applications/anaconda3/lib/python3.6/site-packages/sklearn/linear_model/_logistic.py:940: ConvergenceWarning: lbfgs failed to converge (status=1):\n",
      "STOP: TOTAL NO. of ITERATIONS REACHED LIMIT.\n",
      "\n",
      "Increase the number of iterations (max_iter) or scale the data as shown in:\n",
      "    https://scikit-learn.org/stable/modules/preprocessing.html\n",
      "Please also refer to the documentation for alternative solver options:\n",
      "    https://scikit-learn.org/stable/modules/linear_model.html#logistic-regression\n",
      "  extra_warning_msg=_LOGISTIC_SOLVER_CONVERGENCE_MSG)\n",
      "/Applications/anaconda3/lib/python3.6/site-packages/sklearn/linear_model/_logistic.py:940: ConvergenceWarning: lbfgs failed to converge (status=1):\n",
      "STOP: TOTAL NO. of ITERATIONS REACHED LIMIT.\n",
      "\n",
      "Increase the number of iterations (max_iter) or scale the data as shown in:\n",
      "    https://scikit-learn.org/stable/modules/preprocessing.html\n",
      "Please also refer to the documentation for alternative solver options:\n",
      "    https://scikit-learn.org/stable/modules/linear_model.html#logistic-regression\n",
      "  extra_warning_msg=_LOGISTIC_SOLVER_CONVERGENCE_MSG)\n",
      "/Applications/anaconda3/lib/python3.6/site-packages/sklearn/linear_model/_logistic.py:940: ConvergenceWarning: lbfgs failed to converge (status=1):\n",
      "STOP: TOTAL NO. of ITERATIONS REACHED LIMIT.\n",
      "\n",
      "Increase the number of iterations (max_iter) or scale the data as shown in:\n",
      "    https://scikit-learn.org/stable/modules/preprocessing.html\n",
      "Please also refer to the documentation for alternative solver options:\n",
      "    https://scikit-learn.org/stable/modules/linear_model.html#logistic-regression\n",
      "  extra_warning_msg=_LOGISTIC_SOLVER_CONVERGENCE_MSG)\n",
      "/Applications/anaconda3/lib/python3.6/site-packages/sklearn/linear_model/_logistic.py:940: ConvergenceWarning: lbfgs failed to converge (status=1):\n",
      "STOP: TOTAL NO. of ITERATIONS REACHED LIMIT.\n",
      "\n",
      "Increase the number of iterations (max_iter) or scale the data as shown in:\n",
      "    https://scikit-learn.org/stable/modules/preprocessing.html\n",
      "Please also refer to the documentation for alternative solver options:\n",
      "    https://scikit-learn.org/stable/modules/linear_model.html#logistic-regression\n",
      "  extra_warning_msg=_LOGISTIC_SOLVER_CONVERGENCE_MSG)\n",
      "/Applications/anaconda3/lib/python3.6/site-packages/sklearn/linear_model/_logistic.py:940: ConvergenceWarning: lbfgs failed to converge (status=1):\n",
      "STOP: TOTAL NO. of ITERATIONS REACHED LIMIT.\n",
      "\n",
      "Increase the number of iterations (max_iter) or scale the data as shown in:\n",
      "    https://scikit-learn.org/stable/modules/preprocessing.html\n",
      "Please also refer to the documentation for alternative solver options:\n",
      "    https://scikit-learn.org/stable/modules/linear_model.html#logistic-regression\n",
      "  extra_warning_msg=_LOGISTIC_SOLVER_CONVERGENCE_MSG)\n",
      "/Applications/anaconda3/lib/python3.6/site-packages/sklearn/linear_model/_logistic.py:940: ConvergenceWarning: lbfgs failed to converge (status=1):\n",
      "STOP: TOTAL NO. of ITERATIONS REACHED LIMIT.\n",
      "\n",
      "Increase the number of iterations (max_iter) or scale the data as shown in:\n",
      "    https://scikit-learn.org/stable/modules/preprocessing.html\n",
      "Please also refer to the documentation for alternative solver options:\n",
      "    https://scikit-learn.org/stable/modules/linear_model.html#logistic-regression\n",
      "  extra_warning_msg=_LOGISTIC_SOLVER_CONVERGENCE_MSG)\n",
      "/Applications/anaconda3/lib/python3.6/site-packages/sklearn/linear_model/_logistic.py:940: ConvergenceWarning: lbfgs failed to converge (status=1):\n",
      "STOP: TOTAL NO. of ITERATIONS REACHED LIMIT.\n",
      "\n",
      "Increase the number of iterations (max_iter) or scale the data as shown in:\n",
      "    https://scikit-learn.org/stable/modules/preprocessing.html\n",
      "Please also refer to the documentation for alternative solver options:\n",
      "    https://scikit-learn.org/stable/modules/linear_model.html#logistic-regression\n",
      "  extra_warning_msg=_LOGISTIC_SOLVER_CONVERGENCE_MSG)\n",
      "/Applications/anaconda3/lib/python3.6/site-packages/sklearn/linear_model/_logistic.py:940: ConvergenceWarning: lbfgs failed to converge (status=1):\n",
      "STOP: TOTAL NO. of ITERATIONS REACHED LIMIT.\n",
      "\n",
      "Increase the number of iterations (max_iter) or scale the data as shown in:\n",
      "    https://scikit-learn.org/stable/modules/preprocessing.html\n",
      "Please also refer to the documentation for alternative solver options:\n",
      "    https://scikit-learn.org/stable/modules/linear_model.html#logistic-regression\n",
      "  extra_warning_msg=_LOGISTIC_SOLVER_CONVERGENCE_MSG)\n",
      "/Applications/anaconda3/lib/python3.6/site-packages/sklearn/linear_model/_logistic.py:940: ConvergenceWarning: lbfgs failed to converge (status=1):\n",
      "STOP: TOTAL NO. of ITERATIONS REACHED LIMIT.\n",
      "\n",
      "Increase the number of iterations (max_iter) or scale the data as shown in:\n",
      "    https://scikit-learn.org/stable/modules/preprocessing.html\n",
      "Please also refer to the documentation for alternative solver options:\n",
      "    https://scikit-learn.org/stable/modules/linear_model.html#logistic-regression\n",
      "  extra_warning_msg=_LOGISTIC_SOLVER_CONVERGENCE_MSG)\n",
      "/Applications/anaconda3/lib/python3.6/site-packages/sklearn/linear_model/_logistic.py:940: ConvergenceWarning: lbfgs failed to converge (status=1):\n",
      "STOP: TOTAL NO. of ITERATIONS REACHED LIMIT.\n",
      "\n",
      "Increase the number of iterations (max_iter) or scale the data as shown in:\n",
      "    https://scikit-learn.org/stable/modules/preprocessing.html\n",
      "Please also refer to the documentation for alternative solver options:\n",
      "    https://scikit-learn.org/stable/modules/linear_model.html#logistic-regression\n",
      "  extra_warning_msg=_LOGISTIC_SOLVER_CONVERGENCE_MSG)\n",
      "/Applications/anaconda3/lib/python3.6/site-packages/sklearn/linear_model/_logistic.py:940: ConvergenceWarning: lbfgs failed to converge (status=1):\n",
      "STOP: TOTAL NO. of ITERATIONS REACHED LIMIT.\n",
      "\n",
      "Increase the number of iterations (max_iter) or scale the data as shown in:\n",
      "    https://scikit-learn.org/stable/modules/preprocessing.html\n",
      "Please also refer to the documentation for alternative solver options:\n",
      "    https://scikit-learn.org/stable/modules/linear_model.html#logistic-regression\n",
      "  extra_warning_msg=_LOGISTIC_SOLVER_CONVERGENCE_MSG)\n",
      "/Applications/anaconda3/lib/python3.6/site-packages/sklearn/linear_model/_logistic.py:940: ConvergenceWarning: lbfgs failed to converge (status=1):\n",
      "STOP: TOTAL NO. of ITERATIONS REACHED LIMIT.\n",
      "\n",
      "Increase the number of iterations (max_iter) or scale the data as shown in:\n",
      "    https://scikit-learn.org/stable/modules/preprocessing.html\n",
      "Please also refer to the documentation for alternative solver options:\n",
      "    https://scikit-learn.org/stable/modules/linear_model.html#logistic-regression\n",
      "  extra_warning_msg=_LOGISTIC_SOLVER_CONVERGENCE_MSG)\n",
      "/Applications/anaconda3/lib/python3.6/site-packages/sklearn/linear_model/_logistic.py:940: ConvergenceWarning: lbfgs failed to converge (status=1):\n",
      "STOP: TOTAL NO. of ITERATIONS REACHED LIMIT.\n",
      "\n",
      "Increase the number of iterations (max_iter) or scale the data as shown in:\n",
      "    https://scikit-learn.org/stable/modules/preprocessing.html\n",
      "Please also refer to the documentation for alternative solver options:\n",
      "    https://scikit-learn.org/stable/modules/linear_model.html#logistic-regression\n",
      "  extra_warning_msg=_LOGISTIC_SOLVER_CONVERGENCE_MSG)\n",
      "/Applications/anaconda3/lib/python3.6/site-packages/sklearn/linear_model/_logistic.py:940: ConvergenceWarning: lbfgs failed to converge (status=1):\n",
      "STOP: TOTAL NO. of ITERATIONS REACHED LIMIT.\n",
      "\n",
      "Increase the number of iterations (max_iter) or scale the data as shown in:\n",
      "    https://scikit-learn.org/stable/modules/preprocessing.html\n",
      "Please also refer to the documentation for alternative solver options:\n",
      "    https://scikit-learn.org/stable/modules/linear_model.html#logistic-regression\n",
      "  extra_warning_msg=_LOGISTIC_SOLVER_CONVERGENCE_MSG)\n"
     ]
    },
    {
     "name": "stderr",
     "output_type": "stream",
     "text": [
      "/Applications/anaconda3/lib/python3.6/site-packages/sklearn/linear_model/_logistic.py:940: ConvergenceWarning: lbfgs failed to converge (status=1):\n",
      "STOP: TOTAL NO. of ITERATIONS REACHED LIMIT.\n",
      "\n",
      "Increase the number of iterations (max_iter) or scale the data as shown in:\n",
      "    https://scikit-learn.org/stable/modules/preprocessing.html\n",
      "Please also refer to the documentation for alternative solver options:\n",
      "    https://scikit-learn.org/stable/modules/linear_model.html#logistic-regression\n",
      "  extra_warning_msg=_LOGISTIC_SOLVER_CONVERGENCE_MSG)\n",
      "/Applications/anaconda3/lib/python3.6/site-packages/sklearn/linear_model/_logistic.py:940: ConvergenceWarning: lbfgs failed to converge (status=1):\n",
      "STOP: TOTAL NO. of ITERATIONS REACHED LIMIT.\n",
      "\n",
      "Increase the number of iterations (max_iter) or scale the data as shown in:\n",
      "    https://scikit-learn.org/stable/modules/preprocessing.html\n",
      "Please also refer to the documentation for alternative solver options:\n",
      "    https://scikit-learn.org/stable/modules/linear_model.html#logistic-regression\n",
      "  extra_warning_msg=_LOGISTIC_SOLVER_CONVERGENCE_MSG)\n",
      "/Applications/anaconda3/lib/python3.6/site-packages/sklearn/linear_model/_logistic.py:940: ConvergenceWarning: lbfgs failed to converge (status=1):\n",
      "STOP: TOTAL NO. of ITERATIONS REACHED LIMIT.\n",
      "\n",
      "Increase the number of iterations (max_iter) or scale the data as shown in:\n",
      "    https://scikit-learn.org/stable/modules/preprocessing.html\n",
      "Please also refer to the documentation for alternative solver options:\n",
      "    https://scikit-learn.org/stable/modules/linear_model.html#logistic-regression\n",
      "  extra_warning_msg=_LOGISTIC_SOLVER_CONVERGENCE_MSG)\n",
      "/Applications/anaconda3/lib/python3.6/site-packages/sklearn/linear_model/_logistic.py:940: ConvergenceWarning: lbfgs failed to converge (status=1):\n",
      "STOP: TOTAL NO. of ITERATIONS REACHED LIMIT.\n",
      "\n",
      "Increase the number of iterations (max_iter) or scale the data as shown in:\n",
      "    https://scikit-learn.org/stable/modules/preprocessing.html\n",
      "Please also refer to the documentation for alternative solver options:\n",
      "    https://scikit-learn.org/stable/modules/linear_model.html#logistic-regression\n",
      "  extra_warning_msg=_LOGISTIC_SOLVER_CONVERGENCE_MSG)\n",
      "/Applications/anaconda3/lib/python3.6/site-packages/sklearn/linear_model/_logistic.py:940: ConvergenceWarning: lbfgs failed to converge (status=1):\n",
      "STOP: TOTAL NO. of ITERATIONS REACHED LIMIT.\n",
      "\n",
      "Increase the number of iterations (max_iter) or scale the data as shown in:\n",
      "    https://scikit-learn.org/stable/modules/preprocessing.html\n",
      "Please also refer to the documentation for alternative solver options:\n",
      "    https://scikit-learn.org/stable/modules/linear_model.html#logistic-regression\n",
      "  extra_warning_msg=_LOGISTIC_SOLVER_CONVERGENCE_MSG)\n",
      "/Applications/anaconda3/lib/python3.6/site-packages/sklearn/linear_model/_logistic.py:940: ConvergenceWarning: lbfgs failed to converge (status=1):\n",
      "STOP: TOTAL NO. of ITERATIONS REACHED LIMIT.\n",
      "\n",
      "Increase the number of iterations (max_iter) or scale the data as shown in:\n",
      "    https://scikit-learn.org/stable/modules/preprocessing.html\n",
      "Please also refer to the documentation for alternative solver options:\n",
      "    https://scikit-learn.org/stable/modules/linear_model.html#logistic-regression\n",
      "  extra_warning_msg=_LOGISTIC_SOLVER_CONVERGENCE_MSG)\n",
      "/Applications/anaconda3/lib/python3.6/site-packages/sklearn/linear_model/_logistic.py:940: ConvergenceWarning: lbfgs failed to converge (status=1):\n",
      "STOP: TOTAL NO. of ITERATIONS REACHED LIMIT.\n",
      "\n",
      "Increase the number of iterations (max_iter) or scale the data as shown in:\n",
      "    https://scikit-learn.org/stable/modules/preprocessing.html\n",
      "Please also refer to the documentation for alternative solver options:\n",
      "    https://scikit-learn.org/stable/modules/linear_model.html#logistic-regression\n",
      "  extra_warning_msg=_LOGISTIC_SOLVER_CONVERGENCE_MSG)\n",
      "/Applications/anaconda3/lib/python3.6/site-packages/sklearn/linear_model/_logistic.py:940: ConvergenceWarning: lbfgs failed to converge (status=1):\n",
      "STOP: TOTAL NO. of ITERATIONS REACHED LIMIT.\n",
      "\n",
      "Increase the number of iterations (max_iter) or scale the data as shown in:\n",
      "    https://scikit-learn.org/stable/modules/preprocessing.html\n",
      "Please also refer to the documentation for alternative solver options:\n",
      "    https://scikit-learn.org/stable/modules/linear_model.html#logistic-regression\n",
      "  extra_warning_msg=_LOGISTIC_SOLVER_CONVERGENCE_MSG)\n"
     ]
    }
   ],
   "source": [
    "import numpy as np\n",
    "import matplotlib.pyplot as plt\n",
    "\n",
    "%matplotlib inline\n",
    "\n",
    "N_SPLITS = 5\n",
    "N_REPEATS = 5\n",
    "\n",
    "\n",
    "# add these two binary variables so that we can stratify the observations\n",
    "# by protected class\n",
    "groups = np.add(s_sex, s_race)\n",
    "\n",
    "\n",
    "# do 5-fold, 10x repeating cross validation so that we quantify the\n",
    "# uncertainty around our metrics estimates.\n",
    "cv = RepeatedStratifiedKFold(\n",
    "    n_splits=N_SPLITS, n_repeats=N_REPEATS, random_state=41)\n",
    "\n",
    "metrics = []\n",
    "print(\"Running cross-validation experiment...\")\n",
    "for i, (train_idx, test_idx) in enumerate(cv.split(X, y, groups=groups)):\n",
    "    metrics.append(\n",
    "        run_experiment_iteration(\n",
    "            X, X_no_sex, X_no_race, y, s_sex, s_race, train_idx, test_idx)\n",
    "        .assign(rep_fold=i))\n",
    "\n",
    "# concatenate metrics from all cv-folds\n",
    "metrics = pd.concat(metrics)\n",
    "\n",
    "# compute mean point estimate for each metric and each condition\n",
    "group_df = metrics.groupby(\"condition\")\n",
    "mean_metrics = (\n",
    "    group_df\n",
    "    [METRICS_COLUMNS].mean()\n",
    ")\n",
    "# compute standard error of the mean\n",
    "stderr_metrics = (\n",
    "    group_df\n",
    "    [METRICS_COLUMNS].std()\n",
    ") / np.sqrt(N_REPEATS * N_SPLITS)"
   ]
  },
  {
   "cell_type": "code",
   "execution_count": 83,
   "metadata": {
    "colab": {
     "autoexec": {
      "startup": false,
      "wait_interval": 0
     }
    },
    "colab_type": "code",
    "id": "itKeSaDD7vl-",
    "outputId": "576120ba-7513-4535-bdfc-2c9b0cbaf600",
    "scrolled": false
   },
   "outputs": [
    {
     "data": {
      "image/png": "[encoded data removed]",
      "text/plain": [
       "<Figure size 720x432 with 1 Axes>"
      ]
     },
     "metadata": {
      "needs_background": "light"
     },
     "output_type": "display_data"
    }
   ],
   "source": [
    "# plot vertical bar chart\n",
    "ax = mean_metrics.loc[reversed([\"B\", \"RPA\", \"ROC\", \"ACF\"])].plot(\n",
    "    kind=\"barh\", figsize=(10, 6),\n",
    "    xerr=stderr_metrics.loc[reversed([\"B\", \"RPA\", \"ROC\", \"ACF\"])],\n",
    "    legend=False);\n",
    "ax.legend(loc='upper right', bbox_to_anchor=(1.3, 0.6))\n",
    "ax.spines['right'].set_visible(False)\n",
    "ax.spines['left'].set_visible(False)\n",
    "ax.spines['top'].set_visible(False)\n",
    "ax.tick_params(axis='y', which='both', left='off')\n",
    "ax.set_title(\n",
    "    \"Fairness (mean diff) and Utility (auc) Metrics\", fontsize=16);"
   ]
  },
  {
   "cell_type": "code",
   "execution_count": 84,
   "metadata": {
    "colab": {
     "autoexec": {
      "startup": false,
      "wait_interval": 0
     }
    },
    "colab_type": "code",
    "id": "N_eozSTX7vmA",
    "outputId": "703baf08-12bb-477e-fbff-73da9ccdd28e",
    "scrolled": true
   },
   "outputs": [
    {
     "data": {
      "text/html": [
       "<div>\n",
       "<style scoped>\n",
       "    .dataframe tbody tr th:only-of-type {\n",
       "        vertical-align: middle;\n",
       "    }\n",
       "\n",
       "    .dataframe tbody tr th {\n",
       "        vertical-align: top;\n",
       "    }\n",
       "\n",
       "    .dataframe thead th {\n",
       "        text-align: right;\n",
       "    }\n",
       "</style>\n",
       "<table border=\"1\" class=\"dataframe\">\n",
       "  <thead>\n",
       "    <tr style=\"text-align: right;\">\n",
       "      <th></th>\n",
       "      <th>mean(mean_diff_sex)</th>\n",
       "      <th>mean(mean_diff_race)</th>\n",
       "      <th>mean(auc_sex)</th>\n",
       "      <th>mean(auc_race)</th>\n",
       "    </tr>\n",
       "    <tr>\n",
       "      <th>condition</th>\n",
       "      <th></th>\n",
       "      <th></th>\n",
       "      <th></th>\n",
       "      <th></th>\n",
       "    </tr>\n",
       "  </thead>\n",
       "  <tbody>\n",
       "    <tr>\n",
       "      <th>B</th>\n",
       "      <td>0.081772</td>\n",
       "      <td>0.176121</td>\n",
       "      <td>0.998964</td>\n",
       "      <td>0.998964</td>\n",
       "    </tr>\n",
       "    <tr>\n",
       "      <th>RPA</th>\n",
       "      <td>0.081652</td>\n",
       "      <td>0.176035</td>\n",
       "      <td>0.998990</td>\n",
       "      <td>0.998966</td>\n",
       "    </tr>\n",
       "    <tr>\n",
       "      <th>ROC</th>\n",
       "      <td>0.087289</td>\n",
       "      <td>0.192434</td>\n",
       "      <td>0.980749</td>\n",
       "      <td>0.980749</td>\n",
       "    </tr>\n",
       "    <tr>\n",
       "      <th>ACF</th>\n",
       "      <td>0.080115</td>\n",
       "      <td>0.162656</td>\n",
       "      <td>0.998753</td>\n",
       "      <td>0.993815</td>\n",
       "    </tr>\n",
       "  </tbody>\n",
       "</table>\n",
       "</div>"
      ],
      "text/plain": [
       "           mean(mean_diff_sex)  mean(mean_diff_race)  mean(auc_sex)  \\\n",
       "condition                                                             \n",
       "B                     0.081772              0.176121       0.998964   \n",
       "RPA                   0.081652              0.176035       0.998990   \n",
       "ROC                   0.087289              0.192434       0.980749   \n",
       "ACF                   0.080115              0.162656       0.998753   \n",
       "\n",
       "           mean(auc_race)  \n",
       "condition                  \n",
       "B                0.998964  \n",
       "RPA              0.998966  \n",
       "ROC              0.980749  \n",
       "ACF              0.993815  "
      ]
     },
     "execution_count": 84,
     "metadata": {},
     "output_type": "execute_result"
    }
   ],
   "source": [
    "mean_metrics.loc[[\"B\", \"RPA\", \"ROC\", \"ACF\"]].rename(\n",
    "    columns=lambda x: \"mean(%s)\" % x)"
   ]
  },
  {
   "cell_type": "markdown",
   "metadata": {
    "colab_type": "text",
    "id": "1gdMsm_37vmD"
   },
   "source": [
    "# Themis-ml 2"
   ]
  },
  {
   "cell_type": "code",
   "execution_count": 85,
   "metadata": {},
   "outputs": [],
   "source": [
    "####  Taking equal (80,000) random samples from each race #### 1\n",
    "\n",
    "size = 80000       # sample size\n",
    "replace = True  # with replacement\n",
    "fn = lambda obj: obj.loc[np.random.choice(obj.index, size, replace),:]\n",
    "mydata_sampled1=mydata.groupby('race', as_index=False).apply(fn)"
   ]
  },
  {
   "cell_type": "code",
   "execution_count": 86,
   "metadata": {},
   "outputs": [],
   "source": [
    "####  Taking equal (80.000) random samples from each race #### 2\n",
    "\n",
    "size = 80000       # sample size\n",
    "replace = True  # with replacement\n",
    "fn = lambda obj: obj.loc[np.random.choice(obj.index, size, replace),:]\n",
    "mydata_sampled=mydata2.groupby('race', as_index=False).apply(fn)"
   ]
  },
  {
   "cell_type": "code",
   "execution_count": 87,
   "metadata": {},
   "outputs": [
    {
     "data": {
      "text/plain": [
       "160000"
      ]
     },
     "execution_count": 87,
     "metadata": {},
     "output_type": "execute_result"
    }
   ],
   "source": [
    "len(mydata_sampled1)"
   ]
  },
  {
   "cell_type": "code",
   "execution_count": 88,
   "metadata": {},
   "outputs": [
    {
     "data": {
      "text/plain": [
       "race\n",
       "0    80000\n",
       "1    80000\n",
       "Name: race, dtype: int64"
      ]
     },
     "execution_count": 88,
     "metadata": {},
     "output_type": "execute_result"
    }
   ],
   "source": [
    "mydata_sampled1.groupby('race')['race'].count()"
   ]
  },
  {
   "cell_type": "code",
   "execution_count": 89,
   "metadata": {},
   "outputs": [],
   "source": [
    "race_mean=mydata2.groupby('race').agg({'reoffending_risk':'mean','race' :'count'})"
   ]
  },
  {
   "cell_type": "code",
   "execution_count": 90,
   "metadata": {},
   "outputs": [
    {
     "data": {
      "text/html": [
       "<div>\n",
       "<style scoped>\n",
       "    .dataframe tbody tr th:only-of-type {\n",
       "        vertical-align: middle;\n",
       "    }\n",
       "\n",
       "    .dataframe tbody tr th {\n",
       "        vertical-align: top;\n",
       "    }\n",
       "\n",
       "    .dataframe thead th {\n",
       "        text-align: right;\n",
       "    }\n",
       "</style>\n",
       "<table border=\"1\" class=\"dataframe\">\n",
       "  <thead>\n",
       "    <tr style=\"text-align: right;\">\n",
       "      <th></th>\n",
       "      <th>reoffending_risk</th>\n",
       "      <th>race</th>\n",
       "    </tr>\n",
       "    <tr>\n",
       "      <th>race</th>\n",
       "      <th></th>\n",
       "      <th></th>\n",
       "    </tr>\n",
       "  </thead>\n",
       "  <tbody>\n",
       "    <tr>\n",
       "      <th>0</th>\n",
       "      <td>0.728208</td>\n",
       "      <td>221508</td>\n",
       "    </tr>\n",
       "    <tr>\n",
       "      <th>1</th>\n",
       "      <td>0.551305</td>\n",
       "      <td>327084</td>\n",
       "    </tr>\n",
       "  </tbody>\n",
       "</table>\n",
       "</div>"
      ],
      "text/plain": [
       "      reoffending_risk    race\n",
       "race                          \n",
       "0             0.728208  221508\n",
       "1             0.551305  327084"
      ]
     },
     "execution_count": 90,
     "metadata": {},
     "output_type": "execute_result"
    }
   ],
   "source": [
    "race_mean"
   ]
  },
  {
   "cell_type": "code",
   "execution_count": 91,
   "metadata": {},
   "outputs": [
    {
     "data": {
      "text/plain": [
       "race  reoffending_risk\n",
       "0     0                   21858\n",
       "      1                   58142\n",
       "1     0                   35798\n",
       "      1                   44202\n",
       "Name: reoffending_risk, dtype: int64"
      ]
     },
     "execution_count": 91,
     "metadata": {},
     "output_type": "execute_result"
    }
   ],
   "source": [
    "mydata_sampled1.groupby(['race','reoffending_risk'])['reoffending_risk'].count()"
   ]
  },
  {
   "cell_type": "code",
   "execution_count": 92,
   "metadata": {},
   "outputs": [
    {
     "data": {
      "text/plain": [
       "reoffending_risk\n",
       "0     57656\n",
       "1    102344\n",
       "Name: reoffending_risk, dtype: int64"
      ]
     },
     "execution_count": 92,
     "metadata": {},
     "output_type": "execute_result"
    }
   ],
   "source": [
    "mydata_sampled1.groupby('reoffending_risk')['reoffending_risk'].count()"
   ]
  },
  {
   "cell_type": "code",
   "execution_count": 93,
   "metadata": {},
   "outputs": [
    {
     "data": {
      "text/plain": [
       "reoffending_risk\n",
       "0     57447\n",
       "1    102553\n",
       "Name: reoffending_risk, dtype: int64"
      ]
     },
     "execution_count": 93,
     "metadata": {},
     "output_type": "execute_result"
    }
   ],
   "source": [
    "mydata_sampled.groupby(['reoffending_risk'])['reoffending_risk'].count()"
   ]
  },
  {
   "cell_type": "code",
   "execution_count": 94,
   "metadata": {},
   "outputs": [
    {
     "data": {
      "text/plain": [
       "race  reoffending_risk\n",
       "0     0                   21858\n",
       "      1                   58142\n",
       "1     0                   35798\n",
       "      1                   44202\n",
       "Name: reoffending_risk, dtype: int64"
      ]
     },
     "execution_count": 94,
     "metadata": {},
     "output_type": "execute_result"
    }
   ],
   "source": [
    "mydata_sampled1.groupby(['race','reoffending_risk'])['reoffending_risk'].count()"
   ]
  },
  {
   "cell_type": "code",
   "execution_count": 95,
   "metadata": {},
   "outputs": [
    {
     "name": "stdout",
     "output_type": "stream",
     "text": [
      "0.3731076859702722\n",
      "0.8108970731376055\n"
     ]
    }
   ],
   "source": [
    "print (21738/58262)\n",
    "print (35823/44177)"
   ]
  },
  {
   "cell_type": "code",
   "execution_count": 96,
   "metadata": {},
   "outputs": [],
   "source": [
    "mydata_sampled1.to_csv(\"~/crime111.csv\", encoding='utf-8', index=False)"
   ]
  },
  {
   "cell_type": "markdown",
   "metadata": {},
   "source": [
    "## Promoting and demoting the disadvantaged and advantaged groups "
   ]
  },
  {
   "cell_type": "code",
   "execution_count": 97,
   "metadata": {},
   "outputs": [
    {
     "data": {
      "text/html": [
       "<div>\n",
       "<style scoped>\n",
       "    .dataframe tbody tr th:only-of-type {\n",
       "        vertical-align: middle;\n",
       "    }\n",
       "\n",
       "    .dataframe tbody tr th {\n",
       "        vertical-align: top;\n",
       "    }\n",
       "\n",
       "    .dataframe thead th {\n",
       "        text-align: right;\n",
       "    }\n",
       "</style>\n",
       "<table border=\"1\" class=\"dataframe\">\n",
       "  <thead>\n",
       "    <tr style=\"text-align: right;\">\n",
       "      <th></th>\n",
       "      <th>sex</th>\n",
       "      <th>race</th>\n",
       "      <th>age</th>\n",
       "      <th>juv_misd_count</th>\n",
       "      <th>juv_other_count</th>\n",
       "      <th>juv_fel_count</th>\n",
       "      <th>priors_count</th>\n",
       "      <th>is_recid</th>\n",
       "      <th>num_r_cases</th>\n",
       "      <th>age_binary</th>\n",
       "      <th>r_days_from_arrest</th>\n",
       "      <th>is_violent_recid</th>\n",
       "      <th>type_of_assessment</th>\n",
       "      <th>rec_supervision_level_text</th>\n",
       "      <th>marital_status</th>\n",
       "      <th>reoffending_risk</th>\n",
       "    </tr>\n",
       "  </thead>\n",
       "  <tbody>\n",
       "    <tr>\n",
       "      <th>0</th>\n",
       "      <td>1</td>\n",
       "      <td>0</td>\n",
       "      <td>25</td>\n",
       "      <td>0</td>\n",
       "      <td>0</td>\n",
       "      <td>0</td>\n",
       "      <td>2</td>\n",
       "      <td>1</td>\n",
       "      <td>2</td>\n",
       "      <td>1</td>\n",
       "      <td>1</td>\n",
       "      <td>0</td>\n",
       "      <td>Risk_of_Failure_to_Appear</td>\n",
       "      <td>Low</td>\n",
       "      <td>Single</td>\n",
       "      <td>1</td>\n",
       "    </tr>\n",
       "    <tr>\n",
       "      <th>1</th>\n",
       "      <td>1</td>\n",
       "      <td>0</td>\n",
       "      <td>51</td>\n",
       "      <td>0</td>\n",
       "      <td>0</td>\n",
       "      <td>0</td>\n",
       "      <td>3</td>\n",
       "      <td>0</td>\n",
       "      <td>2</td>\n",
       "      <td>1</td>\n",
       "      <td>0</td>\n",
       "      <td>0</td>\n",
       "      <td>Risk_of_Violence</td>\n",
       "      <td>Low</td>\n",
       "      <td>Single</td>\n",
       "      <td>1</td>\n",
       "    </tr>\n",
       "    <tr>\n",
       "      <th>2</th>\n",
       "      <td>0</td>\n",
       "      <td>0</td>\n",
       "      <td>22</td>\n",
       "      <td>0</td>\n",
       "      <td>0</td>\n",
       "      <td>0</td>\n",
       "      <td>1</td>\n",
       "      <td>0</td>\n",
       "      <td>2</td>\n",
       "      <td>0</td>\n",
       "      <td>0</td>\n",
       "      <td>0</td>\n",
       "      <td>Risk_of_Recidivism</td>\n",
       "      <td>Low</td>\n",
       "      <td>Significant_Other</td>\n",
       "      <td>1</td>\n",
       "    </tr>\n",
       "    <tr>\n",
       "      <th>3</th>\n",
       "      <td>1</td>\n",
       "      <td>0</td>\n",
       "      <td>27</td>\n",
       "      <td>0</td>\n",
       "      <td>1</td>\n",
       "      <td>0</td>\n",
       "      <td>18</td>\n",
       "      <td>1</td>\n",
       "      <td>1</td>\n",
       "      <td>1</td>\n",
       "      <td>0</td>\n",
       "      <td>0</td>\n",
       "      <td>Risk_of_Violence</td>\n",
       "      <td>High</td>\n",
       "      <td>Single</td>\n",
       "      <td>0</td>\n",
       "    </tr>\n",
       "    <tr>\n",
       "      <th>4</th>\n",
       "      <td>1</td>\n",
       "      <td>0</td>\n",
       "      <td>28</td>\n",
       "      <td>0</td>\n",
       "      <td>0</td>\n",
       "      <td>0</td>\n",
       "      <td>1</td>\n",
       "      <td>1</td>\n",
       "      <td>1</td>\n",
       "      <td>1</td>\n",
       "      <td>0</td>\n",
       "      <td>0</td>\n",
       "      <td>Risk_of_Failure_to_Appear</td>\n",
       "      <td>Medium</td>\n",
       "      <td>Single</td>\n",
       "      <td>1</td>\n",
       "    </tr>\n",
       "  </tbody>\n",
       "</table>\n",
       "</div>"
      ],
      "text/plain": [
       "   sex  race  age  juv_misd_count  juv_other_count  juv_fel_count  \\\n",
       "0    1     0   25               0                0              0   \n",
       "1    1     0   51               0                0              0   \n",
       "2    0     0   22               0                0              0   \n",
       "3    1     0   27               0                1              0   \n",
       "4    1     0   28               0                0              0   \n",
       "\n",
       "   priors_count  is_recid  num_r_cases  age_binary  r_days_from_arrest  \\\n",
       "0             2         1            2           1                   1   \n",
       "1             3         0            2           1                   0   \n",
       "2             1         0            2           0                   0   \n",
       "3            18         1            1           1                   0   \n",
       "4             1         1            1           1                   0   \n",
       "\n",
       "   is_violent_recid         type_of_assessment rec_supervision_level_text  \\\n",
       "0                 0  Risk_of_Failure_to_Appear                        Low   \n",
       "1                 0           Risk_of_Violence                        Low   \n",
       "2                 0         Risk_of_Recidivism                        Low   \n",
       "3                 0           Risk_of_Violence                       High   \n",
       "4                 0  Risk_of_Failure_to_Appear                     Medium   \n",
       "\n",
       "      marital_status  reoffending_risk  \n",
       "0             Single                 1  \n",
       "1             Single                 1  \n",
       "2  Significant_Other                 1  \n",
       "3             Single                 0  \n",
       "4             Single                 1  "
      ]
     },
     "execution_count": 97,
     "metadata": {},
     "output_type": "execute_result"
    }
   ],
   "source": [
    "#### Shuffling the data, so we take random observations for promoting and demoting\n",
    "\n",
    "mydata_sampled_shuf1 = mydata_sampled1.sample(frac=1).reset_index(drop=True)\n",
    "mydata_sampled_shuf1.head(5)"
   ]
  },
  {
   "cell_type": "code",
   "execution_count": 98,
   "metadata": {
    "scrolled": true
   },
   "outputs": [
    {
     "data": {
      "text/plain": [
       "race\n",
       "0    221508\n",
       "1    327084\n",
       "Name: race, dtype: int64"
      ]
     },
     "execution_count": 98,
     "metadata": {},
     "output_type": "execute_result"
    }
   ],
   "source": [
    "mydata2.groupby(['race'])['race'].count()"
   ]
  },
  {
   "cell_type": "code",
   "execution_count": 99,
   "metadata": {
    "scrolled": true
   },
   "outputs": [
    {
     "name": "stdout",
     "output_type": "stream",
     "text": [
      "race  reoffending_risk\n",
      "0     0                    60204\n",
      "      1                   161304\n",
      "1     0                   146761\n",
      "      1                   180323\n",
      "Name: reoffending_risk, dtype: int64\n",
      "race\n",
      "0    221508\n",
      "1    327084\n",
      "Name: race, dtype: int64\n"
     ]
    }
   ],
   "source": [
    "print (mydata2.groupby(['race','reoffending_risk'])['reoffending_risk'].count())\n",
    "print (mydata2.groupby(['race'])['race'].count())"
   ]
  },
  {
   "cell_type": "code",
   "execution_count": 100,
   "metadata": {},
   "outputs": [
    {
     "name": "stdout",
     "output_type": "stream",
     "text": [
      "Proportions:\n",
      "\n",
      "black/nonblack = \n",
      "1.4766238691153366\n",
      "\n",
      "black_risky/black_nonrisky = \n",
      "0.8138784292630447\n",
      "\n",
      "nonblack_risky/nonblack_nonrisky = \n",
      "1.3732331498288946\n",
      "\n",
      "black_riskiness/nonblack_riskiness = \n",
      "2.1808681672025725\n"
     ]
    }
   ],
   "source": [
    "print(\"Proportions:\")\n",
    "\n",
    "print(\"\\nblack/nonblack = \") \n",
    "print(327084/221508)\n",
    "\n",
    "print(\"\\nblack_risky/black_nonrisky = \") \n",
    "print (146761/180323)\n",
    "\n",
    "print(\"\\nnonblack_risky/nonblack_nonrisky = \") \n",
    "print (221508/161304)\n",
    "\n",
    "print(\"\\nblack_riskiness/nonblack_riskiness = \") \n",
    "print(0.8139/0.3732)"
   ]
  },
  {
   "cell_type": "markdown",
   "metadata": {},
   "source": [
    "## This means that even though the proportion of black in the data is almost 1.5 times bigger, the proportions of the the black being risky versus nonblack being risky is more than twice bigger. Which showes the bias in the data towards the black people."
   ]
  },
  {
   "cell_type": "code",
   "execution_count": 101,
   "metadata": {},
   "outputs": [
    {
     "data": {
      "text/plain": [
       "race  reoffending_risk\n",
       "0     0                   21494\n",
       "      1                   58506\n",
       "1     0                   35953\n",
       "      1                   44047\n",
       "Name: reoffending_risk, dtype: int64"
      ]
     },
     "execution_count": 101,
     "metadata": {},
     "output_type": "execute_result"
    }
   ],
   "source": [
    "mydata_sampled.groupby(['race','reoffending_risk'])['reoffending_risk'].count()"
   ]
  },
  {
   "cell_type": "code",
   "execution_count": 102,
   "metadata": {},
   "outputs": [
    {
     "name": "stdout",
     "output_type": "stream",
     "text": [
      "0.5435374018406683\n",
      "0.1999760004799904\n"
     ]
    }
   ],
   "source": [
    "print (28171/51829)\n",
    "print (13332/66668)"
   ]
  },
  {
   "cell_type": "code",
   "execution_count": 103,
   "metadata": {},
   "outputs": [
    {
     "data": {
      "text/plain": [
       "reoffending_risk\n",
       "0     57656\n",
       "1    102344\n",
       "Name: reoffending_risk, dtype: int64"
      ]
     },
     "execution_count": 103,
     "metadata": {},
     "output_type": "execute_result"
    }
   ],
   "source": [
    "mydata_sampled_shuf1 .groupby(['reoffending_risk'])['reoffending_risk'].count()"
   ]
  },
  {
   "cell_type": "code",
   "execution_count": 104,
   "metadata": {
    "scrolled": true
   },
   "outputs": [
    {
     "name": "stdout",
     "output_type": "stream",
     "text": [
      "**********\n"
     ]
    },
    {
     "data": {
      "text/plain": [
       "reoffending_risk\n",
       "0     55656\n",
       "1    104344\n",
       "Name: reoffending_risk, dtype: int64"
      ]
     },
     "execution_count": 104,
     "metadata": {},
     "output_type": "execute_result"
    }
   ],
   "source": [
    "              \n",
    "def promote(df, x, y):\n",
    "    count = 0\n",
    "    for index, row in df.iterrows():\n",
    "        if row[x]==1 and row[y]==0:\n",
    "            count = count + 1\n",
    "            df.at[index, y] = 1\n",
    "            if count==2000:\n",
    "                break\n",
    "            \n",
    "promote(mydata_sampled_shuf1 , 'race', 'reoffending_risk')\n",
    "\n",
    "print(\"**********\")\n",
    "mydata_sampled_shuf1 .groupby(['reoffending_risk'])['reoffending_risk'].count()"
   ]
  },
  {
   "cell_type": "code",
   "execution_count": 105,
   "metadata": {
    "scrolled": true
   },
   "outputs": [
    {
     "name": "stdout",
     "output_type": "stream",
     "text": [
      "**********\n"
     ]
    },
    {
     "data": {
      "text/plain": [
       "reoffending_risk\n",
       "0    67656\n",
       "1    92344\n",
       "Name: reoffending_risk, dtype: int64"
      ]
     },
     "execution_count": 105,
     "metadata": {},
     "output_type": "execute_result"
    }
   ],
   "source": [
    "def demote(df, x, y):\n",
    "    count = 0\n",
    "    for index, row in df.iterrows():\n",
    "        if row[x]==0 and row[y]==1:\n",
    "            count = count + 1\n",
    "            df.at[index, y] = 0\n",
    "            if count==12000:\n",
    "                break\n",
    "            \n",
    "demote(mydata_sampled_shuf1 , 'race', 'reoffending_risk')\n",
    "\n",
    "print(\"**********\")\n",
    "mydata_sampled_shuf1 .groupby(['reoffending_risk'])['reoffending_risk'].count()"
   ]
  },
  {
   "cell_type": "code",
   "execution_count": 106,
   "metadata": {},
   "outputs": [
    {
     "data": {
      "text/plain": [
       "race  reoffending_risk\n",
       "0     0                   33858\n",
       "      1                   46142\n",
       "1     0                   33798\n",
       "      1                   46202\n",
       "Name: reoffending_risk, dtype: int64"
      ]
     },
     "execution_count": 106,
     "metadata": {},
     "output_type": "execute_result"
    }
   ],
   "source": [
    "mydata_sampled_shuf1 .groupby(['race','reoffending_risk'])['reoffending_risk'].count()"
   ]
  },
  {
   "cell_type": "code",
   "execution_count": 107,
   "metadata": {},
   "outputs": [
    {
     "name": "stdout",
     "output_type": "stream",
     "text": [
      "nonblack_risky/nonblack_nonrisky = \n",
      "0.7246211222971953\n",
      "\n",
      "black_risky/black_nonrisky = \n",
      "0.7238778632533885\n"
     ]
    }
   ],
   "source": [
    "print(\"nonblack_risky/nonblack_nonrisky = \") \n",
    "print (33613/46387)\n",
    "print(\"\\nblack_risky/black_nonrisky = \") \n",
    "print (33593/46407)"
   ]
  },
  {
   "cell_type": "code",
   "execution_count": 108,
   "metadata": {
    "colab": {
     "autoexec": {
      "startup": false,
      "wait_interval": 0
     }
    },
    "colab_type": "code",
    "id": "eTEqQNFb7vnF"
   },
   "outputs": [],
   "source": [
    "mydata_sampled_shuf1.to_csv(\"~/crime222.csv\", encoding='utf-8', index=False)"
   ]
  },
  {
   "cell_type": "code",
   "execution_count": 109,
   "metadata": {},
   "outputs": [
    {
     "data": {
      "text/html": [
       "<div>\n",
       "<style scoped>\n",
       "    .dataframe tbody tr th:only-of-type {\n",
       "        vertical-align: middle;\n",
       "    }\n",
       "\n",
       "    .dataframe tbody tr th {\n",
       "        vertical-align: top;\n",
       "    }\n",
       "\n",
       "    .dataframe thead th {\n",
       "        text-align: right;\n",
       "    }\n",
       "</style>\n",
       "<table border=\"1\" class=\"dataframe\">\n",
       "  <thead>\n",
       "    <tr style=\"text-align: right;\">\n",
       "      <th></th>\n",
       "      <th>sex</th>\n",
       "      <th>race</th>\n",
       "      <th>age</th>\n",
       "      <th>juv_misd_count</th>\n",
       "      <th>juv_other_count</th>\n",
       "      <th>juv_fel_count</th>\n",
       "      <th>priors_count</th>\n",
       "      <th>is_recid</th>\n",
       "      <th>num_r_cases</th>\n",
       "      <th>age_binary</th>\n",
       "      <th>r_days_from_arrest</th>\n",
       "      <th>is_violent_recid</th>\n",
       "      <th>type_of_assessment</th>\n",
       "      <th>rec_supervision_level_text</th>\n",
       "      <th>marital_status</th>\n",
       "      <th>reoffending_risk</th>\n",
       "    </tr>\n",
       "  </thead>\n",
       "  <tbody>\n",
       "    <tr>\n",
       "      <th>0</th>\n",
       "      <td>1</td>\n",
       "      <td>0</td>\n",
       "      <td>25</td>\n",
       "      <td>0</td>\n",
       "      <td>0</td>\n",
       "      <td>0</td>\n",
       "      <td>2</td>\n",
       "      <td>1</td>\n",
       "      <td>2</td>\n",
       "      <td>1</td>\n",
       "      <td>1</td>\n",
       "      <td>0</td>\n",
       "      <td>Risk_of_Failure_to_Appear</td>\n",
       "      <td>Low</td>\n",
       "      <td>Single</td>\n",
       "      <td>0</td>\n",
       "    </tr>\n",
       "    <tr>\n",
       "      <th>1</th>\n",
       "      <td>1</td>\n",
       "      <td>0</td>\n",
       "      <td>51</td>\n",
       "      <td>0</td>\n",
       "      <td>0</td>\n",
       "      <td>0</td>\n",
       "      <td>3</td>\n",
       "      <td>0</td>\n",
       "      <td>2</td>\n",
       "      <td>1</td>\n",
       "      <td>0</td>\n",
       "      <td>0</td>\n",
       "      <td>Risk_of_Violence</td>\n",
       "      <td>Low</td>\n",
       "      <td>Single</td>\n",
       "      <td>0</td>\n",
       "    </tr>\n",
       "  </tbody>\n",
       "</table>\n",
       "</div>"
      ],
      "text/plain": [
       "   sex  race  age  juv_misd_count  juv_other_count  juv_fel_count  \\\n",
       "0    1     0   25               0                0              0   \n",
       "1    1     0   51               0                0              0   \n",
       "\n",
       "   priors_count  is_recid  num_r_cases  age_binary  r_days_from_arrest  \\\n",
       "0             2         1            2           1                   1   \n",
       "1             3         0            2           1                   0   \n",
       "\n",
       "   is_violent_recid         type_of_assessment rec_supervision_level_text  \\\n",
       "0                 0  Risk_of_Failure_to_Appear                        Low   \n",
       "1                 0           Risk_of_Violence                        Low   \n",
       "\n",
       "  marital_status  reoffending_risk  \n",
       "0         Single                 0  \n",
       "1         Single                 0  "
      ]
     },
     "execution_count": 109,
     "metadata": {},
     "output_type": "execute_result"
    }
   ],
   "source": [
    "mydata_sampled_shuf1.head(2)"
   ]
  },
  {
   "cell_type": "code",
   "execution_count": null,
   "metadata": {},
   "outputs": [],
   "source": []
  }
 ],
 "metadata": {
  "colab": {
   "default_view": {},
   "name": "MLproject-Copy06.06.ipynb",
   "provenance": [],
   "version": "0.3.2",
   "views": {}
  },
  "kernelspec": {
   "display_name": "Python 3",
   "language": "python",
   "name": "python3"
  },
  "language_info": {
   "codemirror_mode": {
    "name": "ipython",
    "version": 3
   },
   "file_extension": ".py",
   "mimetype": "text/x-python",
   "name": "python",
   "nbconvert_exporter": "python",
   "pygments_lexer": "ipython3",
   "version": "3.6.10"
  }
 },
 "nbformat": 4,
 "nbformat_minor": 1
}
